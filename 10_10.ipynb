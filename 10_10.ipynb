{
 "cells": [
  {
   "cell_type": "code",
   "execution_count": 1,
   "metadata": {},
   "outputs": [
    {
     "name": "stdout",
     "output_type": "stream",
     "text": [
      "numpy 1.17.4\n",
      "pandas 0.25.3\n",
      "sklearn 0.21.3\n",
      "tqdm 4.39.0\n",
      "xgboost 0.90\n",
      "seaborn 0.9.0\n",
      "matplotlib 3.1.1\n"
     ]
    }
   ],
   "source": [
    "#### import library\n",
    "#### define functions\n",
    "\n",
    "\n",
    "#Submit an all 0 submission, the score is 1.250111 in public and 1.236582 in private.\n",
    "# Not bad.\n",
    "\n",
    "\"\"\"\n",
    "numpy 1.17.4\n",
    "pandas 0.25.3\n",
    "sklearn 0.21.3\n",
    "tqdm 4.39.0\n",
    "xgboost 0.90\n",
    "seaborn 0.9.0\n",
    "matplotlib 3.1.1\n",
    "\n",
    "\n",
    "\"\"\"\n",
    "\n",
    "\n",
    "import numpy as np # linear algebra\n",
    "import pandas as pd # data processing, CSV file I/O (e.g. pd.read_csv)\n",
    "import sklearn\n",
    "from sklearn.metrics import r2_score\n",
    "#import itertools\n",
    "from itertools import product\n",
    "import gc\n",
    "import tqdm\n",
    "from tqdm import tqdm_notebook\n",
    "from sklearn.metrics import mean_squared_error, make_scorer\n",
    "from sklearn.model_selection import TimeSeriesSplit, GridSearchCV\n",
    "\n",
    "from math import sqrt\n",
    "\n",
    "import xgboost\n",
    "import xgboost as xgb\n",
    "import os\n",
    "\n",
    "import seaborn as sns\n",
    "\n",
    "import matplotlib\n",
    "import matplotlib.pyplot as plt\n",
    "%matplotlib inline\n",
    "import pickle\n",
    "\n",
    "for p in [np, pd, sklearn, tqdm, xgboost, sns, matplotlib]:\n",
    "    print (p.__name__, p.__version__)\n",
    "\n",
    "for dirname, _, filenames in os.walk('/kaggle/input'):\n",
    "    for filename in filenames:\n",
    "        print(os.path.join(dirname, filename))\n",
    "\n",
    "\n",
    "def downcast_dtypes(df):\n",
    "    '''\n",
    "        Changes column types in the dataframe: \n",
    "                \n",
    "                `float64` type to `float32`\n",
    "                `int64`   type to `int32`\n",
    "    '''\n",
    "    \n",
    "    # Select columns to downcast\n",
    "    float_cols = [c for c in df if df[c].dtype == \"float64\"]\n",
    "    int_cols =   [c for c in df if df[c].dtype == \"int64\"]\n",
    "    \n",
    "\n",
    "    df[float_cols] = df[float_cols].astype(np.float16)\n",
    "    df[int_cols]   = df[int_cols].astype(np.int16)\n",
    "    \n",
    "    return df\n",
    "\n",
    "def rmse(y, y_pred):\n",
    "    return np.sqrt(np.mean(np.square(y - y_pred)))\n",
    "\n",
    "####tmp2 = target_encoding(tmp, [\"shop_id\"], \"target\", \"shop_mean\", \"mean\")\n",
    "\n",
    "def target_encoding (df, index_cols, target, new_target_name, agg_func):\n",
    "    \n",
    "    df[new_target_name] = df.groupby(index_cols)[target].transform(agg_func)\n",
    "\n",
    "\n",
    "def create_lag (df, index_cols, time_col, target, agg_func, lag_periods):\n",
    "    new_features = []\n",
    "    for lag in tqdm_notebook(lag_periods):\n",
    "        #print (lag)\n",
    "        train_shift = df[index_cols + [target]].copy()\n",
    "        #print (\"done, copy\")\n",
    "\n",
    "        train_shift[time_col] = train_shift[time_col] + lag\n",
    "        #print (\"+, done\")\n",
    "\n",
    "        foo = lambda x: '{}_lag_{}'.format(x, lag) if x == target else x\n",
    "        train_shift = train_shift.rename(columns=foo)\n",
    "        #print (\"rename, done\")\n",
    "\n",
    "        new_feature = '{}_lag_{}'.format(target, lag)\n",
    "        new_features.append(new_feature)\n",
    "        #df.groupby(index_cols)[target].transform()\n",
    "\n",
    "        tmp = train_shift.groupby(index_cols).agg({new_feature: agg_func})\n",
    "\n",
    "        df = df.merge(tmp, on=index_cols, how='left').fillna(0)\n",
    "        #print (\"merge, done\")\n",
    "    \n",
    "    return df, new_features\n"
   ]
  },
  {
   "cell_type": "code",
   "execution_count": 2,
   "metadata": {},
   "outputs": [],
   "source": [
    "DATA_FOLDER = './kaggle/input/competitive-data-science-predict-future-sales/'\n",
    "\n",
    "transactions    = pd.read_csv(os.path.join(DATA_FOLDER, 'sales_train.csv'), parse_dates = True)\n",
    "items           = pd.read_csv(os.path.join(DATA_FOLDER, 'items.csv'))\n",
    "item_categories = pd.read_csv(os.path.join(DATA_FOLDER, 'item_categories.csv'))\n",
    "shops           = pd.read_csv(os.path.join(DATA_FOLDER, 'shops.csv'))\n",
    "en              = pd.read_csv(os.path.join(DATA_FOLDER, 'item_category_en.csv'))\n",
    "#sample_submission = pd.read_csv(os.path.join(DATA_FOLDER, 'sample_submission.csv'))\n",
    "\n",
    "test = pd.read_csv(os.path.join(DATA_FOLDER, 'test.csv'))"
   ]
  },
  {
   "cell_type": "code",
   "execution_count": 3,
   "metadata": {},
   "outputs": [
    {
     "data": {
      "text/plain": [
       "<matplotlib.axes._subplots.AxesSubplot at 0x7fb1e84dcf10>"
      ]
     },
     "execution_count": 3,
     "metadata": {},
     "output_type": "execute_result"
    },
    {
     "data": {
      "image/png": "[encoded data removed]",
      "text/plain": [
       "<Figure size 720x288 with 1 Axes>"
      ]
     },
     "metadata": {
      "needs_background": "light"
     },
     "output_type": "display_data"
    }
   ],
   "source": [
    "####investigate price variance\n",
    "\n",
    "plt.figure(figsize=(10,4))\n",
    "plt.xlim(transactions.item_price.min(), transactions.item_price.max()*1.1)\n",
    "    \n",
    "    #print (transactions[transactions[\"item_id\"] == i][\"item_price\"])\n",
    "sns.boxplot(x=transactions.item_price)\n",
    "\n",
    "\n"
   ]
  },
  {
   "cell_type": "code",
   "execution_count": 4,
   "metadata": {},
   "outputs": [
    {
     "data": {
      "text/plain": [
       "-1.0000            1\n",
       " 0.0700            2\n",
       " 0.0875            1\n",
       " 0.0900            1\n",
       " 0.1000         2932\n",
       "                ... \n",
       " 42990.0000        4\n",
       " 49782.0000        1\n",
       " 50999.0000        1\n",
       " 59200.0000        1\n",
       " 307980.0000       1\n",
       "Name: item_price, Length: 19993, dtype: int64"
      ]
     },
     "execution_count": 4,
     "metadata": {},
     "output_type": "execute_result"
    }
   ],
   "source": [
    "\n",
    "\n",
    "#To see the values\n",
    "transactions.item_price.value_counts().sort_index()\n"
   ]
  },
  {
   "cell_type": "markdown",
   "metadata": {},
   "source": [
    "It pops up some interesting things:\n",
    "\n",
    "1. The Ramind were sold for 522 people and it was all summed up in one line giving the price of 307980.\n",
    "\n",
    "2. The item Shipping (EMS) has a long array of prices and amounts of sales, all from shop 12. However, in the test set, we need to predict this item with 41 other shops. In transaction, their single price ranges from 38 to 1930 a piece. This item seems to be wild card.\n",
    "\n",
    "3. The item \"Microsoft Xbox One 1TB  Limited Edition\" occupies a few spots in the top price items."
   ]
  },
  {
   "cell_type": "code",
   "execution_count": 5,
   "metadata": {},
   "outputs": [
    {
     "data": {
      "text/html": [
       "<div>\n",
       "<style scoped>\n",
       "    .dataframe tbody tr th:only-of-type {\n",
       "        vertical-align: middle;\n",
       "    }\n",
       "\n",
       "    .dataframe tbody tr th {\n",
       "        vertical-align: top;\n",
       "    }\n",
       "\n",
       "    .dataframe thead th {\n",
       "        text-align: right;\n",
       "    }\n",
       "</style>\n",
       "<table border=\"1\" class=\"dataframe\">\n",
       "  <thead>\n",
       "    <tr style=\"text-align: right;\">\n",
       "      <th></th>\n",
       "      <th>date</th>\n",
       "      <th>date_block_num</th>\n",
       "      <th>shop_id</th>\n",
       "      <th>item_id</th>\n",
       "      <th>item_price</th>\n",
       "      <th>item_cnt_day</th>\n",
       "    </tr>\n",
       "  </thead>\n",
       "  <tbody>\n",
       "    <tr>\n",
       "      <th>484683</th>\n",
       "      <td>15.05.2013</td>\n",
       "      <td>4</td>\n",
       "      <td>32</td>\n",
       "      <td>2973</td>\n",
       "      <td>-1.0</td>\n",
       "      <td>1.0</td>\n",
       "    </tr>\n",
       "  </tbody>\n",
       "</table>\n",
       "</div>"
      ],
      "text/plain": [
       "              date  date_block_num  shop_id  item_id  item_price  item_cnt_day\n",
       "484683  15.05.2013               4       32     2973        -1.0           1.0"
      ]
     },
     "execution_count": 5,
     "metadata": {},
     "output_type": "execute_result"
    }
   ],
   "source": [
    "###also there is one price of -1\n",
    "transactions.item_price.min()\n",
    "\n",
    "transactions[transactions.item_price == transactions.item_price.min()]"
   ]
  },
  {
   "cell_type": "code",
   "execution_count": 6,
   "metadata": {},
   "outputs": [
    {
     "data": {
      "text/plain": [
       "<matplotlib.axes._subplots.AxesSubplot at 0x7fb1b34eda50>"
      ]
     },
     "execution_count": 6,
     "metadata": {},
     "output_type": "execute_result"
    },
    {
     "data": {
      "image/png": "[encoded data removed]",
      "text/plain": [
       "<Figure size 720x288 with 1 Axes>"
      ]
     },
     "metadata": {
      "needs_background": "light"
     },
     "output_type": "display_data"
    }
   ],
   "source": [
    "####investigate item_cnt_day variance\n",
    "\n",
    "plt.figure(figsize=(10,4))\n",
    "plt.xlim(transactions.item_cnt_day.min(), transactions.item_cnt_day.max()*1.1)\n",
    "    \n",
    "    #print (transactions[transactions[\"item_id\"] == i][\"item_price\"])\n",
    "sns.boxplot(x=transactions.item_cnt_day)\n",
    "\n"
   ]
  },
  {
   "cell_type": "code",
   "execution_count": 7,
   "metadata": {},
   "outputs": [
    {
     "data": {
      "text/plain": [
       "-22.0      1\n",
       "-16.0      1\n",
       "-9.0       1\n",
       "-6.0       2\n",
       "-5.0       4\n",
       "          ..\n",
       " 624.0     1\n",
       " 637.0     1\n",
       " 669.0     1\n",
       " 1000.0    1\n",
       " 2169.0    1\n",
       "Name: item_cnt_day, Length: 198, dtype: int64"
      ]
     },
     "execution_count": 7,
     "metadata": {},
     "output_type": "execute_result"
    }
   ],
   "source": [
    "#To see the values\n",
    "transactions.item_cnt_day.value_counts().sort_index()"
   ]
  },
  {
   "cell_type": "markdown",
   "metadata": {},
   "source": [
    "According to https://www.kaggle.com/dlarionov/feature-engineering-xgboost, there are duplicate shops"
   ]
  },
  {
   "cell_type": "code",
   "execution_count": 8,
   "metadata": {},
   "outputs": [
    {
     "data": {
      "text/html": [
       "<div>\n",
       "<style scoped>\n",
       "    .dataframe tbody tr th:only-of-type {\n",
       "        vertical-align: middle;\n",
       "    }\n",
       "\n",
       "    .dataframe tbody tr th {\n",
       "        vertical-align: top;\n",
       "    }\n",
       "\n",
       "    .dataframe thead th {\n",
       "        text-align: right;\n",
       "    }\n",
       "</style>\n",
       "<table border=\"1\" class=\"dataframe\">\n",
       "  <thead>\n",
       "    <tr style=\"text-align: right;\">\n",
       "      <th></th>\n",
       "      <th>shop_name</th>\n",
       "      <th>shop_id</th>\n",
       "    </tr>\n",
       "  </thead>\n",
       "  <tbody>\n",
       "    <tr>\n",
       "      <th>57</th>\n",
       "      <td>Якутск Орджоникидзе, 56</td>\n",
       "      <td>57</td>\n",
       "    </tr>\n",
       "  </tbody>\n",
       "</table>\n",
       "</div>"
      ],
      "text/plain": [
       "                  shop_name  shop_id\n",
       "57  Якутск Орджоникидзе, 56       57"
      ]
     },
     "execution_count": 8,
     "metadata": {},
     "output_type": "execute_result"
    }
   ],
   "source": [
    "shops[shops.shop_id == 57]"
   ]
  },
  {
   "cell_type": "code",
   "execution_count": 9,
   "metadata": {},
   "outputs": [
    {
     "data": {
      "text/html": [
       "<div>\n",
       "<style scoped>\n",
       "    .dataframe tbody tr th:only-of-type {\n",
       "        vertical-align: middle;\n",
       "    }\n",
       "\n",
       "    .dataframe tbody tr th {\n",
       "        vertical-align: top;\n",
       "    }\n",
       "\n",
       "    .dataframe thead th {\n",
       "        text-align: right;\n",
       "    }\n",
       "</style>\n",
       "<table border=\"1\" class=\"dataframe\">\n",
       "  <thead>\n",
       "    <tr style=\"text-align: right;\">\n",
       "      <th></th>\n",
       "      <th>shop_name</th>\n",
       "      <th>shop_id</th>\n",
       "    </tr>\n",
       "  </thead>\n",
       "  <tbody>\n",
       "    <tr>\n",
       "      <th>0</th>\n",
       "      <td>!Якутск Орджоникидзе, 56 фран</td>\n",
       "      <td>0</td>\n",
       "    </tr>\n",
       "  </tbody>\n",
       "</table>\n",
       "</div>"
      ],
      "text/plain": [
       "                       shop_name  shop_id\n",
       "0  !Якутск Орджоникидзе, 56 фран        0"
      ]
     },
     "execution_count": 9,
     "metadata": {},
     "output_type": "execute_result"
    }
   ],
   "source": [
    "shops[shops.shop_id == 0]"
   ]
  },
  {
   "cell_type": "code",
   "execution_count": 10,
   "metadata": {},
   "outputs": [
    {
     "data": {
      "text/html": [
       "<div>\n",
       "<style scoped>\n",
       "    .dataframe tbody tr th:only-of-type {\n",
       "        vertical-align: middle;\n",
       "    }\n",
       "\n",
       "    .dataframe tbody tr th {\n",
       "        vertical-align: top;\n",
       "    }\n",
       "\n",
       "    .dataframe thead th {\n",
       "        text-align: right;\n",
       "    }\n",
       "</style>\n",
       "<table border=\"1\" class=\"dataframe\">\n",
       "  <thead>\n",
       "    <tr style=\"text-align: right;\">\n",
       "      <th></th>\n",
       "      <th>shop_name</th>\n",
       "      <th>shop_id</th>\n",
       "    </tr>\n",
       "  </thead>\n",
       "  <tbody>\n",
       "    <tr>\n",
       "      <th>1</th>\n",
       "      <td>!Якутск ТЦ \"Центральный\" фран</td>\n",
       "      <td>1</td>\n",
       "    </tr>\n",
       "  </tbody>\n",
       "</table>\n",
       "</div>"
      ],
      "text/plain": [
       "                       shop_name  shop_id\n",
       "1  !Якутск ТЦ \"Центральный\" фран        1"
      ]
     },
     "execution_count": 10,
     "metadata": {},
     "output_type": "execute_result"
    }
   ],
   "source": [
    "shops[shops.shop_id == 1]"
   ]
  },
  {
   "cell_type": "code",
   "execution_count": 11,
   "metadata": {},
   "outputs": [
    {
     "data": {
      "text/html": [
       "<div>\n",
       "<style scoped>\n",
       "    .dataframe tbody tr th:only-of-type {\n",
       "        vertical-align: middle;\n",
       "    }\n",
       "\n",
       "    .dataframe tbody tr th {\n",
       "        vertical-align: top;\n",
       "    }\n",
       "\n",
       "    .dataframe thead th {\n",
       "        text-align: right;\n",
       "    }\n",
       "</style>\n",
       "<table border=\"1\" class=\"dataframe\">\n",
       "  <thead>\n",
       "    <tr style=\"text-align: right;\">\n",
       "      <th></th>\n",
       "      <th>shop_name</th>\n",
       "      <th>shop_id</th>\n",
       "    </tr>\n",
       "  </thead>\n",
       "  <tbody>\n",
       "    <tr>\n",
       "      <th>58</th>\n",
       "      <td>Якутск ТЦ \"Центральный\"</td>\n",
       "      <td>58</td>\n",
       "    </tr>\n",
       "  </tbody>\n",
       "</table>\n",
       "</div>"
      ],
      "text/plain": [
       "                  shop_name  shop_id\n",
       "58  Якутск ТЦ \"Центральный\"       58"
      ]
     },
     "execution_count": 11,
     "metadata": {},
     "output_type": "execute_result"
    }
   ],
   "source": [
    "shops[shops.shop_id == 58]"
   ]
  },
  {
   "cell_type": "code",
   "execution_count": 12,
   "metadata": {},
   "outputs": [
    {
     "data": {
      "text/html": [
       "<div>\n",
       "<style scoped>\n",
       "    .dataframe tbody tr th:only-of-type {\n",
       "        vertical-align: middle;\n",
       "    }\n",
       "\n",
       "    .dataframe tbody tr th {\n",
       "        vertical-align: top;\n",
       "    }\n",
       "\n",
       "    .dataframe thead th {\n",
       "        text-align: right;\n",
       "    }\n",
       "</style>\n",
       "<table border=\"1\" class=\"dataframe\">\n",
       "  <thead>\n",
       "    <tr style=\"text-align: right;\">\n",
       "      <th></th>\n",
       "      <th>shop_name</th>\n",
       "      <th>shop_id</th>\n",
       "    </tr>\n",
       "  </thead>\n",
       "  <tbody>\n",
       "    <tr>\n",
       "      <th>10</th>\n",
       "      <td>Жуковский ул. Чкалова 39м?</td>\n",
       "      <td>10</td>\n",
       "    </tr>\n",
       "  </tbody>\n",
       "</table>\n",
       "</div>"
      ],
      "text/plain": [
       "                     shop_name  shop_id\n",
       "10  Жуковский ул. Чкалова 39м?       10"
      ]
     },
     "execution_count": 12,
     "metadata": {},
     "output_type": "execute_result"
    }
   ],
   "source": [
    "shops[shops.shop_id == 10]"
   ]
  },
  {
   "cell_type": "code",
   "execution_count": 13,
   "metadata": {},
   "outputs": [
    {
     "data": {
      "text/html": [
       "<div>\n",
       "<style scoped>\n",
       "    .dataframe tbody tr th:only-of-type {\n",
       "        vertical-align: middle;\n",
       "    }\n",
       "\n",
       "    .dataframe tbody tr th {\n",
       "        vertical-align: top;\n",
       "    }\n",
       "\n",
       "    .dataframe thead th {\n",
       "        text-align: right;\n",
       "    }\n",
       "</style>\n",
       "<table border=\"1\" class=\"dataframe\">\n",
       "  <thead>\n",
       "    <tr style=\"text-align: right;\">\n",
       "      <th></th>\n",
       "      <th>shop_name</th>\n",
       "      <th>shop_id</th>\n",
       "    </tr>\n",
       "  </thead>\n",
       "  <tbody>\n",
       "    <tr>\n",
       "      <th>11</th>\n",
       "      <td>Жуковский ул. Чкалова 39м²</td>\n",
       "      <td>11</td>\n",
       "    </tr>\n",
       "  </tbody>\n",
       "</table>\n",
       "</div>"
      ],
      "text/plain": [
       "                     shop_name  shop_id\n",
       "11  Жуковский ул. Чкалова 39м²       11"
      ]
     },
     "execution_count": 13,
     "metadata": {},
     "output_type": "execute_result"
    }
   ],
   "source": [
    "shops[shops.shop_id == 11]"
   ]
  },
  {
   "cell_type": "code",
   "execution_count": 14,
   "metadata": {},
   "outputs": [],
   "source": [
    "###fix the outliers\n",
    "\n",
    "transactions = transactions[transactions.item_price< 80000]\n",
    "transactions = transactions[transactions.item_cnt_day < 1001]\n",
    "\n",
    "median = transactions[(transactions.shop_id==32)&(transactions.item_id==2973)&(transactions.date_block_num==4)&(transactions.item_price>0)].item_price.median()\n",
    "transactions.loc[transactions.item_price<0, 'item_price'] = median\n",
    "\n",
    "\n",
    "# Якутск Орджоникидзе, 56\n",
    "transactions.loc[transactions.shop_id == 0, 'shop_id'] = 57\n",
    "test.loc[test.shop_id == 0, 'shop_id'] = 57\n",
    "# Якутск ТЦ \"Центральный\"\n",
    "transactions.loc[transactions.shop_id == 1, 'shop_id'] = 58\n",
    "test.loc[test.shop_id == 1, 'shop_id'] = 58\n",
    "# Жуковский ул. Чкалова 39м²\n",
    "transactions.loc[transactions.shop_id == 10, 'shop_id'] = 11\n",
    "test.loc[test.shop_id == 10, 'shop_id'] = 11"
   ]
  },
  {
   "cell_type": "code",
   "execution_count": 15,
   "metadata": {},
   "outputs": [
    {
     "name": "stderr",
     "output_type": "stream",
     "text": [
      "/home/sih13/anaconda3/envs/keras-gpu/lib/python3.7/site-packages/pandas/core/groupby/generic.py:1455: FutureWarning: using a dict with renaming is deprecated and will be removed\n",
      "in a future version.\n",
      "\n",
      "For column-specific groupby renaming, use named aggregation\n",
      "\n",
      "    >>> df.groupby(...).agg(name=('column', aggfunc))\n",
      "\n",
      "  return super().aggregate(arg, *args, **kwargs)\n"
     ]
    }
   ],
   "source": [
    "####Borrow the codes from Programming_assignment_week_3\n",
    "\n",
    "# Create \"grid\" with columns\n",
    "index_cols = ['shop_id', 'item_id', 'date_block_num']\n",
    "\n",
    "# For every month we create a grid from all shops/items combinations from that month\n",
    "grid = [] \n",
    "for block_num in transactions['date_block_num'].unique():\n",
    "    cur_shops = transactions.loc[transactions['date_block_num'] == block_num, 'shop_id'].unique()\n",
    "    cur_items = transactions.loc[transactions['date_block_num'] == block_num, 'item_id'].unique()\n",
    "    grid.append(np.array(list(product(*[cur_shops, cur_items, [block_num]])),dtype='int32'))\n",
    "\n",
    "# Turn the grid into a dataframe\n",
    "grid = pd.DataFrame(np.vstack(grid), columns = index_cols,dtype=np.int32)\n",
    "\n",
    "# Groupby data to get shop-item-month aggregates\n",
    "gb = transactions.groupby(index_cols,as_index=False).agg({'item_cnt_day':{'target':'sum'}, 'item_price': {'item_price': \"mean\"}})\n",
    "# Fix column names\n",
    "gb.columns = [col[0] if col[-1]=='' else col[-1] for col in gb.columns.values] \n",
    "# Join it to the grid\n",
    "all_data = pd.merge(grid, gb, how='left', on=index_cols).fillna(0)\n",
    "all_data[\"target\"] = all_data[\"target\"].clip(0,20)\n"
   ]
  },
  {
   "cell_type": "code",
   "execution_count": 16,
   "metadata": {},
   "outputs": [
    {
     "data": {
      "text/plain": [
       "10913804"
      ]
     },
     "execution_count": 16,
     "metadata": {},
     "output_type": "execute_result"
    }
   ],
   "source": [
    "len(all_data)"
   ]
  },
  {
   "cell_type": "code",
   "execution_count": 17,
   "metadata": {},
   "outputs": [
    {
     "data": {
      "text/html": [
       "<div>\n",
       "<style scoped>\n",
       "    .dataframe tbody tr th:only-of-type {\n",
       "        vertical-align: middle;\n",
       "    }\n",
       "\n",
       "    .dataframe tbody tr th {\n",
       "        vertical-align: top;\n",
       "    }\n",
       "\n",
       "    .dataframe thead th {\n",
       "        text-align: right;\n",
       "    }\n",
       "</style>\n",
       "<table border=\"1\" class=\"dataframe\">\n",
       "  <thead>\n",
       "    <tr style=\"text-align: right;\">\n",
       "      <th></th>\n",
       "      <th>shop_id</th>\n",
       "      <th>item_id</th>\n",
       "      <th>date_block_num</th>\n",
       "      <th>target</th>\n",
       "      <th>item_price</th>\n",
       "    </tr>\n",
       "  </thead>\n",
       "  <tbody>\n",
       "    <tr>\n",
       "      <th>0</th>\n",
       "      <td>59</td>\n",
       "      <td>22154</td>\n",
       "      <td>0</td>\n",
       "      <td>1.0</td>\n",
       "      <td>999.0</td>\n",
       "    </tr>\n",
       "    <tr>\n",
       "      <th>1</th>\n",
       "      <td>59</td>\n",
       "      <td>2552</td>\n",
       "      <td>0</td>\n",
       "      <td>0.0</td>\n",
       "      <td>0.0</td>\n",
       "    </tr>\n",
       "    <tr>\n",
       "      <th>2</th>\n",
       "      <td>59</td>\n",
       "      <td>2554</td>\n",
       "      <td>0</td>\n",
       "      <td>0.0</td>\n",
       "      <td>0.0</td>\n",
       "    </tr>\n",
       "    <tr>\n",
       "      <th>3</th>\n",
       "      <td>59</td>\n",
       "      <td>2555</td>\n",
       "      <td>0</td>\n",
       "      <td>0.0</td>\n",
       "      <td>0.0</td>\n",
       "    </tr>\n",
       "    <tr>\n",
       "      <th>4</th>\n",
       "      <td>59</td>\n",
       "      <td>2564</td>\n",
       "      <td>0</td>\n",
       "      <td>0.0</td>\n",
       "      <td>0.0</td>\n",
       "    </tr>\n",
       "  </tbody>\n",
       "</table>\n",
       "</div>"
      ],
      "text/plain": [
       "   shop_id  item_id  date_block_num  target  item_price\n",
       "0       59    22154               0     1.0       999.0\n",
       "1       59     2552               0     0.0         0.0\n",
       "2       59     2554               0     0.0         0.0\n",
       "3       59     2555               0     0.0         0.0\n",
       "4       59     2564               0     0.0         0.0"
      ]
     },
     "execution_count": 17,
     "metadata": {},
     "output_type": "execute_result"
    }
   ],
   "source": [
    "all_data.head()"
   ]
  },
  {
   "cell_type": "code",
   "execution_count": 18,
   "metadata": {},
   "outputs": [
    {
     "data": {
      "text/plain": [
       "42    5100\n",
       "Name: item_count, dtype: int64"
      ]
     },
     "execution_count": 18,
     "metadata": {},
     "output_type": "execute_result"
    }
   ],
   "source": [
    "## check for data leak in test\n",
    "\n",
    "test[\"item_id\"].value_counts().to_frame(\"item_count\")[\"item_count\"].value_counts()"
   ]
  },
  {
   "cell_type": "code",
   "execution_count": 19,
   "metadata": {},
   "outputs": [
    {
     "data": {
      "text/plain": [
       "59    5100\n",
       "16    5100\n",
       "28    5100\n",
       "26    5100\n",
       "25    5100\n",
       "24    5100\n",
       "22    5100\n",
       "21    5100\n",
       "19    5100\n",
       "18    5100\n",
       "15    5100\n",
       "58    5100\n",
       "14    5100\n",
       "12    5100\n",
       "11    5100\n",
       "7     5100\n",
       "6     5100\n",
       "5     5100\n",
       "4     5100\n",
       "3     5100\n",
       "31    5100\n",
       "34    5100\n",
       "35    5100\n",
       "36    5100\n",
       "57    5100\n",
       "56    5100\n",
       "55    5100\n",
       "53    5100\n",
       "52    5100\n",
       "50    5100\n",
       "49    5100\n",
       "48    5100\n",
       "47    5100\n",
       "46    5100\n",
       "45    5100\n",
       "44    5100\n",
       "42    5100\n",
       "41    5100\n",
       "39    5100\n",
       "38    5100\n",
       "37    5100\n",
       "2     5100\n",
       "Name: shop_id, dtype: int64"
      ]
     },
     "execution_count": 19,
     "metadata": {},
     "output_type": "execute_result"
    }
   ],
   "source": [
    "test[\"shop_id\"].value_counts()"
   ]
  },
  {
   "cell_type": "code",
   "execution_count": 20,
   "metadata": {},
   "outputs": [],
   "source": [
    "test = test.merge(items[[\"item_id\", \"item_category_id\"]], on = [\"item_id\"], how=\"left\")\n"
   ]
  },
  {
   "cell_type": "code",
   "execution_count": 21,
   "metadata": {},
   "outputs": [
    {
     "data": {
      "text/html": [
       "<div>\n",
       "<style scoped>\n",
       "    .dataframe tbody tr th:only-of-type {\n",
       "        vertical-align: middle;\n",
       "    }\n",
       "\n",
       "    .dataframe tbody tr th {\n",
       "        vertical-align: top;\n",
       "    }\n",
       "\n",
       "    .dataframe thead th {\n",
       "        text-align: right;\n",
       "    }\n",
       "</style>\n",
       "<table border=\"1\" class=\"dataframe\">\n",
       "  <thead>\n",
       "    <tr style=\"text-align: right;\">\n",
       "      <th></th>\n",
       "      <th>category_count</th>\n",
       "    </tr>\n",
       "  </thead>\n",
       "  <tbody>\n",
       "    <tr>\n",
       "      <th>40</th>\n",
       "      <td>32340</td>\n",
       "    </tr>\n",
       "    <tr>\n",
       "      <th>55</th>\n",
       "      <td>28224</td>\n",
       "    </tr>\n",
       "    <tr>\n",
       "      <th>37</th>\n",
       "      <td>13902</td>\n",
       "    </tr>\n",
       "    <tr>\n",
       "      <th>31</th>\n",
       "      <td>11634</td>\n",
       "    </tr>\n",
       "    <tr>\n",
       "      <th>58</th>\n",
       "      <td>9366</td>\n",
       "    </tr>\n",
       "    <tr>\n",
       "      <th>...</th>\n",
       "      <td>...</td>\n",
       "    </tr>\n",
       "    <tr>\n",
       "      <th>11</th>\n",
       "      <td>42</td>\n",
       "    </tr>\n",
       "    <tr>\n",
       "      <th>79</th>\n",
       "      <td>42</td>\n",
       "    </tr>\n",
       "    <tr>\n",
       "      <th>71</th>\n",
       "      <td>42</td>\n",
       "    </tr>\n",
       "    <tr>\n",
       "      <th>74</th>\n",
       "      <td>42</td>\n",
       "    </tr>\n",
       "    <tr>\n",
       "      <th>0</th>\n",
       "      <td>42</td>\n",
       "    </tr>\n",
       "  </tbody>\n",
       "</table>\n",
       "<p>62 rows × 1 columns</p>\n",
       "</div>"
      ],
      "text/plain": [
       "    category_count\n",
       "40           32340\n",
       "55           28224\n",
       "37           13902\n",
       "31           11634\n",
       "58            9366\n",
       "..             ...\n",
       "11              42\n",
       "79              42\n",
       "71              42\n",
       "74              42\n",
       "0               42\n",
       "\n",
       "[62 rows x 1 columns]"
      ]
     },
     "execution_count": 21,
     "metadata": {},
     "output_type": "execute_result"
    }
   ],
   "source": [
    "test[\"item_category_id\"].value_counts().to_frame(\"category_count\")"
   ]
  },
  {
   "cell_type": "code",
   "execution_count": 22,
   "metadata": {},
   "outputs": [
    {
     "data": {
      "text/plain": [
       "<matplotlib.axes._subplots.AxesSubplot at 0x7fb1b348a5d0>"
      ]
     },
     "execution_count": 22,
     "metadata": {},
     "output_type": "execute_result"
    },
    {
     "data": {
      "image/png": "[encoded data removed]",
      "text/plain": [
       "<Figure size 432x288 with 1 Axes>"
      ]
     },
     "metadata": {
      "needs_background": "light"
     },
     "output_type": "display_data"
    }
   ],
   "source": [
    "test[\"item_category_id\"].value_counts().to_frame(\"category_count\")[\"category_count\"].value_counts().plot(kind='bar')"
   ]
  },
  {
   "cell_type": "markdown",
   "metadata": {},
   "source": [
    "So there are 5100 items and all have been chosen 42 times and 42 shops and all have been chosen 5100 times. The categories are unevenly distributed, but it seems 42 is magic number too because 6 categories appear 42 tims and 3 categories 84 times and so on. However. 1. Time to investigate some leak? 2. It also implies that many shop-item combi may not exist in reality, that is, certain shops don't sell many of the items in the test set, result in a safe default values of 0."
   ]
  },
  {
   "cell_type": "code",
   "execution_count": 23,
   "metadata": {},
   "outputs": [
    {
     "name": "stdout",
     "output_type": "stream",
     "text": [
      "Doing target_shop\n",
      "Doing target_item\n",
      "Doing target_item_shop\n",
      "Doing price_target_item_shop\n",
      "Doing target_category\n"
     ]
    }
   ],
   "source": [
    "###### target encoding several features\n",
    "\n",
    "print (\"Doing target_shop\")\n",
    "\n",
    "\n",
    "\n",
    "target_encoding(all_data, ['shop_id', 'date_block_num'], \"target\", \"target_shop\", \"sum\")\n",
    "\n",
    "\n",
    "\n",
    "print (\"Doing target_item\")\n",
    "\n",
    "target_encoding(all_data, ['item_id', 'date_block_num'], \"target\", \"target_item\", \"mean\")\n",
    "\n",
    "\n",
    "\n",
    "print (\"Doing target_item_shop\")\n",
    "\n",
    "target_encoding(all_data, ['item_id', \"shop_id\", 'date_block_num'], \"target\", \"target_item_shop\", \"sum\")\n",
    "\n",
    "\n",
    "print (\"Doing price_target_item_shop\")\n",
    "\n",
    "target_encoding(all_data, ['item_id', \"shop_id\", 'date_block_num'], \"item_price\", \"price_target_item_shop\", \"mean\")\n",
    "\n",
    "\n",
    "all_data = all_data.merge(items[[\"item_id\", \"item_category_id\"]], on = [\"item_id\"], how=\"left\")\n",
    "\n",
    "print (\"Doing target_category\")\n",
    "\n",
    "target_encoding(all_data, ['shop_id', 'item_category_id', 'date_block_num'], \"target\", \"target_category_shop\", \"sum\")\n",
    "\n",
    "\n",
    "# Downcast dtypes from 64 to 32 bit to save memory\n",
    "all_data = downcast_dtypes(all_data)\n",
    "\n",
    "gc.collect();"
   ]
  },
  {
   "cell_type": "code",
   "execution_count": 24,
   "metadata": {},
   "outputs": [
    {
     "name": "stderr",
     "output_type": "stream",
     "text": [
      "/home/sih13/anaconda3/envs/keras-gpu/lib/python3.7/site-packages/ipykernel_launcher.py:14: FutureWarning: Sorting because non-concatenation axis is not aligned. A future version\n",
      "of pandas will change to not sort by default.\n",
      "\n",
      "To accept the future behavior, pass 'sort=False'.\n",
      "\n",
      "To retain the current behavior and silence the warning, pass 'sort=True'.\n",
      "\n",
      "  \n"
     ]
    }
   ],
   "source": [
    "#### combine train test, then do the time lag\n",
    "\n",
    "\n",
    "test.sort_values(\"ID\", inplace=True)\n",
    "\n",
    "test[\"target\"] =0\n",
    "test[\"item_price\"] =0\n",
    "test[\"date_block_num\"] = transactions[\"date_block_num\"].max() + 1\n",
    "test[\"target_shop\"] = 0\n",
    "test[\"target_item\"] = 0\n",
    "test[\"target_category_shop\"] = 0\n",
    "test[\"target_item_shop\"] = 0\n",
    "\n",
    "train_test_together = pd.concat([all_data, test])\n"
   ]
  },
  {
   "cell_type": "code",
   "execution_count": 25,
   "metadata": {},
   "outputs": [
    {
     "data": {
      "text/html": [
       "<div>\n",
       "<style scoped>\n",
       "    .dataframe tbody tr th:only-of-type {\n",
       "        vertical-align: middle;\n",
       "    }\n",
       "\n",
       "    .dataframe tbody tr th {\n",
       "        vertical-align: top;\n",
       "    }\n",
       "\n",
       "    .dataframe thead th {\n",
       "        text-align: right;\n",
       "    }\n",
       "</style>\n",
       "<table border=\"1\" class=\"dataframe\">\n",
       "  <thead>\n",
       "    <tr style=\"text-align: right;\">\n",
       "      <th></th>\n",
       "      <th>ID</th>\n",
       "      <th>date_block_num</th>\n",
       "      <th>item_category_id</th>\n",
       "      <th>item_id</th>\n",
       "      <th>item_price</th>\n",
       "      <th>price_target_item_shop</th>\n",
       "      <th>shop_id</th>\n",
       "      <th>target</th>\n",
       "      <th>target_category_shop</th>\n",
       "      <th>target_item</th>\n",
       "      <th>target_item_shop</th>\n",
       "      <th>target_shop</th>\n",
       "    </tr>\n",
       "  </thead>\n",
       "  <tbody>\n",
       "    <tr>\n",
       "      <th>6593072</th>\n",
       "      <td>NaN</td>\n",
       "      <td>18</td>\n",
       "      <td>30</td>\n",
       "      <td>2252</td>\n",
       "      <td>0.0</td>\n",
       "      <td>0.0</td>\n",
       "      <td>34</td>\n",
       "      <td>0.0</td>\n",
       "      <td>0.0</td>\n",
       "      <td>1.559570</td>\n",
       "      <td>0.0</td>\n",
       "      <td>2.0</td>\n",
       "    </tr>\n",
       "    <tr>\n",
       "      <th>6875754</th>\n",
       "      <td>NaN</td>\n",
       "      <td>19</td>\n",
       "      <td>30</td>\n",
       "      <td>2252</td>\n",
       "      <td>418.5</td>\n",
       "      <td>418.5</td>\n",
       "      <td>34</td>\n",
       "      <td>1.0</td>\n",
       "      <td>72.0</td>\n",
       "      <td>1.784180</td>\n",
       "      <td>1.0</td>\n",
       "      <td>368.0</td>\n",
       "    </tr>\n",
       "    <tr>\n",
       "      <th>7234019</th>\n",
       "      <td>NaN</td>\n",
       "      <td>20</td>\n",
       "      <td>30</td>\n",
       "      <td>2252</td>\n",
       "      <td>419.0</td>\n",
       "      <td>419.0</td>\n",
       "      <td>34</td>\n",
       "      <td>1.0</td>\n",
       "      <td>49.0</td>\n",
       "      <td>1.200195</td>\n",
       "      <td>1.0</td>\n",
       "      <td>400.0</td>\n",
       "    </tr>\n",
       "    <tr>\n",
       "      <th>7713926</th>\n",
       "      <td>NaN</td>\n",
       "      <td>21</td>\n",
       "      <td>30</td>\n",
       "      <td>2252</td>\n",
       "      <td>419.0</td>\n",
       "      <td>419.0</td>\n",
       "      <td>34</td>\n",
       "      <td>1.0</td>\n",
       "      <td>52.0</td>\n",
       "      <td>1.750000</td>\n",
       "      <td>1.0</td>\n",
       "      <td>317.0</td>\n",
       "    </tr>\n",
       "    <tr>\n",
       "      <th>7807836</th>\n",
       "      <td>NaN</td>\n",
       "      <td>22</td>\n",
       "      <td>30</td>\n",
       "      <td>2252</td>\n",
       "      <td>0.0</td>\n",
       "      <td>0.0</td>\n",
       "      <td>34</td>\n",
       "      <td>0.0</td>\n",
       "      <td>57.0</td>\n",
       "      <td>2.240234</td>\n",
       "      <td>0.0</td>\n",
       "      <td>431.0</td>\n",
       "    </tr>\n",
       "    <tr>\n",
       "      <th>8224828</th>\n",
       "      <td>NaN</td>\n",
       "      <td>23</td>\n",
       "      <td>30</td>\n",
       "      <td>2252</td>\n",
       "      <td>399.0</td>\n",
       "      <td>399.0</td>\n",
       "      <td>34</td>\n",
       "      <td>1.0</td>\n",
       "      <td>68.0</td>\n",
       "      <td>3.099609</td>\n",
       "      <td>1.0</td>\n",
       "      <td>638.0</td>\n",
       "    </tr>\n",
       "    <tr>\n",
       "      <th>8643886</th>\n",
       "      <td>NaN</td>\n",
       "      <td>24</td>\n",
       "      <td>30</td>\n",
       "      <td>2252</td>\n",
       "      <td>0.0</td>\n",
       "      <td>0.0</td>\n",
       "      <td>34</td>\n",
       "      <td>0.0</td>\n",
       "      <td>62.0</td>\n",
       "      <td>3.000000</td>\n",
       "      <td>0.0</td>\n",
       "      <td>473.0</td>\n",
       "    </tr>\n",
       "    <tr>\n",
       "      <th>8796007</th>\n",
       "      <td>NaN</td>\n",
       "      <td>25</td>\n",
       "      <td>30</td>\n",
       "      <td>2252</td>\n",
       "      <td>399.0</td>\n",
       "      <td>399.0</td>\n",
       "      <td>34</td>\n",
       "      <td>2.0</td>\n",
       "      <td>67.0</td>\n",
       "      <td>1.936523</td>\n",
       "      <td>2.0</td>\n",
       "      <td>388.0</td>\n",
       "    </tr>\n",
       "    <tr>\n",
       "      <th>9074624</th>\n",
       "      <td>NaN</td>\n",
       "      <td>26</td>\n",
       "      <td>30</td>\n",
       "      <td>2252</td>\n",
       "      <td>399.0</td>\n",
       "      <td>399.0</td>\n",
       "      <td>34</td>\n",
       "      <td>1.0</td>\n",
       "      <td>63.0</td>\n",
       "      <td>2.283203</td>\n",
       "      <td>1.0</td>\n",
       "      <td>430.0</td>\n",
       "    </tr>\n",
       "    <tr>\n",
       "      <th>9326831</th>\n",
       "      <td>NaN</td>\n",
       "      <td>27</td>\n",
       "      <td>30</td>\n",
       "      <td>2252</td>\n",
       "      <td>0.0</td>\n",
       "      <td>0.0</td>\n",
       "      <td>34</td>\n",
       "      <td>0.0</td>\n",
       "      <td>74.0</td>\n",
       "      <td>1.723633</td>\n",
       "      <td>0.0</td>\n",
       "      <td>370.0</td>\n",
       "    </tr>\n",
       "    <tr>\n",
       "      <th>9674584</th>\n",
       "      <td>NaN</td>\n",
       "      <td>28</td>\n",
       "      <td>30</td>\n",
       "      <td>2252</td>\n",
       "      <td>0.0</td>\n",
       "      <td>0.0</td>\n",
       "      <td>34</td>\n",
       "      <td>0.0</td>\n",
       "      <td>55.0</td>\n",
       "      <td>1.136719</td>\n",
       "      <td>0.0</td>\n",
       "      <td>394.0</td>\n",
       "    </tr>\n",
       "    <tr>\n",
       "      <th>9799717</th>\n",
       "      <td>NaN</td>\n",
       "      <td>29</td>\n",
       "      <td>30</td>\n",
       "      <td>2252</td>\n",
       "      <td>399.0</td>\n",
       "      <td>399.0</td>\n",
       "      <td>34</td>\n",
       "      <td>3.0</td>\n",
       "      <td>53.0</td>\n",
       "      <td>1.674805</td>\n",
       "      <td>3.0</td>\n",
       "      <td>386.0</td>\n",
       "    </tr>\n",
       "    <tr>\n",
       "      <th>10231977</th>\n",
       "      <td>NaN</td>\n",
       "      <td>30</td>\n",
       "      <td>30</td>\n",
       "      <td>2252</td>\n",
       "      <td>0.0</td>\n",
       "      <td>0.0</td>\n",
       "      <td>34</td>\n",
       "      <td>0.0</td>\n",
       "      <td>82.0</td>\n",
       "      <td>1.907227</td>\n",
       "      <td>0.0</td>\n",
       "      <td>432.0</td>\n",
       "    </tr>\n",
       "    <tr>\n",
       "      <th>10289180</th>\n",
       "      <td>NaN</td>\n",
       "      <td>31</td>\n",
       "      <td>30</td>\n",
       "      <td>2252</td>\n",
       "      <td>0.0</td>\n",
       "      <td>0.0</td>\n",
       "      <td>34</td>\n",
       "      <td>0.0</td>\n",
       "      <td>78.0</td>\n",
       "      <td>2.166016</td>\n",
       "      <td>0.0</td>\n",
       "      <td>474.0</td>\n",
       "    </tr>\n",
       "    <tr>\n",
       "      <th>10661794</th>\n",
       "      <td>NaN</td>\n",
       "      <td>32</td>\n",
       "      <td>30</td>\n",
       "      <td>2252</td>\n",
       "      <td>0.0</td>\n",
       "      <td>0.0</td>\n",
       "      <td>34</td>\n",
       "      <td>0.0</td>\n",
       "      <td>53.0</td>\n",
       "      <td>1.581055</td>\n",
       "      <td>0.0</td>\n",
       "      <td>418.0</td>\n",
       "    </tr>\n",
       "    <tr>\n",
       "      <th>10709215</th>\n",
       "      <td>NaN</td>\n",
       "      <td>33</td>\n",
       "      <td>30</td>\n",
       "      <td>2252</td>\n",
       "      <td>0.0</td>\n",
       "      <td>0.0</td>\n",
       "      <td>34</td>\n",
       "      <td>0.0</td>\n",
       "      <td>49.0</td>\n",
       "      <td>2.158203</td>\n",
       "      <td>0.0</td>\n",
       "      <td>382.0</td>\n",
       "    </tr>\n",
       "    <tr>\n",
       "      <th>183996</th>\n",
       "      <td>183996.0</td>\n",
       "      <td>34</td>\n",
       "      <td>30</td>\n",
       "      <td>2252</td>\n",
       "      <td>0.0</td>\n",
       "      <td>NaN</td>\n",
       "      <td>34</td>\n",
       "      <td>0.0</td>\n",
       "      <td>0.0</td>\n",
       "      <td>0.000000</td>\n",
       "      <td>0.0</td>\n",
       "      <td>0.0</td>\n",
       "    </tr>\n",
       "  </tbody>\n",
       "</table>\n",
       "</div>"
      ],
      "text/plain": [
       "                ID  date_block_num  item_category_id  item_id  item_price  \\\n",
       "6593072        NaN              18                30     2252         0.0   \n",
       "6875754        NaN              19                30     2252       418.5   \n",
       "7234019        NaN              20                30     2252       419.0   \n",
       "7713926        NaN              21                30     2252       419.0   \n",
       "7807836        NaN              22                30     2252         0.0   \n",
       "8224828        NaN              23                30     2252       399.0   \n",
       "8643886        NaN              24                30     2252         0.0   \n",
       "8796007        NaN              25                30     2252       399.0   \n",
       "9074624        NaN              26                30     2252       399.0   \n",
       "9326831        NaN              27                30     2252         0.0   \n",
       "9674584        NaN              28                30     2252         0.0   \n",
       "9799717        NaN              29                30     2252       399.0   \n",
       "10231977       NaN              30                30     2252         0.0   \n",
       "10289180       NaN              31                30     2252         0.0   \n",
       "10661794       NaN              32                30     2252         0.0   \n",
       "10709215       NaN              33                30     2252         0.0   \n",
       "183996    183996.0              34                30     2252         0.0   \n",
       "\n",
       "          price_target_item_shop  shop_id  target  target_category_shop  \\\n",
       "6593072                      0.0       34     0.0                   0.0   \n",
       "6875754                    418.5       34     1.0                  72.0   \n",
       "7234019                    419.0       34     1.0                  49.0   \n",
       "7713926                    419.0       34     1.0                  52.0   \n",
       "7807836                      0.0       34     0.0                  57.0   \n",
       "8224828                    399.0       34     1.0                  68.0   \n",
       "8643886                      0.0       34     0.0                  62.0   \n",
       "8796007                    399.0       34     2.0                  67.0   \n",
       "9074624                    399.0       34     1.0                  63.0   \n",
       "9326831                      0.0       34     0.0                  74.0   \n",
       "9674584                      0.0       34     0.0                  55.0   \n",
       "9799717                    399.0       34     3.0                  53.0   \n",
       "10231977                     0.0       34     0.0                  82.0   \n",
       "10289180                     0.0       34     0.0                  78.0   \n",
       "10661794                     0.0       34     0.0                  53.0   \n",
       "10709215                     0.0       34     0.0                  49.0   \n",
       "183996                       NaN       34     0.0                   0.0   \n",
       "\n",
       "          target_item  target_item_shop  target_shop  \n",
       "6593072      1.559570               0.0          2.0  \n",
       "6875754      1.784180               1.0        368.0  \n",
       "7234019      1.200195               1.0        400.0  \n",
       "7713926      1.750000               1.0        317.0  \n",
       "7807836      2.240234               0.0        431.0  \n",
       "8224828      3.099609               1.0        638.0  \n",
       "8643886      3.000000               0.0        473.0  \n",
       "8796007      1.936523               2.0        388.0  \n",
       "9074624      2.283203               1.0        430.0  \n",
       "9326831      1.723633               0.0        370.0  \n",
       "9674584      1.136719               0.0        394.0  \n",
       "9799717      1.674805               3.0        386.0  \n",
       "10231977     1.907227               0.0        432.0  \n",
       "10289180     2.166016               0.0        474.0  \n",
       "10661794     1.581055               0.0        418.0  \n",
       "10709215     2.158203               0.0        382.0  \n",
       "183996       0.000000               0.0          0.0  "
      ]
     },
     "execution_count": 25,
     "metadata": {},
     "output_type": "execute_result"
    }
   ],
   "source": [
    "### do some sanity check\n",
    "\n",
    "train_test_together[(train_test_together[\"item_id\"] == 2252) & (train_test_together[\"shop_id\"] == 34)]"
   ]
  },
  {
   "cell_type": "code",
   "execution_count": 26,
   "metadata": {},
   "outputs": [
    {
     "data": {
      "text/plain": [
       "11128004"
      ]
     },
     "execution_count": 26,
     "metadata": {},
     "output_type": "execute_result"
    }
   ],
   "source": [
    "## have a look at the size\n",
    "len(train_test_together)"
   ]
  },
  {
   "cell_type": "code",
   "execution_count": 27,
   "metadata": {},
   "outputs": [
    {
     "name": "stderr",
     "output_type": "stream",
     "text": [
      "/home/sih13/anaconda3/envs/keras-gpu/lib/python3.7/site-packages/ipykernel_launcher.py:83: TqdmDeprecationWarning: This function will be removed in tqdm==5.0.0\n",
      "Please use `tqdm.notebook.tqdm` instead of `tqdm.tqdm_notebook`\n"
     ]
    },
    {
     "data": {
      "application/vnd.jupyter.widget-view+json": {
       "model_id": "1bb7052e026841ed91644229b2db5e65",
       "version_major": 2,
       "version_minor": 0
      },
      "text/plain": [
       "HBox(children=(IntProgress(value=0, max=6), HTML(value='')))"
      ]
     },
     "metadata": {},
     "output_type": "display_data"
    },
    {
     "name": "stdout",
     "output_type": "stream",
     "text": [
      "\n"
     ]
    },
    {
     "data": {
      "application/vnd.jupyter.widget-view+json": {
       "model_id": "8d27d3ea3b1048618c7ed7c76ebdc1af",
       "version_major": 2,
       "version_minor": 0
      },
      "text/plain": [
       "HBox(children=(IntProgress(value=0, max=6), HTML(value='')))"
      ]
     },
     "metadata": {},
     "output_type": "display_data"
    },
    {
     "name": "stdout",
     "output_type": "stream",
     "text": [
      "\n"
     ]
    },
    {
     "data": {
      "application/vnd.jupyter.widget-view+json": {
       "model_id": "953844a93b124eafaba6e2169e49e8a9",
       "version_major": 2,
       "version_minor": 0
      },
      "text/plain": [
       "HBox(children=(IntProgress(value=0, max=6), HTML(value='')))"
      ]
     },
     "metadata": {},
     "output_type": "display_data"
    },
    {
     "name": "stdout",
     "output_type": "stream",
     "text": [
      "\n"
     ]
    },
    {
     "data": {
      "application/vnd.jupyter.widget-view+json": {
       "model_id": "00fa79a2ee6c4beb9736bbc10be657e9",
       "version_major": 2,
       "version_minor": 0
      },
      "text/plain": [
       "HBox(children=(IntProgress(value=0, max=6), HTML(value='')))"
      ]
     },
     "metadata": {},
     "output_type": "display_data"
    },
    {
     "name": "stdout",
     "output_type": "stream",
     "text": [
      "\n"
     ]
    },
    {
     "data": {
      "application/vnd.jupyter.widget-view+json": {
       "model_id": "cb2ac38ee8404b3c8924c85c0edb50b6",
       "version_major": 2,
       "version_minor": 0
      },
      "text/plain": [
       "HBox(children=(IntProgress(value=0, max=6), HTML(value='')))"
      ]
     },
     "metadata": {},
     "output_type": "display_data"
    },
    {
     "name": "stdout",
     "output_type": "stream",
     "text": [
      "\n"
     ]
    }
   ],
   "source": [
    "#####compute time lags\n",
    "\n",
    "added_features = []\n",
    "\n",
    "lag_period = list(range(1,7))\n",
    "\n",
    "index_cols = ['item_id', \"shop_id\", 'date_block_num']\n",
    "\n",
    "train_test_together, new_features = create_lag(train_test_together, index_cols, \"date_block_num\", \"target_item_shop\", 'sum', lag_period)\n",
    "\n",
    "added_features += new_features\n",
    "\n",
    "\n",
    "\n",
    "index_cols = ['item_id', 'date_block_num']\n",
    "\n",
    "train_test_together, new_features = create_lag(train_test_together, index_cols, \"date_block_num\", \"target_item\", 'mean', lag_period)\n",
    "\n",
    "added_features += new_features\n",
    "\n",
    "\n",
    "\n",
    "index_cols = ['shop_id', 'date_block_num']\n",
    "\n",
    "train_test_together, new_features = create_lag(train_test_together, index_cols, \"date_block_num\", \"target_shop\", 'sum', lag_period)\n",
    "\n",
    "added_features += new_features\n",
    "\n",
    "\n",
    "\n",
    "index_cols = ['shop_id', 'item_category_id', 'date_block_num']\n",
    "\n",
    "train_test_together, new_features = create_lag(train_test_together, index_cols, \"date_block_num\", \"target_category_shop\", 'mean', lag_period)\n",
    "\n",
    "added_features += new_features\n",
    "\n",
    "\n",
    "\n",
    "index_cols = ['item_id', 'shop_id', 'date_block_num']\n",
    "\n",
    "train_test_together, new_features = create_lag(train_test_together, index_cols, \"date_block_num\", \"item_price\", 'mean', lag_period)\n",
    "\n",
    "added_features += new_features"
   ]
  },
  {
   "cell_type": "code",
   "execution_count": 28,
   "metadata": {},
   "outputs": [
    {
     "data": {
      "text/plain": [
       "['target_item_shop_lag_1',\n",
       " 'target_item_shop_lag_2',\n",
       " 'target_item_shop_lag_3',\n",
       " 'target_item_shop_lag_4',\n",
       " 'target_item_shop_lag_5',\n",
       " 'target_item_shop_lag_6',\n",
       " 'target_item_lag_1',\n",
       " 'target_item_lag_2',\n",
       " 'target_item_lag_3',\n",
       " 'target_item_lag_4',\n",
       " 'target_item_lag_5',\n",
       " 'target_item_lag_6',\n",
       " 'target_shop_lag_1',\n",
       " 'target_shop_lag_2',\n",
       " 'target_shop_lag_3',\n",
       " 'target_shop_lag_4',\n",
       " 'target_shop_lag_5',\n",
       " 'target_shop_lag_6',\n",
       " 'target_category_shop_lag_1',\n",
       " 'target_category_shop_lag_2',\n",
       " 'target_category_shop_lag_3',\n",
       " 'target_category_shop_lag_4',\n",
       " 'target_category_shop_lag_5',\n",
       " 'target_category_shop_lag_6',\n",
       " 'item_price_lag_1',\n",
       " 'item_price_lag_2',\n",
       " 'item_price_lag_3',\n",
       " 'item_price_lag_4',\n",
       " 'item_price_lag_5',\n",
       " 'item_price_lag_6']"
      ]
     },
     "execution_count": 28,
     "metadata": {},
     "output_type": "execute_result"
    }
   ],
   "source": [
    "### sanity check\n",
    "\n",
    "added_features"
   ]
  },
  {
   "cell_type": "code",
   "execution_count": 29,
   "metadata": {},
   "outputs": [],
   "source": [
    "train_test_together.to_csv(\"./kaggle/output/train_test_together.csv\", index=False)"
   ]
  },
  {
   "cell_type": "code",
   "execution_count": 3,
   "metadata": {},
   "outputs": [],
   "source": [
    "train_test_together = pd.read_csv(\"./kaggle/output/train_test_together.csv\")"
   ]
  },
  {
   "cell_type": "code",
   "execution_count": 5,
   "metadata": {},
   "outputs": [],
   "source": [
    "added_features = ['target_item_shop_lag_1',\n",
    " 'target_item_shop_lag_2',\n",
    " 'target_item_shop_lag_3',\n",
    " 'target_item_shop_lag_4',\n",
    " 'target_item_shop_lag_5',\n",
    " 'target_item_shop_lag_6',\n",
    " 'target_item_lag_1',\n",
    " 'target_item_lag_2',\n",
    " 'target_item_lag_3',\n",
    " 'target_item_lag_4',\n",
    " 'target_item_lag_5',\n",
    " 'target_item_lag_6',\n",
    " 'target_shop_lag_1',\n",
    " 'target_shop_lag_2',\n",
    " 'target_shop_lag_3',\n",
    " 'target_shop_lag_4',\n",
    " 'target_shop_lag_5',\n",
    " 'target_shop_lag_6',\n",
    " 'target_category_shop_lag_1',\n",
    " 'target_category_shop_lag_2',\n",
    " 'target_category_shop_lag_3',\n",
    " 'target_category_shop_lag_4',\n",
    " 'target_category_shop_lag_5',\n",
    " 'target_category_shop_lag_6',\n",
    " 'item_price_lag_1',\n",
    " 'item_price_lag_2',\n",
    " 'item_price_lag_3',\n",
    " 'item_price_lag_4',\n",
    " 'item_price_lag_5',\n",
    " 'item_price_lag_6']"
   ]
  },
  {
   "cell_type": "code",
   "execution_count": 14,
   "metadata": {},
   "outputs": [
    {
     "name": "stderr",
     "output_type": "stream",
     "text": [
      "/home/sih13/anaconda3/envs/keras-gpu/lib/python3.7/site-packages/pandas/core/frame.py:4117: SettingWithCopyWarning: \n",
      "A value is trying to be set on a copy of a slice from a DataFrame\n",
      "\n",
      "See the caveats in the documentation: http://pandas.pydata.org/pandas-docs/stable/user_guide/indexing.html#returning-a-view-versus-a-copy\n",
      "  errors=errors,\n",
      "/home/sih13/anaconda3/envs/keras-gpu/lib/python3.7/site-packages/sklearn/model_selection/_split.py:1978: FutureWarning: The default value of cv will change from 3 to 5 in version 0.22. Specify it explicitly to silence this warning.\n",
      "  warnings.warn(CV_WARNING, FutureWarning)\n",
      "/home/sih13/anaconda3/envs/keras-gpu/lib/python3.7/site-packages/xgboost/core.py:587: FutureWarning: Series.base is deprecated and will be removed in a future version\n",
      "  if getattr(data, 'base', None) is not None and \\\n"
     ]
    },
    {
     "name": "stdout",
     "output_type": "stream",
     "text": [
      "[18:34:14] WARNING: /opt/conda/conda-bld/xgboost_1560800456086/work/src/objective/regression_obj.cu:152: reg:linear is now deprecated in favor of reg:squarederror.\n",
      "[18:34:20] WARNING: /opt/conda/conda-bld/xgboost_1560800456086/work/src/objective/regression_obj.cu:152: reg:linear is now deprecated in favor of reg:squarederror.\n",
      "[18:34:26] WARNING: /opt/conda/conda-bld/xgboost_1560800456086/work/src/objective/regression_obj.cu:152: reg:linear is now deprecated in favor of reg:squarederror.\n",
      "[18:34:31] WARNING: /opt/conda/conda-bld/xgboost_1560800456086/work/src/objective/regression_obj.cu:152: reg:linear is now deprecated in favor of reg:squarederror.\n",
      "[18:34:37] WARNING: /opt/conda/conda-bld/xgboost_1560800456086/work/src/objective/regression_obj.cu:152: reg:linear is now deprecated in favor of reg:squarederror.\n",
      "[18:34:43] WARNING: /opt/conda/conda-bld/xgboost_1560800456086/work/src/objective/regression_obj.cu:152: reg:linear is now deprecated in favor of reg:squarederror.\n"
     ]
    },
    {
     "name": "stderr",
     "output_type": "stream",
     "text": [
      "/home/sih13/anaconda3/envs/keras-gpu/lib/python3.7/site-packages/xgboost/core.py:588: FutureWarning: Series.base is deprecated and will be removed in a future version\n",
      "  data.base is not None and isinstance(data, np.ndarray) \\\n"
     ]
    },
    {
     "name": "stdout",
     "output_type": "stream",
     "text": [
      "[18:34:49] WARNING: /opt/conda/conda-bld/xgboost_1560800456086/work/src/objective/regression_obj.cu:152: reg:linear is now deprecated in favor of reg:squarederror.\n",
      "{'subsample': 0.8, 'tree_method': 'gpu_hist'} with score -0.940753458959893\n"
     ]
    }
   ],
   "source": [
    "xgb_parameters = {'subsample': [0.6, 0.8], \"tree_method\": [\"gpu_hist\"]}\n",
    "\n",
    "\n",
    "\n",
    "baseline_features = ['shop_id', 'item_id', 'item_category_id', 'date_block_num'] +  added_features + ['target']\n",
    "\n",
    "\n",
    "train_time_range_lo = (train_test_together['date_block_num'] >= 20)\n",
    "train_time_range_hi =  (train_test_together['date_block_num'] <= 33)\n",
    "\n",
    "final_trainset = train_test_together[train_time_range_lo & train_time_range_hi]\n",
    "\n",
    "train_x = final_trainset[baseline_features]\n",
    "train_y = final_trainset[\"target\"]\n",
    "train_x.drop(\"target\", axis=1, inplace=True)\n",
    "\n",
    "\n",
    "\n",
    "\n",
    "\n",
    "model = xgb.XGBRegressor()\n",
    "\n",
    "rmse_score = make_scorer(rmse, greater_is_better = False)\n",
    "\n",
    "\n",
    "gs = GridSearchCV(model, xgb_parameters, scoring=rmse_score)\n",
    "gs.fit(train_x, train_y)\n",
    "\n",
    "print(gs.best_params_, \"with score\", gs.best_score_)"
   ]
  },
  {
   "cell_type": "code",
   "execution_count": 30,
   "metadata": {},
   "outputs": [
    {
     "name": "stderr",
     "output_type": "stream",
     "text": [
      "/home/sih13/anaconda3/envs/keras-gpu/lib/python3.7/site-packages/pandas/core/frame.py:4117: SettingWithCopyWarning: \n",
      "A value is trying to be set on a copy of a slice from a DataFrame\n",
      "\n",
      "See the caveats in the documentation: http://pandas.pydata.org/pandas-docs/stable/user_guide/indexing.html#returning-a-view-versus-a-copy\n",
      "  errors=errors,\n",
      "/home/sih13/anaconda3/envs/keras-gpu/lib/python3.7/site-packages/xgboost/core.py:587: FutureWarning: Series.base is deprecated and will be removed in a future version\n",
      "  if getattr(data, 'base', None) is not None and \\\n",
      "/home/sih13/anaconda3/envs/keras-gpu/lib/python3.7/site-packages/xgboost/core.py:588: FutureWarning: Series.base is deprecated and will be removed in a future version\n",
      "  data.base is not None and isinstance(data, np.ndarray) \\\n"
     ]
    },
    {
     "name": "stdout",
     "output_type": "stream",
     "text": [
      "[17:19:18] WARNING: /opt/conda/conda-bld/xgboost_1560800456086/work/src/objective/regression_obj.cu:152: reg:linear is now deprecated in favor of reg:squarederror.\n",
      "[0]\tvalidation_0-rmse:1.18828\tvalidation_1-rmse:1.12331\n",
      "Multiple eval metrics have been passed: 'validation_1-rmse' will be used for early stopping.\n",
      "\n",
      "Will train until validation_1-rmse hasn't improved in 10 rounds.\n",
      "[1]\tvalidation_0-rmse:1.14408\tvalidation_1-rmse:1.09106\n",
      "[2]\tvalidation_0-rmse:1.10664\tvalidation_1-rmse:1.06436\n",
      "[3]\tvalidation_0-rmse:1.07486\tvalidation_1-rmse:1.04265\n",
      "[4]\tvalidation_0-rmse:1.04847\tvalidation_1-rmse:1.02467\n",
      "[5]\tvalidation_0-rmse:1.02592\tvalidation_1-rmse:1.00915\n",
      "[6]\tvalidation_0-rmse:1.00722\tvalidation_1-rmse:0.997039\n",
      "[7]\tvalidation_0-rmse:0.990922\tvalidation_1-rmse:0.985543\n",
      "[8]\tvalidation_0-rmse:0.976767\tvalidation_1-rmse:0.976648\n",
      "[9]\tvalidation_0-rmse:0.965568\tvalidation_1-rmse:0.96966\n",
      "[10]\tvalidation_0-rmse:0.956311\tvalidation_1-rmse:0.963483\n",
      "[11]\tvalidation_0-rmse:0.947804\tvalidation_1-rmse:0.958736\n",
      "[12]\tvalidation_0-rmse:0.940549\tvalidation_1-rmse:0.954661\n",
      "[13]\tvalidation_0-rmse:0.934455\tvalidation_1-rmse:0.950377\n",
      "[14]\tvalidation_0-rmse:0.928837\tvalidation_1-rmse:0.947234\n",
      "[15]\tvalidation_0-rmse:0.923187\tvalidation_1-rmse:0.941698\n",
      "[16]\tvalidation_0-rmse:0.918178\tvalidation_1-rmse:0.936463\n",
      "[17]\tvalidation_0-rmse:0.914124\tvalidation_1-rmse:0.9341\n",
      "[18]\tvalidation_0-rmse:0.910951\tvalidation_1-rmse:0.93189\n",
      "[19]\tvalidation_0-rmse:0.908036\tvalidation_1-rmse:0.929516\n",
      "[20]\tvalidation_0-rmse:0.904908\tvalidation_1-rmse:0.927086\n",
      "[21]\tvalidation_0-rmse:0.902371\tvalidation_1-rmse:0.925694\n",
      "[22]\tvalidation_0-rmse:0.900129\tvalidation_1-rmse:0.92411\n",
      "[23]\tvalidation_0-rmse:0.898281\tvalidation_1-rmse:0.923556\n",
      "[24]\tvalidation_0-rmse:0.896356\tvalidation_1-rmse:0.922797\n",
      "[25]\tvalidation_0-rmse:0.894581\tvalidation_1-rmse:0.922166\n",
      "[26]\tvalidation_0-rmse:0.893257\tvalidation_1-rmse:0.921786\n",
      "[27]\tvalidation_0-rmse:0.891651\tvalidation_1-rmse:0.920442\n",
      "[28]\tvalidation_0-rmse:0.89036\tvalidation_1-rmse:0.919398\n",
      "[29]\tvalidation_0-rmse:0.888906\tvalidation_1-rmse:0.918447\n",
      "[30]\tvalidation_0-rmse:0.887862\tvalidation_1-rmse:0.918252\n",
      "[31]\tvalidation_0-rmse:0.886448\tvalidation_1-rmse:0.918019\n",
      "[32]\tvalidation_0-rmse:0.884715\tvalidation_1-rmse:0.916549\n",
      "[33]\tvalidation_0-rmse:0.883831\tvalidation_1-rmse:0.916258\n",
      "[34]\tvalidation_0-rmse:0.882955\tvalidation_1-rmse:0.915545\n",
      "[35]\tvalidation_0-rmse:0.882023\tvalidation_1-rmse:0.915442\n",
      "[36]\tvalidation_0-rmse:0.88068\tvalidation_1-rmse:0.914403\n",
      "[37]\tvalidation_0-rmse:0.879512\tvalidation_1-rmse:0.913356\n",
      "[38]\tvalidation_0-rmse:0.878843\tvalidation_1-rmse:0.913389\n",
      "[39]\tvalidation_0-rmse:0.878246\tvalidation_1-rmse:0.912784\n",
      "[40]\tvalidation_0-rmse:0.877539\tvalidation_1-rmse:0.912211\n",
      "[41]\tvalidation_0-rmse:0.876486\tvalidation_1-rmse:0.912427\n",
      "[42]\tvalidation_0-rmse:0.875859\tvalidation_1-rmse:0.91247\n",
      "[43]\tvalidation_0-rmse:0.875093\tvalidation_1-rmse:0.912119\n",
      "[44]\tvalidation_0-rmse:0.873985\tvalidation_1-rmse:0.911856\n",
      "[45]\tvalidation_0-rmse:0.872972\tvalidation_1-rmse:0.909962\n",
      "[46]\tvalidation_0-rmse:0.872513\tvalidation_1-rmse:0.909865\n",
      "[47]\tvalidation_0-rmse:0.871773\tvalidation_1-rmse:0.909984\n",
      "[48]\tvalidation_0-rmse:0.871387\tvalidation_1-rmse:0.90983\n",
      "[49]\tvalidation_0-rmse:0.870957\tvalidation_1-rmse:0.910083\n",
      "[50]\tvalidation_0-rmse:0.870356\tvalidation_1-rmse:0.90977\n",
      "[51]\tvalidation_0-rmse:0.869632\tvalidation_1-rmse:0.909409\n",
      "[52]\tvalidation_0-rmse:0.869127\tvalidation_1-rmse:0.909669\n",
      "[53]\tvalidation_0-rmse:0.868725\tvalidation_1-rmse:0.909538\n",
      "[54]\tvalidation_0-rmse:0.868375\tvalidation_1-rmse:0.909449\n",
      "[55]\tvalidation_0-rmse:0.866387\tvalidation_1-rmse:0.90923\n",
      "[56]\tvalidation_0-rmse:0.866025\tvalidation_1-rmse:0.909312\n",
      "[57]\tvalidation_0-rmse:0.865817\tvalidation_1-rmse:0.909179\n",
      "[58]\tvalidation_0-rmse:0.865305\tvalidation_1-rmse:0.908902\n",
      "[59]\tvalidation_0-rmse:0.864981\tvalidation_1-rmse:0.908735\n",
      "[60]\tvalidation_0-rmse:0.864688\tvalidation_1-rmse:0.908796\n",
      "[61]\tvalidation_0-rmse:0.864283\tvalidation_1-rmse:0.908595\n",
      "[62]\tvalidation_0-rmse:0.863517\tvalidation_1-rmse:0.907419\n",
      "[63]\tvalidation_0-rmse:0.8632\tvalidation_1-rmse:0.907142\n",
      "[64]\tvalidation_0-rmse:0.862734\tvalidation_1-rmse:0.906192\n",
      "[65]\tvalidation_0-rmse:0.862373\tvalidation_1-rmse:0.9062\n",
      "[66]\tvalidation_0-rmse:0.862031\tvalidation_1-rmse:0.906156\n",
      "[67]\tvalidation_0-rmse:0.861696\tvalidation_1-rmse:0.906139\n",
      "[68]\tvalidation_0-rmse:0.861295\tvalidation_1-rmse:0.905882\n",
      "[69]\tvalidation_0-rmse:0.860979\tvalidation_1-rmse:0.906087\n",
      "[70]\tvalidation_0-rmse:0.860585\tvalidation_1-rmse:0.905893\n",
      "[71]\tvalidation_0-rmse:0.860375\tvalidation_1-rmse:0.905754\n",
      "[72]\tvalidation_0-rmse:0.860026\tvalidation_1-rmse:0.905746\n",
      "[73]\tvalidation_0-rmse:0.859795\tvalidation_1-rmse:0.905626\n",
      "[74]\tvalidation_0-rmse:0.859453\tvalidation_1-rmse:0.905395\n",
      "[75]\tvalidation_0-rmse:0.859238\tvalidation_1-rmse:0.905253\n",
      "[76]\tvalidation_0-rmse:0.858703\tvalidation_1-rmse:0.905033\n",
      "[77]\tvalidation_0-rmse:0.858346\tvalidation_1-rmse:0.904856\n",
      "[78]\tvalidation_0-rmse:0.857642\tvalidation_1-rmse:0.904629\n",
      "[79]\tvalidation_0-rmse:0.857213\tvalidation_1-rmse:0.904661\n",
      "[80]\tvalidation_0-rmse:0.856842\tvalidation_1-rmse:0.903987\n",
      "[81]\tvalidation_0-rmse:0.856384\tvalidation_1-rmse:0.90373\n",
      "[82]\tvalidation_0-rmse:0.856132\tvalidation_1-rmse:0.903835\n",
      "[83]\tvalidation_0-rmse:0.855891\tvalidation_1-rmse:0.903294\n",
      "[84]\tvalidation_0-rmse:0.855658\tvalidation_1-rmse:0.90324\n",
      "[85]\tvalidation_0-rmse:0.855316\tvalidation_1-rmse:0.903257\n",
      "[86]\tvalidation_0-rmse:0.854735\tvalidation_1-rmse:0.903216\n",
      "[87]\tvalidation_0-rmse:0.854424\tvalidation_1-rmse:0.902623\n",
      "[88]\tvalidation_0-rmse:0.854158\tvalidation_1-rmse:0.902406\n",
      "[89]\tvalidation_0-rmse:0.853909\tvalidation_1-rmse:0.902501\n",
      "[90]\tvalidation_0-rmse:0.853417\tvalidation_1-rmse:0.902251\n",
      "[91]\tvalidation_0-rmse:0.853229\tvalidation_1-rmse:0.902272\n",
      "[92]\tvalidation_0-rmse:0.853007\tvalidation_1-rmse:0.902281\n",
      "[93]\tvalidation_0-rmse:0.852858\tvalidation_1-rmse:0.902414\n",
      "[94]\tvalidation_0-rmse:0.852453\tvalidation_1-rmse:0.902223\n",
      "[95]\tvalidation_0-rmse:0.852211\tvalidation_1-rmse:0.902382\n",
      "[96]\tvalidation_0-rmse:0.85195\tvalidation_1-rmse:0.902335\n",
      "[97]\tvalidation_0-rmse:0.851756\tvalidation_1-rmse:0.902301\n",
      "[98]\tvalidation_0-rmse:0.851629\tvalidation_1-rmse:0.90232\n",
      "[99]\tvalidation_0-rmse:0.850825\tvalidation_1-rmse:0.902364\n"
     ]
    },
    {
     "data": {
      "text/plain": [
       "XGBRegressor(base_score=0.5, booster='gbtree', colsample_bylevel=1,\n",
       "             colsample_bynode=1, colsample_bytree=1, eta=0.3, gamma=0,\n",
       "             importance_type='gain', learning_rate=0.1, max_delta_step=0,\n",
       "             max_depth=8, min_child_weight=300, missing=None, n_estimators=100,\n",
       "             n_jobs=1, nthread=16, objective='reg:linear', random_state=0,\n",
       "             reg_alpha=0, reg_lambda=1, scale_pos_weight=1, seed=43,\n",
       "             silent=None, subsample=0.8, tree_method='gpu_hist', verbosity=1)"
      ]
     },
     "execution_count": 30,
     "metadata": {},
     "output_type": "execute_result"
    }
   ],
   "source": [
    "### train the model with 6 ... 32, validate on 33, enable gpu\n",
    "\n",
    "baseline_features = ['shop_id', 'item_id', 'item_category_id', 'date_block_num'] +  added_features + ['target']\n",
    "\n",
    "\n",
    "train_time_range_lo = (train_test_together['date_block_num'] >= 6)\n",
    "train_time_range_hi =  (train_test_together['date_block_num'] <= 32)\n",
    "\n",
    "\n",
    "final_trainset = train_test_together[train_time_range_lo & train_time_range_hi]\n",
    "\n",
    "train_x = final_trainset[baseline_features]\n",
    "train_y = final_trainset[\"target\"]\n",
    "train_x.drop(\"target\", axis=1, inplace=True)\n",
    "\n",
    "\n",
    "val_time = (train_test_together['date_block_num'] == 33)\n",
    "\n",
    "final_trainset = train_test_together[val_time]\n",
    "\n",
    "\n",
    "val_x = final_trainset[baseline_features]\n",
    "val_y = final_trainset[\"target\"]\n",
    "val_x.drop(\"target\", axis=1, inplace=True)\n",
    "\n",
    "\n",
    "\n",
    "#model = xgb.XGBRegressor(max_depth = 8, min_child_weight=300, subsample = 0.8, eta = 0.3, seed = 43, nthread = 16, tree_method=\"gpu_hist\")\n",
    "model = xgb.XGBRegressor(max_depth = 8, min_child_weight=300, subsample = 0.8, eta = 0.3, seed = 43, nthread = 16, tree_method=\"gpu_hist\")\n",
    "\n",
    "\n",
    "#model.fit(train_x, train_y)\n",
    "model.fit(\n",
    "    train_x, train_y, early_stopping_rounds = 10,\n",
    "    eval_metric=\"rmse\", \n",
    "    eval_set=[(train_x, train_y), (val_x, val_y)]\n",
    "\n",
    "    )\n"
   ]
  },
  {
   "cell_type": "code",
   "execution_count": 33,
   "metadata": {},
   "outputs": [],
   "source": [
    "with open(r\"./xgboost_gpu.m\", \"wb\") as output_file:\n",
    "    #cPickle.dump(d, output_file)\n",
    "\n",
    "    pickle.dump(model, output_file)"
   ]
  },
  {
   "cell_type": "code",
   "execution_count": 34,
   "metadata": {},
   "outputs": [
    {
     "name": "stderr",
     "output_type": "stream",
     "text": [
      "/home/sih13/anaconda3/envs/keras-gpu/lib/python3.7/site-packages/pandas/core/frame.py:4117: SettingWithCopyWarning: \n",
      "A value is trying to be set on a copy of a slice from a DataFrame\n",
      "\n",
      "See the caveats in the documentation: http://pandas.pydata.org/pandas-docs/stable/user_guide/indexing.html#returning-a-view-versus-a-copy\n",
      "  errors=errors,\n"
     ]
    }
   ],
   "source": [
    "#### predict 34\n",
    "\n",
    "test_time =  (train_test_together['date_block_num'] == 34)\n",
    "\n",
    "testset = train_test_together[test_time]\n",
    "\n",
    "\n",
    "test_x = testset[baseline_features]\n",
    "#train_x = cv_trainset[baseline_features]\n",
    "test_x.drop(\"target\", axis=1, inplace=True)\n",
    "\n",
    "\n",
    "preds = model.predict(test_x).clip(0, 20)\n",
    "\n",
    "df = pd.DataFrame(preds, columns = ['item_cnt_month'])\n",
    "df.index.name='ID'\n",
    "\n",
    "\n",
    "df.to_csv('xgboost_gpu_my_preds.csv')"
   ]
  },
  {
   "cell_type": "markdown",
   "metadata": {},
   "source": []
  },
  {
   "cell_type": "code",
   "execution_count": null,
   "metadata": {},
   "outputs": [],
   "source": []
  },
  {
   "cell_type": "code",
   "execution_count": null,
   "metadata": {},
   "outputs": [],
   "source": []
  }
 ],
 "metadata": {
  "kernelspec": {
   "display_name": "Python 3",
   "language": "python",
   "name": "python3"
  },
  "language_info": {
   "codemirror_mode": {
    "name": "ipython",
    "version": 3
   },
   "file_extension": ".py",
   "mimetype": "text/x-python",
   "name": "python",
   "nbconvert_exporter": "python",
   "pygments_lexer": "ipython3",
   "version": "3.7.5"
  }
 },
 "nbformat": 4,
 "nbformat_minor": 2
}
