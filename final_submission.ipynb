{
 "cells": [
  {
   "cell_type": "markdown",
   "metadata": {},
   "source": [
    "Strategy of this notebook:\n",
    "1. EDA to find outliner and remove them\n",
    "\n",
    "2. Construct dataframe, mean encoding and add time lag. Through LB probing, time lag of 6 months is enough\n",
    "\n",
    "3. Gridsearch CV for xgboost. It turns out Xgboost is the best (0.934277) \n",
    "\n",
    "4. Catboost (1.070510)\n",
    "\n",
    "5. Stacking (1.191728): train xgboost and linear regression on < 32, predict 33 and 34. Train LogisticRegression on 33 and stack on 34"
   ]
  },
  {
   "cell_type": "code",
   "execution_count": 1,
   "metadata": {},
   "outputs": [
    {
     "name": "stdout",
     "output_type": "stream",
     "text": [
      "numpy 1.17.4\n",
      "pandas 0.25.3\n",
      "sklearn 0.21.3\n",
      "tqdm 4.39.0\n",
      "xgboost 0.90\n",
      "seaborn 0.9.0\n",
      "matplotlib 3.1.1\n",
      "catboost 0.20\n"
     ]
    }
   ],
   "source": [
    "#### import library\n",
    "#### define functions\n",
    "\n",
    "\n",
    "#Submit an all 0 submission, the score is 1.250111 in public and 1.236582 in private.\n",
    "# Not bad.\n",
    "\n",
    "\n",
    "## library versions\n",
    "\n",
    "\"\"\"\n",
    "numpy 1.17.4\n",
    "pandas 0.25.3\n",
    "sklearn 0.21.3\n",
    "tqdm 4.39.0\n",
    "xgboost 0.90\n",
    "seaborn 0.9.0\n",
    "matplotlib 3.1.1\n",
    "catboost 0.20\n",
    "\n",
    "\"\"\"\n",
    "\n",
    "\n",
    "import numpy as np # linear algebra\n",
    "import pandas as pd # data processing, CSV file I/O (e.g. pd.read_csv)\n",
    "import sklearn\n",
    "from sklearn.metrics import r2_score\n",
    "from sklearn.model_selection import GroupKFold\n",
    "#import itertools\n",
    "from itertools import product\n",
    "import gc\n",
    "import tqdm\n",
    "from tqdm import tqdm_notebook\n",
    "from sklearn.metrics import mean_squared_error, make_scorer\n",
    "from sklearn.model_selection import TimeSeriesSplit, GridSearchCV\n",
    "from sklearn.linear_model import LinearRegression\n",
    "from sklearn.linear_model import LogisticRegression\n",
    "\n",
    "from math import sqrt\n",
    "\n",
    "import xgboost\n",
    "import xgboost as xgb\n",
    "\n",
    "import catboost\n",
    "from catboost import CatBoostRegressor\n",
    "\n",
    "import os\n",
    "\n",
    "import seaborn as sns\n",
    "\n",
    "import matplotlib\n",
    "import matplotlib.pyplot as plt\n",
    "%matplotlib inline\n",
    "import pickle\n",
    "\n",
    "for p in [np, pd, sklearn, tqdm, xgboost, sns, matplotlib, catboost]:\n",
    "    print (p.__name__, p.__version__)\n",
    "\n",
    "for dirname, _, filenames in os.walk('/kaggle/input'):\n",
    "    for filename in filenames:\n",
    "        print(os.path.join(dirname, filename))\n",
    "\n",
    "\n",
    "def downcast_dtypes(df):\n",
    "    '''\n",
    "        Changes column types in the dataframe: \n",
    "                \n",
    "                `float64` type to `float32`\n",
    "                `int64`   type to `int32`\n",
    "    '''\n",
    "    \n",
    "    # Select columns to downcast\n",
    "    float_cols = [c for c in df if df[c].dtype == \"float64\"]\n",
    "    int_cols =   [c for c in df if df[c].dtype == \"int64\"]\n",
    "    \n",
    "\n",
    "    df[float_cols] = df[float_cols].astype(np.float16)\n",
    "    df[int_cols]   = df[int_cols].astype(np.int16)\n",
    "    \n",
    "    return df\n",
    "\n",
    "def rmse(y, y_pred):\n",
    "    return np.sqrt(np.mean(np.square(y - y_pred)))\n",
    "\n",
    "####tmp2 = target_encoding(tmp, [\"shop_id\"], \"target\", \"shop_mean\", \"mean\")\n",
    "\n",
    "def target_encoding (df, index_cols, target, new_target_name, agg_func):\n",
    "    \n",
    "    df[new_target_name] = df.groupby(index_cols)[target].transform(agg_func)\n",
    "\n",
    "\n",
    "def create_lag (df, index_cols, time_col, target, agg_func, lag_periods):\n",
    "    new_features = []\n",
    "    for lag in tqdm_notebook(lag_periods):\n",
    "        #print (lag)\n",
    "        train_shift = df[index_cols + [target]].copy()\n",
    "        #print (\"done, copy\")\n",
    "\n",
    "        train_shift[time_col] = train_shift[time_col] + lag\n",
    "        #print (\"+, done\")\n",
    "\n",
    "        foo = lambda x: '{}_lag_{}'.format(x, lag) if x == target else x\n",
    "        train_shift = train_shift.rename(columns=foo)\n",
    "        #print (\"rename, done\")\n",
    "\n",
    "        new_feature = '{}_lag_{}'.format(target, lag)\n",
    "        new_features.append(new_feature)\n",
    "        #df.groupby(index_cols)[target].transform()\n",
    "\n",
    "        tmp = train_shift.groupby(index_cols).agg({new_feature: agg_func})\n",
    "\n",
    "        df = df.merge(tmp, on=index_cols, how='left').fillna(0)\n",
    "        #print (\"merge, done\")\n",
    "    \n",
    "    return df, new_features\n"
   ]
  },
  {
   "cell_type": "code",
   "execution_count": 2,
   "metadata": {},
   "outputs": [],
   "source": [
    "DATA_FOLDER = './kaggle/input/competitive-data-science-predict-future-sales/'\n",
    "\n",
    "transactions    = pd.read_csv(os.path.join(DATA_FOLDER, 'sales_train.csv'), parse_dates = True)\n",
    "items           = pd.read_csv(os.path.join(DATA_FOLDER, 'items.csv'))\n",
    "item_categories = pd.read_csv(os.path.join(DATA_FOLDER, 'item_categories.csv'))\n",
    "shops           = pd.read_csv(os.path.join(DATA_FOLDER, 'shops.csv'))\n",
    "en              = pd.read_csv(os.path.join(DATA_FOLDER, 'item_category_en.csv'))\n",
    "#sample_submission = pd.read_csv(os.path.join(DATA_FOLDER, 'sample_submission.csv'))\n",
    "\n",
    "test = pd.read_csv(os.path.join(DATA_FOLDER, 'test.csv'))"
   ]
  },
  {
   "cell_type": "code",
   "execution_count": 3,
   "metadata": {},
   "outputs": [
    {
     "data": {
      "text/plain": [
       "<matplotlib.axes._subplots.AxesSubplot at 0x7f62c8569650>"
      ]
     },
     "execution_count": 3,
     "metadata": {},
     "output_type": "execute_result"
    },
    {
     "data": {
      "image/png": "[encoded data removed]",
      "text/plain": [
       "<Figure size 720x288 with 1 Axes>"
      ]
     },
     "metadata": {
      "needs_background": "light"
     },
     "output_type": "display_data"
    }
   ],
   "source": [
    "####investigate price variance\n",
    "\n",
    "plt.figure(figsize=(10,4))\n",
    "plt.xlim(transactions.item_price.min(), transactions.item_price.max()*1.1)\n",
    "    \n",
    "    #print (transactions[transactions[\"item_id\"] == i][\"item_price\"])\n",
    "sns.boxplot(x=transactions.item_price)\n",
    "\n",
    "\n"
   ]
  },
  {
   "cell_type": "code",
   "execution_count": 4,
   "metadata": {},
   "outputs": [
    {
     "data": {
      "text/plain": [
       "-1.0000            1\n",
       " 0.0700            2\n",
       " 0.0875            1\n",
       " 0.0900            1\n",
       " 0.1000         2932\n",
       "                ... \n",
       " 42990.0000        4\n",
       " 49782.0000        1\n",
       " 50999.0000        1\n",
       " 59200.0000        1\n",
       " 307980.0000       1\n",
       "Name: item_price, Length: 19993, dtype: int64"
      ]
     },
     "execution_count": 4,
     "metadata": {},
     "output_type": "execute_result"
    }
   ],
   "source": [
    "\n",
    "\n",
    "#To see the values\n",
    "transactions.item_price.value_counts().sort_index()\n"
   ]
  },
  {
   "cell_type": "markdown",
   "metadata": {},
   "source": [
    "It pops up some interesting things:\n",
    "\n",
    "1. The Ramind were sold for 522 people and it was all summed up in one line giving the price of 307980.\n",
    "\n",
    "2. The item Shipping (EMS) has a long array of prices and amounts of sales, all from shop 12. However, in the test set, we need to predict this item with 41 other shops. In transaction, their single price ranges from 38 to 1930 a piece. This item seems to be wild card.\n",
    "\n",
    "3. The item \"Microsoft Xbox One 1TB  Limited Edition\" occupies a few spots in the top price items."
   ]
  },
  {
   "cell_type": "code",
   "execution_count": 5,
   "metadata": {},
   "outputs": [
    {
     "data": {
      "text/html": [
       "<div>\n",
       "<style scoped>\n",
       "    .dataframe tbody tr th:only-of-type {\n",
       "        vertical-align: middle;\n",
       "    }\n",
       "\n",
       "    .dataframe tbody tr th {\n",
       "        vertical-align: top;\n",
       "    }\n",
       "\n",
       "    .dataframe thead th {\n",
       "        text-align: right;\n",
       "    }\n",
       "</style>\n",
       "<table border=\"1\" class=\"dataframe\">\n",
       "  <thead>\n",
       "    <tr style=\"text-align: right;\">\n",
       "      <th></th>\n",
       "      <th>date</th>\n",
       "      <th>date_block_num</th>\n",
       "      <th>shop_id</th>\n",
       "      <th>item_id</th>\n",
       "      <th>item_price</th>\n",
       "      <th>item_cnt_day</th>\n",
       "    </tr>\n",
       "  </thead>\n",
       "  <tbody>\n",
       "    <tr>\n",
       "      <th>484683</th>\n",
       "      <td>15.05.2013</td>\n",
       "      <td>4</td>\n",
       "      <td>32</td>\n",
       "      <td>2973</td>\n",
       "      <td>-1.0</td>\n",
       "      <td>1.0</td>\n",
       "    </tr>\n",
       "  </tbody>\n",
       "</table>\n",
       "</div>"
      ],
      "text/plain": [
       "              date  date_block_num  shop_id  item_id  item_price  item_cnt_day\n",
       "484683  15.05.2013               4       32     2973        -1.0           1.0"
      ]
     },
     "execution_count": 5,
     "metadata": {},
     "output_type": "execute_result"
    }
   ],
   "source": [
    "###also there is one price of -1\n",
    "transactions.item_price.min()\n",
    "\n",
    "transactions[transactions.item_price == transactions.item_price.min()]"
   ]
  },
  {
   "cell_type": "code",
   "execution_count": 6,
   "metadata": {},
   "outputs": [
    {
     "data": {
      "text/plain": [
       "<matplotlib.axes._subplots.AxesSubplot at 0x7f62c8dba350>"
      ]
     },
     "execution_count": 6,
     "metadata": {},
     "output_type": "execute_result"
    },
    {
     "data": {
      "image/png": "[encoded data removed]",
      "text/plain": [
       "<Figure size 720x288 with 1 Axes>"
      ]
     },
     "metadata": {
      "needs_background": "light"
     },
     "output_type": "display_data"
    }
   ],
   "source": [
    "####investigate item_cnt_day variance\n",
    "\n",
    "plt.figure(figsize=(10,4))\n",
    "plt.xlim(transactions.item_cnt_day.min(), transactions.item_cnt_day.max()*1.1)\n",
    "    \n",
    "    #print (transactions[transactions[\"item_id\"] == i][\"item_price\"])\n",
    "sns.boxplot(x=transactions.item_cnt_day)\n",
    "\n"
   ]
  },
  {
   "cell_type": "code",
   "execution_count": 7,
   "metadata": {},
   "outputs": [
    {
     "data": {
      "text/plain": [
       "-22.0      1\n",
       "-16.0      1\n",
       "-9.0       1\n",
       "-6.0       2\n",
       "-5.0       4\n",
       "          ..\n",
       " 624.0     1\n",
       " 637.0     1\n",
       " 669.0     1\n",
       " 1000.0    1\n",
       " 2169.0    1\n",
       "Name: item_cnt_day, Length: 198, dtype: int64"
      ]
     },
     "execution_count": 7,
     "metadata": {},
     "output_type": "execute_result"
    }
   ],
   "source": [
    "#To see the values\n",
    "transactions.item_cnt_day.value_counts().sort_index()"
   ]
  },
  {
   "cell_type": "markdown",
   "metadata": {},
   "source": [
    "According to https://www.kaggle.com/dlarionov/feature-engineering-xgboost, there are duplicate shops"
   ]
  },
  {
   "cell_type": "code",
   "execution_count": 8,
   "metadata": {},
   "outputs": [
    {
     "data": {
      "text/html": [
       "<div>\n",
       "<style scoped>\n",
       "    .dataframe tbody tr th:only-of-type {\n",
       "        vertical-align: middle;\n",
       "    }\n",
       "\n",
       "    .dataframe tbody tr th {\n",
       "        vertical-align: top;\n",
       "    }\n",
       "\n",
       "    .dataframe thead th {\n",
       "        text-align: right;\n",
       "    }\n",
       "</style>\n",
       "<table border=\"1\" class=\"dataframe\">\n",
       "  <thead>\n",
       "    <tr style=\"text-align: right;\">\n",
       "      <th></th>\n",
       "      <th>shop_name</th>\n",
       "      <th>shop_id</th>\n",
       "    </tr>\n",
       "  </thead>\n",
       "  <tbody>\n",
       "    <tr>\n",
       "      <th>57</th>\n",
       "      <td>Якутск Орджоникидзе, 56</td>\n",
       "      <td>57</td>\n",
       "    </tr>\n",
       "  </tbody>\n",
       "</table>\n",
       "</div>"
      ],
      "text/plain": [
       "                  shop_name  shop_id\n",
       "57  Якутск Орджоникидзе, 56       57"
      ]
     },
     "execution_count": 8,
     "metadata": {},
     "output_type": "execute_result"
    }
   ],
   "source": [
    "shops[shops.shop_id == 57]"
   ]
  },
  {
   "cell_type": "code",
   "execution_count": 9,
   "metadata": {},
   "outputs": [
    {
     "data": {
      "text/html": [
       "<div>\n",
       "<style scoped>\n",
       "    .dataframe tbody tr th:only-of-type {\n",
       "        vertical-align: middle;\n",
       "    }\n",
       "\n",
       "    .dataframe tbody tr th {\n",
       "        vertical-align: top;\n",
       "    }\n",
       "\n",
       "    .dataframe thead th {\n",
       "        text-align: right;\n",
       "    }\n",
       "</style>\n",
       "<table border=\"1\" class=\"dataframe\">\n",
       "  <thead>\n",
       "    <tr style=\"text-align: right;\">\n",
       "      <th></th>\n",
       "      <th>shop_name</th>\n",
       "      <th>shop_id</th>\n",
       "    </tr>\n",
       "  </thead>\n",
       "  <tbody>\n",
       "    <tr>\n",
       "      <th>0</th>\n",
       "      <td>!Якутск Орджоникидзе, 56 фран</td>\n",
       "      <td>0</td>\n",
       "    </tr>\n",
       "  </tbody>\n",
       "</table>\n",
       "</div>"
      ],
      "text/plain": [
       "                       shop_name  shop_id\n",
       "0  !Якутск Орджоникидзе, 56 фран        0"
      ]
     },
     "execution_count": 9,
     "metadata": {},
     "output_type": "execute_result"
    }
   ],
   "source": [
    "shops[shops.shop_id == 0]"
   ]
  },
  {
   "cell_type": "code",
   "execution_count": 10,
   "metadata": {},
   "outputs": [
    {
     "data": {
      "text/html": [
       "<div>\n",
       "<style scoped>\n",
       "    .dataframe tbody tr th:only-of-type {\n",
       "        vertical-align: middle;\n",
       "    }\n",
       "\n",
       "    .dataframe tbody tr th {\n",
       "        vertical-align: top;\n",
       "    }\n",
       "\n",
       "    .dataframe thead th {\n",
       "        text-align: right;\n",
       "    }\n",
       "</style>\n",
       "<table border=\"1\" class=\"dataframe\">\n",
       "  <thead>\n",
       "    <tr style=\"text-align: right;\">\n",
       "      <th></th>\n",
       "      <th>shop_name</th>\n",
       "      <th>shop_id</th>\n",
       "    </tr>\n",
       "  </thead>\n",
       "  <tbody>\n",
       "    <tr>\n",
       "      <th>1</th>\n",
       "      <td>!Якутск ТЦ \"Центральный\" фран</td>\n",
       "      <td>1</td>\n",
       "    </tr>\n",
       "  </tbody>\n",
       "</table>\n",
       "</div>"
      ],
      "text/plain": [
       "                       shop_name  shop_id\n",
       "1  !Якутск ТЦ \"Центральный\" фран        1"
      ]
     },
     "execution_count": 10,
     "metadata": {},
     "output_type": "execute_result"
    }
   ],
   "source": [
    "shops[shops.shop_id == 1]"
   ]
  },
  {
   "cell_type": "code",
   "execution_count": 11,
   "metadata": {},
   "outputs": [
    {
     "data": {
      "text/html": [
       "<div>\n",
       "<style scoped>\n",
       "    .dataframe tbody tr th:only-of-type {\n",
       "        vertical-align: middle;\n",
       "    }\n",
       "\n",
       "    .dataframe tbody tr th {\n",
       "        vertical-align: top;\n",
       "    }\n",
       "\n",
       "    .dataframe thead th {\n",
       "        text-align: right;\n",
       "    }\n",
       "</style>\n",
       "<table border=\"1\" class=\"dataframe\">\n",
       "  <thead>\n",
       "    <tr style=\"text-align: right;\">\n",
       "      <th></th>\n",
       "      <th>shop_name</th>\n",
       "      <th>shop_id</th>\n",
       "    </tr>\n",
       "  </thead>\n",
       "  <tbody>\n",
       "    <tr>\n",
       "      <th>58</th>\n",
       "      <td>Якутск ТЦ \"Центральный\"</td>\n",
       "      <td>58</td>\n",
       "    </tr>\n",
       "  </tbody>\n",
       "</table>\n",
       "</div>"
      ],
      "text/plain": [
       "                  shop_name  shop_id\n",
       "58  Якутск ТЦ \"Центральный\"       58"
      ]
     },
     "execution_count": 11,
     "metadata": {},
     "output_type": "execute_result"
    }
   ],
   "source": [
    "shops[shops.shop_id == 58]"
   ]
  },
  {
   "cell_type": "code",
   "execution_count": 12,
   "metadata": {},
   "outputs": [
    {
     "data": {
      "text/html": [
       "<div>\n",
       "<style scoped>\n",
       "    .dataframe tbody tr th:only-of-type {\n",
       "        vertical-align: middle;\n",
       "    }\n",
       "\n",
       "    .dataframe tbody tr th {\n",
       "        vertical-align: top;\n",
       "    }\n",
       "\n",
       "    .dataframe thead th {\n",
       "        text-align: right;\n",
       "    }\n",
       "</style>\n",
       "<table border=\"1\" class=\"dataframe\">\n",
       "  <thead>\n",
       "    <tr style=\"text-align: right;\">\n",
       "      <th></th>\n",
       "      <th>shop_name</th>\n",
       "      <th>shop_id</th>\n",
       "    </tr>\n",
       "  </thead>\n",
       "  <tbody>\n",
       "    <tr>\n",
       "      <th>10</th>\n",
       "      <td>Жуковский ул. Чкалова 39м?</td>\n",
       "      <td>10</td>\n",
       "    </tr>\n",
       "  </tbody>\n",
       "</table>\n",
       "</div>"
      ],
      "text/plain": [
       "                     shop_name  shop_id\n",
       "10  Жуковский ул. Чкалова 39м?       10"
      ]
     },
     "execution_count": 12,
     "metadata": {},
     "output_type": "execute_result"
    }
   ],
   "source": [
    "shops[shops.shop_id == 10]"
   ]
  },
  {
   "cell_type": "code",
   "execution_count": 13,
   "metadata": {},
   "outputs": [
    {
     "data": {
      "text/html": [
       "<div>\n",
       "<style scoped>\n",
       "    .dataframe tbody tr th:only-of-type {\n",
       "        vertical-align: middle;\n",
       "    }\n",
       "\n",
       "    .dataframe tbody tr th {\n",
       "        vertical-align: top;\n",
       "    }\n",
       "\n",
       "    .dataframe thead th {\n",
       "        text-align: right;\n",
       "    }\n",
       "</style>\n",
       "<table border=\"1\" class=\"dataframe\">\n",
       "  <thead>\n",
       "    <tr style=\"text-align: right;\">\n",
       "      <th></th>\n",
       "      <th>shop_name</th>\n",
       "      <th>shop_id</th>\n",
       "    </tr>\n",
       "  </thead>\n",
       "  <tbody>\n",
       "    <tr>\n",
       "      <th>11</th>\n",
       "      <td>Жуковский ул. Чкалова 39м²</td>\n",
       "      <td>11</td>\n",
       "    </tr>\n",
       "  </tbody>\n",
       "</table>\n",
       "</div>"
      ],
      "text/plain": [
       "                     shop_name  shop_id\n",
       "11  Жуковский ул. Чкалова 39м²       11"
      ]
     },
     "execution_count": 13,
     "metadata": {},
     "output_type": "execute_result"
    }
   ],
   "source": [
    "shops[shops.shop_id == 11]"
   ]
  },
  {
   "cell_type": "code",
   "execution_count": 14,
   "metadata": {},
   "outputs": [],
   "source": [
    "###fix the outliers\n",
    "\n",
    "transactions = transactions[transactions.item_price< 80000]\n",
    "transactions = transactions[transactions.item_cnt_day < 1001]\n",
    "\n",
    "median = transactions[(transactions.shop_id==32)&(transactions.item_id==2973)&(transactions.date_block_num==4)&(transactions.item_price>0)].item_price.median()\n",
    "transactions.loc[transactions.item_price<0, 'item_price'] = median\n",
    "\n",
    "\n",
    "# Якутск Орджоникидзе, 56\n",
    "transactions.loc[transactions.shop_id == 0, 'shop_id'] = 57\n",
    "test.loc[test.shop_id == 0, 'shop_id'] = 57\n",
    "# Якутск ТЦ \"Центральный\"\n",
    "transactions.loc[transactions.shop_id == 1, 'shop_id'] = 58\n",
    "test.loc[test.shop_id == 1, 'shop_id'] = 58\n",
    "# Жуковский ул. Чкалова 39м²\n",
    "transactions.loc[transactions.shop_id == 10, 'shop_id'] = 11\n",
    "test.loc[test.shop_id == 10, 'shop_id'] = 11"
   ]
  },
  {
   "cell_type": "code",
   "execution_count": 15,
   "metadata": {},
   "outputs": [
    {
     "name": "stderr",
     "output_type": "stream",
     "text": [
      "/home/sih13/anaconda3/envs/keras-gpu/lib/python3.7/site-packages/pandas/core/groupby/generic.py:1455: FutureWarning: using a dict with renaming is deprecated and will be removed\n",
      "in a future version.\n",
      "\n",
      "For column-specific groupby renaming, use named aggregation\n",
      "\n",
      "    >>> df.groupby(...).agg(name=('column', aggfunc))\n",
      "\n",
      "  return super().aggregate(arg, *args, **kwargs)\n"
     ]
    }
   ],
   "source": [
    "####Borrow the codes from Programming_assignment_week_3\n",
    "\n",
    "# Create \"grid\" with columns\n",
    "index_cols = ['shop_id', 'item_id', 'date_block_num']\n",
    "\n",
    "# For every month we create a grid from all shops/items combinations from that month\n",
    "grid = [] \n",
    "for block_num in transactions['date_block_num'].unique():\n",
    "    cur_shops = transactions.loc[transactions['date_block_num'] == block_num, 'shop_id'].unique()\n",
    "    cur_items = transactions.loc[transactions['date_block_num'] == block_num, 'item_id'].unique()\n",
    "    grid.append(np.array(list(product(*[cur_shops, cur_items, [block_num]])),dtype='int32'))\n",
    "\n",
    "# Turn the grid into a dataframe\n",
    "grid = pd.DataFrame(np.vstack(grid), columns = index_cols,dtype=np.int32)\n",
    "\n",
    "# Groupby data to get shop-item-month aggregates\n",
    "gb = transactions.groupby(index_cols,as_index=False).agg({'item_cnt_day':{'target':'sum'}, 'item_price': {'item_price': \"mean\"}})\n",
    "# Fix column names\n",
    "gb.columns = [col[0] if col[-1]=='' else col[-1] for col in gb.columns.values] \n",
    "# Join it to the grid\n",
    "all_data = pd.merge(grid, gb, how='left', on=index_cols).fillna(0)\n",
    "all_data[\"target\"] = all_data[\"target\"].clip(0,20)\n"
   ]
  },
  {
   "cell_type": "code",
   "execution_count": 16,
   "metadata": {},
   "outputs": [
    {
     "data": {
      "text/html": [
       "<div>\n",
       "<style scoped>\n",
       "    .dataframe tbody tr th:only-of-type {\n",
       "        vertical-align: middle;\n",
       "    }\n",
       "\n",
       "    .dataframe tbody tr th {\n",
       "        vertical-align: top;\n",
       "    }\n",
       "\n",
       "    .dataframe thead th {\n",
       "        text-align: right;\n",
       "    }\n",
       "</style>\n",
       "<table border=\"1\" class=\"dataframe\">\n",
       "  <thead>\n",
       "    <tr style=\"text-align: right;\">\n",
       "      <th></th>\n",
       "      <th>shop_id</th>\n",
       "      <th>item_id</th>\n",
       "      <th>date_block_num</th>\n",
       "      <th>target</th>\n",
       "      <th>item_price</th>\n",
       "    </tr>\n",
       "  </thead>\n",
       "  <tbody>\n",
       "    <tr>\n",
       "      <th>0</th>\n",
       "      <td>59</td>\n",
       "      <td>22154</td>\n",
       "      <td>0</td>\n",
       "      <td>1.0</td>\n",
       "      <td>999.0</td>\n",
       "    </tr>\n",
       "    <tr>\n",
       "      <th>1</th>\n",
       "      <td>59</td>\n",
       "      <td>2552</td>\n",
       "      <td>0</td>\n",
       "      <td>0.0</td>\n",
       "      <td>0.0</td>\n",
       "    </tr>\n",
       "    <tr>\n",
       "      <th>2</th>\n",
       "      <td>59</td>\n",
       "      <td>2554</td>\n",
       "      <td>0</td>\n",
       "      <td>0.0</td>\n",
       "      <td>0.0</td>\n",
       "    </tr>\n",
       "    <tr>\n",
       "      <th>3</th>\n",
       "      <td>59</td>\n",
       "      <td>2555</td>\n",
       "      <td>0</td>\n",
       "      <td>0.0</td>\n",
       "      <td>0.0</td>\n",
       "    </tr>\n",
       "    <tr>\n",
       "      <th>4</th>\n",
       "      <td>59</td>\n",
       "      <td>2564</td>\n",
       "      <td>0</td>\n",
       "      <td>0.0</td>\n",
       "      <td>0.0</td>\n",
       "    </tr>\n",
       "  </tbody>\n",
       "</table>\n",
       "</div>"
      ],
      "text/plain": [
       "   shop_id  item_id  date_block_num  target  item_price\n",
       "0       59    22154               0     1.0       999.0\n",
       "1       59     2552               0     0.0         0.0\n",
       "2       59     2554               0     0.0         0.0\n",
       "3       59     2555               0     0.0         0.0\n",
       "4       59     2564               0     0.0         0.0"
      ]
     },
     "execution_count": 16,
     "metadata": {},
     "output_type": "execute_result"
    }
   ],
   "source": [
    "all_data.head()"
   ]
  },
  {
   "cell_type": "markdown",
   "metadata": {},
   "source": [
    "Do some trend visualization"
   ]
  },
  {
   "cell_type": "markdown",
   "metadata": {},
   "source": [
    "Visualize some items in shop 34"
   ]
  },
  {
   "cell_type": "code",
   "execution_count": 17,
   "metadata": {},
   "outputs": [
    {
     "data": {
      "image/png": "[encoded data removed]",
      "text/plain": [
       "<Figure size 432x288 with 1 Axes>"
      ]
     },
     "metadata": {
      "needs_background": "light"
     },
     "output_type": "display_data"
    }
   ],
   "source": [
    "tmp = all_data.groupby([\"shop_id\", \"date_block_num\", \"item_id\"])[\"target\"].sum().reset_index()\n",
    "\n",
    "shop_34 = tmp[tmp[\"shop_id\"] == 34]\n",
    "\n",
    "random_item = shop_34['item_id'].sample(n=10, random_state=1).to_list()\n",
    "\n",
    "\n",
    "shop_34_random_item = shop_34[shop_34[\"item_id\"].isin(random_item)]\n",
    "\n",
    "ax = sns.lineplot(x=shop_34_random_item[\"date_block_num\"], y=shop_34_random_item[\"target\"].clip(0, 20), hue=shop_34_random_item[\"item_id\"])"
   ]
  },
  {
   "cell_type": "code",
   "execution_count": 18,
   "metadata": {},
   "outputs": [
    {
     "data": {
      "image/png": "[encoded data removed]",
      "text/plain": [
       "<Figure size 432x288 with 1 Axes>"
      ]
     },
     "metadata": {
      "needs_background": "light"
     },
     "output_type": "display_data"
    }
   ],
   "source": [
    "tmp = all_data.groupby([\"shop_id\", \"date_block_num\"])[\"target\"].sum().reset_index()\n",
    "#tmp\n",
    "ax = sns.lineplot(x=tmp[tmp[\"shop_id\"] == 2][\"date_block_num\"], y=tmp[tmp[\"shop_id\"] == 2][\"target\"])"
   ]
  },
  {
   "cell_type": "code",
   "execution_count": 19,
   "metadata": {},
   "outputs": [
    {
     "data": {
      "image/png": "[encoded data removed]",
      "text/plain": [
       "<Figure size 432x288 with 1 Axes>"
      ]
     },
     "metadata": {
      "needs_background": "light"
     },
     "output_type": "display_data"
    }
   ],
   "source": [
    "ax = sns.lineplot(x=tmp[\"date_block_num\"], y=tmp[\"target\"], hue=tmp[\"shop_id\"])"
   ]
  },
  {
   "cell_type": "markdown",
   "metadata": {},
   "source": [
    "So, there were some good time in the past, somewhere date_block_num 11 and 23. But the general trend is downwards for all the shops."
   ]
  },
  {
   "cell_type": "code",
   "execution_count": 20,
   "metadata": {},
   "outputs": [
    {
     "data": {
      "text/plain": [
       "10913804"
      ]
     },
     "execution_count": 20,
     "metadata": {},
     "output_type": "execute_result"
    }
   ],
   "source": [
    "len(all_data)"
   ]
  },
  {
   "cell_type": "code",
   "execution_count": 21,
   "metadata": {},
   "outputs": [
    {
     "data": {
      "text/html": [
       "<div>\n",
       "<style scoped>\n",
       "    .dataframe tbody tr th:only-of-type {\n",
       "        vertical-align: middle;\n",
       "    }\n",
       "\n",
       "    .dataframe tbody tr th {\n",
       "        vertical-align: top;\n",
       "    }\n",
       "\n",
       "    .dataframe thead th {\n",
       "        text-align: right;\n",
       "    }\n",
       "</style>\n",
       "<table border=\"1\" class=\"dataframe\">\n",
       "  <thead>\n",
       "    <tr style=\"text-align: right;\">\n",
       "      <th></th>\n",
       "      <th>shop_id</th>\n",
       "      <th>item_id</th>\n",
       "      <th>date_block_num</th>\n",
       "      <th>target</th>\n",
       "      <th>item_price</th>\n",
       "    </tr>\n",
       "  </thead>\n",
       "  <tbody>\n",
       "    <tr>\n",
       "      <th>0</th>\n",
       "      <td>59</td>\n",
       "      <td>22154</td>\n",
       "      <td>0</td>\n",
       "      <td>1.0</td>\n",
       "      <td>999.0</td>\n",
       "    </tr>\n",
       "    <tr>\n",
       "      <th>1</th>\n",
       "      <td>59</td>\n",
       "      <td>2552</td>\n",
       "      <td>0</td>\n",
       "      <td>0.0</td>\n",
       "      <td>0.0</td>\n",
       "    </tr>\n",
       "    <tr>\n",
       "      <th>2</th>\n",
       "      <td>59</td>\n",
       "      <td>2554</td>\n",
       "      <td>0</td>\n",
       "      <td>0.0</td>\n",
       "      <td>0.0</td>\n",
       "    </tr>\n",
       "    <tr>\n",
       "      <th>3</th>\n",
       "      <td>59</td>\n",
       "      <td>2555</td>\n",
       "      <td>0</td>\n",
       "      <td>0.0</td>\n",
       "      <td>0.0</td>\n",
       "    </tr>\n",
       "    <tr>\n",
       "      <th>4</th>\n",
       "      <td>59</td>\n",
       "      <td>2564</td>\n",
       "      <td>0</td>\n",
       "      <td>0.0</td>\n",
       "      <td>0.0</td>\n",
       "    </tr>\n",
       "  </tbody>\n",
       "</table>\n",
       "</div>"
      ],
      "text/plain": [
       "   shop_id  item_id  date_block_num  target  item_price\n",
       "0       59    22154               0     1.0       999.0\n",
       "1       59     2552               0     0.0         0.0\n",
       "2       59     2554               0     0.0         0.0\n",
       "3       59     2555               0     0.0         0.0\n",
       "4       59     2564               0     0.0         0.0"
      ]
     },
     "execution_count": 21,
     "metadata": {},
     "output_type": "execute_result"
    }
   ],
   "source": [
    "all_data.head()"
   ]
  },
  {
   "cell_type": "code",
   "execution_count": 22,
   "metadata": {},
   "outputs": [
    {
     "data": {
      "text/plain": [
       "42    5100\n",
       "Name: item_count, dtype: int64"
      ]
     },
     "execution_count": 22,
     "metadata": {},
     "output_type": "execute_result"
    }
   ],
   "source": [
    "## check for data leak in test\n",
    "\n",
    "test[\"item_id\"].value_counts().to_frame(\"item_count\")[\"item_count\"].value_counts()"
   ]
  },
  {
   "cell_type": "code",
   "execution_count": 23,
   "metadata": {},
   "outputs": [
    {
     "data": {
      "text/plain": [
       "59    5100\n",
       "16    5100\n",
       "28    5100\n",
       "26    5100\n",
       "25    5100\n",
       "24    5100\n",
       "22    5100\n",
       "21    5100\n",
       "19    5100\n",
       "18    5100\n",
       "15    5100\n",
       "58    5100\n",
       "14    5100\n",
       "12    5100\n",
       "11    5100\n",
       "7     5100\n",
       "6     5100\n",
       "5     5100\n",
       "4     5100\n",
       "3     5100\n",
       "31    5100\n",
       "34    5100\n",
       "35    5100\n",
       "36    5100\n",
       "57    5100\n",
       "56    5100\n",
       "55    5100\n",
       "53    5100\n",
       "52    5100\n",
       "50    5100\n",
       "49    5100\n",
       "48    5100\n",
       "47    5100\n",
       "46    5100\n",
       "45    5100\n",
       "44    5100\n",
       "42    5100\n",
       "41    5100\n",
       "39    5100\n",
       "38    5100\n",
       "37    5100\n",
       "2     5100\n",
       "Name: shop_id, dtype: int64"
      ]
     },
     "execution_count": 23,
     "metadata": {},
     "output_type": "execute_result"
    }
   ],
   "source": [
    "test[\"shop_id\"].value_counts()"
   ]
  },
  {
   "cell_type": "code",
   "execution_count": 24,
   "metadata": {},
   "outputs": [],
   "source": [
    "test = test.merge(items[[\"item_id\", \"item_category_id\"]], on = [\"item_id\"], how=\"left\")\n"
   ]
  },
  {
   "cell_type": "code",
   "execution_count": 25,
   "metadata": {},
   "outputs": [
    {
     "data": {
      "text/html": [
       "<div>\n",
       "<style scoped>\n",
       "    .dataframe tbody tr th:only-of-type {\n",
       "        vertical-align: middle;\n",
       "    }\n",
       "\n",
       "    .dataframe tbody tr th {\n",
       "        vertical-align: top;\n",
       "    }\n",
       "\n",
       "    .dataframe thead th {\n",
       "        text-align: right;\n",
       "    }\n",
       "</style>\n",
       "<table border=\"1\" class=\"dataframe\">\n",
       "  <thead>\n",
       "    <tr style=\"text-align: right;\">\n",
       "      <th></th>\n",
       "      <th>category_count</th>\n",
       "    </tr>\n",
       "  </thead>\n",
       "  <tbody>\n",
       "    <tr>\n",
       "      <th>40</th>\n",
       "      <td>32340</td>\n",
       "    </tr>\n",
       "    <tr>\n",
       "      <th>55</th>\n",
       "      <td>28224</td>\n",
       "    </tr>\n",
       "    <tr>\n",
       "      <th>37</th>\n",
       "      <td>13902</td>\n",
       "    </tr>\n",
       "    <tr>\n",
       "      <th>31</th>\n",
       "      <td>11634</td>\n",
       "    </tr>\n",
       "    <tr>\n",
       "      <th>58</th>\n",
       "      <td>9366</td>\n",
       "    </tr>\n",
       "    <tr>\n",
       "      <th>...</th>\n",
       "      <td>...</td>\n",
       "    </tr>\n",
       "    <tr>\n",
       "      <th>11</th>\n",
       "      <td>42</td>\n",
       "    </tr>\n",
       "    <tr>\n",
       "      <th>79</th>\n",
       "      <td>42</td>\n",
       "    </tr>\n",
       "    <tr>\n",
       "      <th>71</th>\n",
       "      <td>42</td>\n",
       "    </tr>\n",
       "    <tr>\n",
       "      <th>74</th>\n",
       "      <td>42</td>\n",
       "    </tr>\n",
       "    <tr>\n",
       "      <th>0</th>\n",
       "      <td>42</td>\n",
       "    </tr>\n",
       "  </tbody>\n",
       "</table>\n",
       "<p>62 rows × 1 columns</p>\n",
       "</div>"
      ],
      "text/plain": [
       "    category_count\n",
       "40           32340\n",
       "55           28224\n",
       "37           13902\n",
       "31           11634\n",
       "58            9366\n",
       "..             ...\n",
       "11              42\n",
       "79              42\n",
       "71              42\n",
       "74              42\n",
       "0               42\n",
       "\n",
       "[62 rows x 1 columns]"
      ]
     },
     "execution_count": 25,
     "metadata": {},
     "output_type": "execute_result"
    }
   ],
   "source": [
    "test[\"item_category_id\"].value_counts().to_frame(\"category_count\")"
   ]
  },
  {
   "cell_type": "code",
   "execution_count": 26,
   "metadata": {},
   "outputs": [
    {
     "data": {
      "text/plain": [
       "<matplotlib.axes._subplots.AxesSubplot at 0x7f628b27fbd0>"
      ]
     },
     "execution_count": 26,
     "metadata": {},
     "output_type": "execute_result"
    },
    {
     "data": {
      "image/png": "[encoded data removed]",
      "text/plain": [
       "<Figure size 432x288 with 1 Axes>"
      ]
     },
     "metadata": {
      "needs_background": "light"
     },
     "output_type": "display_data"
    }
   ],
   "source": [
    "test[\"item_category_id\"].value_counts().to_frame(\"category_count\")[\"category_count\"].value_counts().plot(kind='bar')"
   ]
  },
  {
   "cell_type": "markdown",
   "metadata": {},
   "source": [
    "So there are 5100 items and all have been chosen 42 times and 42 shops and all have been chosen 5100 times. The categories are unevenly distributed, but it seems 42 is magic number too because 6 categories appear 42 tims and 3 categories 84 times and so on. However. 1. Time to investigate some leak? 2. It also implies that many shop-item combi may not exist in reality, that is, certain shops don't sell many of the items in the test set, result in a safe default values of 0."
   ]
  },
  {
   "cell_type": "code",
   "execution_count": 27,
   "metadata": {},
   "outputs": [
    {
     "name": "stdout",
     "output_type": "stream",
     "text": [
      "Doing target_shop\n",
      "Doing target_item\n",
      "Doing target_item_shop\n",
      "Doing price_target_item_shop\n",
      "Doing target_category\n"
     ]
    }
   ],
   "source": [
    "###### target encoding several features, inspired by https://www.kaggle.com/szhou42/predict-future-sales-top-11-solution\n",
    "\n",
    "print (\"Doing target_shop\")\n",
    "\n",
    "\n",
    "\n",
    "target_encoding(all_data, ['shop_id', 'date_block_num'], \"target\", \"target_shop\", \"sum\")\n",
    "\n",
    "\n",
    "\n",
    "print (\"Doing target_item\")\n",
    "\n",
    "target_encoding(all_data, ['item_id', 'date_block_num'], \"target\", \"target_item\", \"mean\")\n",
    "\n",
    "\n",
    "\n",
    "print (\"Doing target_item_shop\")\n",
    "\n",
    "target_encoding(all_data, ['item_id', \"shop_id\", 'date_block_num'], \"target\", \"target_item_shop\", \"sum\")\n",
    "\n",
    "\n",
    "print (\"Doing price_target_item_shop\")\n",
    "\n",
    "target_encoding(all_data, ['item_id', \"shop_id\", 'date_block_num'], \"item_price\", \"price_target_item_shop\", \"mean\")\n",
    "\n",
    "\n",
    "all_data = all_data.merge(items[[\"item_id\", \"item_category_id\"]], on = [\"item_id\"], how=\"left\")\n",
    "\n",
    "print (\"Doing target_category\")\n",
    "\n",
    "target_encoding(all_data, ['shop_id', 'item_category_id', 'date_block_num'], \"target\", \"target_category_shop\", \"sum\")\n",
    "\n",
    "\n",
    "# Downcast dtypes from 64 to 32 bit to save memory\n",
    "all_data = downcast_dtypes(all_data)\n",
    "\n",
    "gc.collect();"
   ]
  },
  {
   "cell_type": "code",
   "execution_count": 28,
   "metadata": {},
   "outputs": [
    {
     "name": "stderr",
     "output_type": "stream",
     "text": [
      "/home/sih13/anaconda3/envs/keras-gpu/lib/python3.7/site-packages/ipykernel_launcher.py:14: FutureWarning: Sorting because non-concatenation axis is not aligned. A future version\n",
      "of pandas will change to not sort by default.\n",
      "\n",
      "To accept the future behavior, pass 'sort=False'.\n",
      "\n",
      "To retain the current behavior and silence the warning, pass 'sort=True'.\n",
      "\n",
      "  \n"
     ]
    }
   ],
   "source": [
    "#### combine train test, then do the time lag\n",
    "\n",
    "\n",
    "test.sort_values(\"ID\", inplace=True)\n",
    "\n",
    "test[\"target\"] =0\n",
    "test[\"item_price\"] =0\n",
    "test[\"date_block_num\"] = transactions[\"date_block_num\"].max() + 1\n",
    "test[\"target_shop\"] = 0\n",
    "test[\"target_item\"] = 0\n",
    "test[\"target_category_shop\"] = 0\n",
    "test[\"target_item_shop\"] = 0\n",
    "\n",
    "train_test_together = pd.concat([all_data, test])\n"
   ]
  },
  {
   "cell_type": "code",
   "execution_count": 29,
   "metadata": {},
   "outputs": [
    {
     "data": {
      "text/html": [
       "<div>\n",
       "<style scoped>\n",
       "    .dataframe tbody tr th:only-of-type {\n",
       "        vertical-align: middle;\n",
       "    }\n",
       "\n",
       "    .dataframe tbody tr th {\n",
       "        vertical-align: top;\n",
       "    }\n",
       "\n",
       "    .dataframe thead th {\n",
       "        text-align: right;\n",
       "    }\n",
       "</style>\n",
       "<table border=\"1\" class=\"dataframe\">\n",
       "  <thead>\n",
       "    <tr style=\"text-align: right;\">\n",
       "      <th></th>\n",
       "      <th>ID</th>\n",
       "      <th>date_block_num</th>\n",
       "      <th>item_category_id</th>\n",
       "      <th>item_id</th>\n",
       "      <th>item_price</th>\n",
       "      <th>price_target_item_shop</th>\n",
       "      <th>shop_id</th>\n",
       "      <th>target</th>\n",
       "      <th>target_category_shop</th>\n",
       "      <th>target_item</th>\n",
       "      <th>target_item_shop</th>\n",
       "      <th>target_shop</th>\n",
       "    </tr>\n",
       "  </thead>\n",
       "  <tbody>\n",
       "    <tr>\n",
       "      <th>6593072</th>\n",
       "      <td>NaN</td>\n",
       "      <td>18</td>\n",
       "      <td>30</td>\n",
       "      <td>2252</td>\n",
       "      <td>0.0</td>\n",
       "      <td>0.0</td>\n",
       "      <td>34</td>\n",
       "      <td>0.0</td>\n",
       "      <td>0.0</td>\n",
       "      <td>1.559570</td>\n",
       "      <td>0.0</td>\n",
       "      <td>2.0</td>\n",
       "    </tr>\n",
       "    <tr>\n",
       "      <th>6875754</th>\n",
       "      <td>NaN</td>\n",
       "      <td>19</td>\n",
       "      <td>30</td>\n",
       "      <td>2252</td>\n",
       "      <td>418.5</td>\n",
       "      <td>418.5</td>\n",
       "      <td>34</td>\n",
       "      <td>1.0</td>\n",
       "      <td>72.0</td>\n",
       "      <td>1.784180</td>\n",
       "      <td>1.0</td>\n",
       "      <td>368.0</td>\n",
       "    </tr>\n",
       "    <tr>\n",
       "      <th>7234019</th>\n",
       "      <td>NaN</td>\n",
       "      <td>20</td>\n",
       "      <td>30</td>\n",
       "      <td>2252</td>\n",
       "      <td>419.0</td>\n",
       "      <td>419.0</td>\n",
       "      <td>34</td>\n",
       "      <td>1.0</td>\n",
       "      <td>49.0</td>\n",
       "      <td>1.200195</td>\n",
       "      <td>1.0</td>\n",
       "      <td>400.0</td>\n",
       "    </tr>\n",
       "    <tr>\n",
       "      <th>7713926</th>\n",
       "      <td>NaN</td>\n",
       "      <td>21</td>\n",
       "      <td>30</td>\n",
       "      <td>2252</td>\n",
       "      <td>419.0</td>\n",
       "      <td>419.0</td>\n",
       "      <td>34</td>\n",
       "      <td>1.0</td>\n",
       "      <td>52.0</td>\n",
       "      <td>1.750000</td>\n",
       "      <td>1.0</td>\n",
       "      <td>317.0</td>\n",
       "    </tr>\n",
       "    <tr>\n",
       "      <th>7807836</th>\n",
       "      <td>NaN</td>\n",
       "      <td>22</td>\n",
       "      <td>30</td>\n",
       "      <td>2252</td>\n",
       "      <td>0.0</td>\n",
       "      <td>0.0</td>\n",
       "      <td>34</td>\n",
       "      <td>0.0</td>\n",
       "      <td>57.0</td>\n",
       "      <td>2.240234</td>\n",
       "      <td>0.0</td>\n",
       "      <td>431.0</td>\n",
       "    </tr>\n",
       "    <tr>\n",
       "      <th>8224828</th>\n",
       "      <td>NaN</td>\n",
       "      <td>23</td>\n",
       "      <td>30</td>\n",
       "      <td>2252</td>\n",
       "      <td>399.0</td>\n",
       "      <td>399.0</td>\n",
       "      <td>34</td>\n",
       "      <td>1.0</td>\n",
       "      <td>68.0</td>\n",
       "      <td>3.099609</td>\n",
       "      <td>1.0</td>\n",
       "      <td>638.0</td>\n",
       "    </tr>\n",
       "    <tr>\n",
       "      <th>8643886</th>\n",
       "      <td>NaN</td>\n",
       "      <td>24</td>\n",
       "      <td>30</td>\n",
       "      <td>2252</td>\n",
       "      <td>0.0</td>\n",
       "      <td>0.0</td>\n",
       "      <td>34</td>\n",
       "      <td>0.0</td>\n",
       "      <td>62.0</td>\n",
       "      <td>3.000000</td>\n",
       "      <td>0.0</td>\n",
       "      <td>473.0</td>\n",
       "    </tr>\n",
       "    <tr>\n",
       "      <th>8796007</th>\n",
       "      <td>NaN</td>\n",
       "      <td>25</td>\n",
       "      <td>30</td>\n",
       "      <td>2252</td>\n",
       "      <td>399.0</td>\n",
       "      <td>399.0</td>\n",
       "      <td>34</td>\n",
       "      <td>2.0</td>\n",
       "      <td>67.0</td>\n",
       "      <td>1.936523</td>\n",
       "      <td>2.0</td>\n",
       "      <td>388.0</td>\n",
       "    </tr>\n",
       "    <tr>\n",
       "      <th>9074624</th>\n",
       "      <td>NaN</td>\n",
       "      <td>26</td>\n",
       "      <td>30</td>\n",
       "      <td>2252</td>\n",
       "      <td>399.0</td>\n",
       "      <td>399.0</td>\n",
       "      <td>34</td>\n",
       "      <td>1.0</td>\n",
       "      <td>63.0</td>\n",
       "      <td>2.283203</td>\n",
       "      <td>1.0</td>\n",
       "      <td>430.0</td>\n",
       "    </tr>\n",
       "    <tr>\n",
       "      <th>9326831</th>\n",
       "      <td>NaN</td>\n",
       "      <td>27</td>\n",
       "      <td>30</td>\n",
       "      <td>2252</td>\n",
       "      <td>0.0</td>\n",
       "      <td>0.0</td>\n",
       "      <td>34</td>\n",
       "      <td>0.0</td>\n",
       "      <td>74.0</td>\n",
       "      <td>1.723633</td>\n",
       "      <td>0.0</td>\n",
       "      <td>370.0</td>\n",
       "    </tr>\n",
       "    <tr>\n",
       "      <th>9674584</th>\n",
       "      <td>NaN</td>\n",
       "      <td>28</td>\n",
       "      <td>30</td>\n",
       "      <td>2252</td>\n",
       "      <td>0.0</td>\n",
       "      <td>0.0</td>\n",
       "      <td>34</td>\n",
       "      <td>0.0</td>\n",
       "      <td>55.0</td>\n",
       "      <td>1.136719</td>\n",
       "      <td>0.0</td>\n",
       "      <td>394.0</td>\n",
       "    </tr>\n",
       "    <tr>\n",
       "      <th>9799717</th>\n",
       "      <td>NaN</td>\n",
       "      <td>29</td>\n",
       "      <td>30</td>\n",
       "      <td>2252</td>\n",
       "      <td>399.0</td>\n",
       "      <td>399.0</td>\n",
       "      <td>34</td>\n",
       "      <td>3.0</td>\n",
       "      <td>53.0</td>\n",
       "      <td>1.674805</td>\n",
       "      <td>3.0</td>\n",
       "      <td>386.0</td>\n",
       "    </tr>\n",
       "    <tr>\n",
       "      <th>10231977</th>\n",
       "      <td>NaN</td>\n",
       "      <td>30</td>\n",
       "      <td>30</td>\n",
       "      <td>2252</td>\n",
       "      <td>0.0</td>\n",
       "      <td>0.0</td>\n",
       "      <td>34</td>\n",
       "      <td>0.0</td>\n",
       "      <td>82.0</td>\n",
       "      <td>1.907227</td>\n",
       "      <td>0.0</td>\n",
       "      <td>432.0</td>\n",
       "    </tr>\n",
       "    <tr>\n",
       "      <th>10289180</th>\n",
       "      <td>NaN</td>\n",
       "      <td>31</td>\n",
       "      <td>30</td>\n",
       "      <td>2252</td>\n",
       "      <td>0.0</td>\n",
       "      <td>0.0</td>\n",
       "      <td>34</td>\n",
       "      <td>0.0</td>\n",
       "      <td>78.0</td>\n",
       "      <td>2.166016</td>\n",
       "      <td>0.0</td>\n",
       "      <td>474.0</td>\n",
       "    </tr>\n",
       "    <tr>\n",
       "      <th>10661794</th>\n",
       "      <td>NaN</td>\n",
       "      <td>32</td>\n",
       "      <td>30</td>\n",
       "      <td>2252</td>\n",
       "      <td>0.0</td>\n",
       "      <td>0.0</td>\n",
       "      <td>34</td>\n",
       "      <td>0.0</td>\n",
       "      <td>53.0</td>\n",
       "      <td>1.581055</td>\n",
       "      <td>0.0</td>\n",
       "      <td>418.0</td>\n",
       "    </tr>\n",
       "    <tr>\n",
       "      <th>10709215</th>\n",
       "      <td>NaN</td>\n",
       "      <td>33</td>\n",
       "      <td>30</td>\n",
       "      <td>2252</td>\n",
       "      <td>0.0</td>\n",
       "      <td>0.0</td>\n",
       "      <td>34</td>\n",
       "      <td>0.0</td>\n",
       "      <td>49.0</td>\n",
       "      <td>2.158203</td>\n",
       "      <td>0.0</td>\n",
       "      <td>382.0</td>\n",
       "    </tr>\n",
       "    <tr>\n",
       "      <th>183996</th>\n",
       "      <td>183996.0</td>\n",
       "      <td>34</td>\n",
       "      <td>30</td>\n",
       "      <td>2252</td>\n",
       "      <td>0.0</td>\n",
       "      <td>NaN</td>\n",
       "      <td>34</td>\n",
       "      <td>0.0</td>\n",
       "      <td>0.0</td>\n",
       "      <td>0.000000</td>\n",
       "      <td>0.0</td>\n",
       "      <td>0.0</td>\n",
       "    </tr>\n",
       "  </tbody>\n",
       "</table>\n",
       "</div>"
      ],
      "text/plain": [
       "                ID  date_block_num  item_category_id  item_id  item_price  \\\n",
       "6593072        NaN              18                30     2252         0.0   \n",
       "6875754        NaN              19                30     2252       418.5   \n",
       "7234019        NaN              20                30     2252       419.0   \n",
       "7713926        NaN              21                30     2252       419.0   \n",
       "7807836        NaN              22                30     2252         0.0   \n",
       "8224828        NaN              23                30     2252       399.0   \n",
       "8643886        NaN              24                30     2252         0.0   \n",
       "8796007        NaN              25                30     2252       399.0   \n",
       "9074624        NaN              26                30     2252       399.0   \n",
       "9326831        NaN              27                30     2252         0.0   \n",
       "9674584        NaN              28                30     2252         0.0   \n",
       "9799717        NaN              29                30     2252       399.0   \n",
       "10231977       NaN              30                30     2252         0.0   \n",
       "10289180       NaN              31                30     2252         0.0   \n",
       "10661794       NaN              32                30     2252         0.0   \n",
       "10709215       NaN              33                30     2252         0.0   \n",
       "183996    183996.0              34                30     2252         0.0   \n",
       "\n",
       "          price_target_item_shop  shop_id  target  target_category_shop  \\\n",
       "6593072                      0.0       34     0.0                   0.0   \n",
       "6875754                    418.5       34     1.0                  72.0   \n",
       "7234019                    419.0       34     1.0                  49.0   \n",
       "7713926                    419.0       34     1.0                  52.0   \n",
       "7807836                      0.0       34     0.0                  57.0   \n",
       "8224828                    399.0       34     1.0                  68.0   \n",
       "8643886                      0.0       34     0.0                  62.0   \n",
       "8796007                    399.0       34     2.0                  67.0   \n",
       "9074624                    399.0       34     1.0                  63.0   \n",
       "9326831                      0.0       34     0.0                  74.0   \n",
       "9674584                      0.0       34     0.0                  55.0   \n",
       "9799717                    399.0       34     3.0                  53.0   \n",
       "10231977                     0.0       34     0.0                  82.0   \n",
       "10289180                     0.0       34     0.0                  78.0   \n",
       "10661794                     0.0       34     0.0                  53.0   \n",
       "10709215                     0.0       34     0.0                  49.0   \n",
       "183996                       NaN       34     0.0                   0.0   \n",
       "\n",
       "          target_item  target_item_shop  target_shop  \n",
       "6593072      1.559570               0.0          2.0  \n",
       "6875754      1.784180               1.0        368.0  \n",
       "7234019      1.200195               1.0        400.0  \n",
       "7713926      1.750000               1.0        317.0  \n",
       "7807836      2.240234               0.0        431.0  \n",
       "8224828      3.099609               1.0        638.0  \n",
       "8643886      3.000000               0.0        473.0  \n",
       "8796007      1.936523               2.0        388.0  \n",
       "9074624      2.283203               1.0        430.0  \n",
       "9326831      1.723633               0.0        370.0  \n",
       "9674584      1.136719               0.0        394.0  \n",
       "9799717      1.674805               3.0        386.0  \n",
       "10231977     1.907227               0.0        432.0  \n",
       "10289180     2.166016               0.0        474.0  \n",
       "10661794     1.581055               0.0        418.0  \n",
       "10709215     2.158203               0.0        382.0  \n",
       "183996       0.000000               0.0          0.0  "
      ]
     },
     "execution_count": 29,
     "metadata": {},
     "output_type": "execute_result"
    }
   ],
   "source": [
    "### do some sanity check\n",
    "\n",
    "train_test_together[(train_test_together[\"item_id\"] == 2252) & (train_test_together[\"shop_id\"] == 34)]"
   ]
  },
  {
   "cell_type": "code",
   "execution_count": 30,
   "metadata": {},
   "outputs": [
    {
     "data": {
      "text/plain": [
       "11128004"
      ]
     },
     "execution_count": 30,
     "metadata": {},
     "output_type": "execute_result"
    }
   ],
   "source": [
    "## have a look at the size\n",
    "len(train_test_together)"
   ]
  },
  {
   "cell_type": "code",
   "execution_count": 31,
   "metadata": {},
   "outputs": [
    {
     "name": "stderr",
     "output_type": "stream",
     "text": [
      "/home/sih13/anaconda3/envs/keras-gpu/lib/python3.7/site-packages/ipykernel_launcher.py:94: TqdmDeprecationWarning: This function will be removed in tqdm==5.0.0\n",
      "Please use `tqdm.notebook.tqdm` instead of `tqdm.tqdm_notebook`\n"
     ]
    },
    {
     "data": {
      "application/vnd.jupyter.widget-view+json": {
       "model_id": "9581b7d543b64a009e1b53ec2ccf5f58",
       "version_major": 2,
       "version_minor": 0
      },
      "text/plain": [
       "HBox(children=(IntProgress(value=0, max=6), HTML(value='')))"
      ]
     },
     "metadata": {},
     "output_type": "display_data"
    },
    {
     "name": "stdout",
     "output_type": "stream",
     "text": [
      "\n"
     ]
    },
    {
     "data": {
      "application/vnd.jupyter.widget-view+json": {
       "model_id": "f3a4295c39e6418f9eb236a5febdf86c",
       "version_major": 2,
       "version_minor": 0
      },
      "text/plain": [
       "HBox(children=(IntProgress(value=0, max=6), HTML(value='')))"
      ]
     },
     "metadata": {},
     "output_type": "display_data"
    },
    {
     "name": "stdout",
     "output_type": "stream",
     "text": [
      "\n"
     ]
    },
    {
     "data": {
      "application/vnd.jupyter.widget-view+json": {
       "model_id": "396cd9a74bf24582a960eecaf11e84ab",
       "version_major": 2,
       "version_minor": 0
      },
      "text/plain": [
       "HBox(children=(IntProgress(value=0, max=6), HTML(value='')))"
      ]
     },
     "metadata": {},
     "output_type": "display_data"
    },
    {
     "name": "stdout",
     "output_type": "stream",
     "text": [
      "\n"
     ]
    },
    {
     "data": {
      "application/vnd.jupyter.widget-view+json": {
       "model_id": "48d706033a4f4111b8d26a116969aec6",
       "version_major": 2,
       "version_minor": 0
      },
      "text/plain": [
       "HBox(children=(IntProgress(value=0, max=6), HTML(value='')))"
      ]
     },
     "metadata": {},
     "output_type": "display_data"
    },
    {
     "name": "stdout",
     "output_type": "stream",
     "text": [
      "\n"
     ]
    },
    {
     "data": {
      "application/vnd.jupyter.widget-view+json": {
       "model_id": "fd772ad45ca546a4bba5d166bdfe29e4",
       "version_major": 2,
       "version_minor": 0
      },
      "text/plain": [
       "HBox(children=(IntProgress(value=0, max=6), HTML(value='')))"
      ]
     },
     "metadata": {},
     "output_type": "display_data"
    },
    {
     "name": "stdout",
     "output_type": "stream",
     "text": [
      "\n"
     ]
    }
   ],
   "source": [
    "#####compute time lags\n",
    "\n",
    "added_features = []\n",
    "\n",
    "lag_period = list(range(1,7))\n",
    "\n",
    "index_cols = ['item_id', \"shop_id\", 'date_block_num']\n",
    "\n",
    "train_test_together, new_features = create_lag(train_test_together, index_cols, \"date_block_num\", \"target_item_shop\", 'sum', lag_period)\n",
    "\n",
    "added_features += new_features\n",
    "\n",
    "\n",
    "\n",
    "index_cols = ['item_id', 'date_block_num']\n",
    "\n",
    "train_test_together, new_features = create_lag(train_test_together, index_cols, \"date_block_num\", \"target_item\", 'mean', lag_period)\n",
    "\n",
    "added_features += new_features\n",
    "\n",
    "\n",
    "\n",
    "index_cols = ['shop_id', 'date_block_num']\n",
    "\n",
    "train_test_together, new_features = create_lag(train_test_together, index_cols, \"date_block_num\", \"target_shop\", 'sum', lag_period)\n",
    "\n",
    "added_features += new_features\n",
    "\n",
    "\n",
    "\n",
    "index_cols = ['shop_id', 'item_category_id', 'date_block_num']\n",
    "\n",
    "train_test_together, new_features = create_lag(train_test_together, index_cols, \"date_block_num\", \"target_category_shop\", 'mean', lag_period)\n",
    "\n",
    "added_features += new_features\n",
    "\n",
    "\n",
    "\n",
    "index_cols = ['item_id', 'shop_id', 'date_block_num']\n",
    "\n",
    "train_test_together, new_features = create_lag(train_test_together, index_cols, \"date_block_num\", \"item_price\", 'mean', lag_period)\n",
    "\n",
    "added_features += new_features"
   ]
  },
  {
   "cell_type": "code",
   "execution_count": 32,
   "metadata": {},
   "outputs": [
    {
     "data": {
      "text/plain": [
       "['target_item_shop_lag_1',\n",
       " 'target_item_shop_lag_2',\n",
       " 'target_item_shop_lag_3',\n",
       " 'target_item_shop_lag_4',\n",
       " 'target_item_shop_lag_5',\n",
       " 'target_item_shop_lag_6',\n",
       " 'target_item_lag_1',\n",
       " 'target_item_lag_2',\n",
       " 'target_item_lag_3',\n",
       " 'target_item_lag_4',\n",
       " 'target_item_lag_5',\n",
       " 'target_item_lag_6',\n",
       " 'target_shop_lag_1',\n",
       " 'target_shop_lag_2',\n",
       " 'target_shop_lag_3',\n",
       " 'target_shop_lag_4',\n",
       " 'target_shop_lag_5',\n",
       " 'target_shop_lag_6',\n",
       " 'target_category_shop_lag_1',\n",
       " 'target_category_shop_lag_2',\n",
       " 'target_category_shop_lag_3',\n",
       " 'target_category_shop_lag_4',\n",
       " 'target_category_shop_lag_5',\n",
       " 'target_category_shop_lag_6',\n",
       " 'item_price_lag_1',\n",
       " 'item_price_lag_2',\n",
       " 'item_price_lag_3',\n",
       " 'item_price_lag_4',\n",
       " 'item_price_lag_5',\n",
       " 'item_price_lag_6']"
      ]
     },
     "execution_count": 32,
     "metadata": {},
     "output_type": "execute_result"
    }
   ],
   "source": [
    "### sanity check\n",
    "\n",
    "added_features"
   ]
  },
  {
   "cell_type": "code",
   "execution_count": 33,
   "metadata": {},
   "outputs": [],
   "source": [
    "train_test_together.to_csv(\"./kaggle/output/train_test_together.csv\", index=False)"
   ]
  },
  {
   "cell_type": "code",
   "execution_count": 2,
   "metadata": {},
   "outputs": [],
   "source": [
    "### load the data\n",
    "\n",
    "train_test_together = pd.read_csv(\"./kaggle/output/train_test_together.csv\")\n"
   ]
  },
  {
   "cell_type": "code",
   "execution_count": 3,
   "metadata": {},
   "outputs": [],
   "source": [
    "added_features = ['target_item_shop_lag_1',\n",
    " 'target_item_shop_lag_2',\n",
    " 'target_item_shop_lag_3',\n",
    " 'target_item_shop_lag_4',\n",
    " 'target_item_shop_lag_5',\n",
    " 'target_item_shop_lag_6',\n",
    " 'target_item_lag_1',\n",
    " 'target_item_lag_2',\n",
    " 'target_item_lag_3',\n",
    " 'target_item_lag_4',\n",
    " 'target_item_lag_5',\n",
    " 'target_item_lag_6',\n",
    " 'target_shop_lag_1',\n",
    " 'target_shop_lag_2',\n",
    " 'target_shop_lag_3',\n",
    " 'target_shop_lag_4',\n",
    " 'target_shop_lag_5',\n",
    " 'target_shop_lag_6',\n",
    " 'target_category_shop_lag_1',\n",
    " 'target_category_shop_lag_2',\n",
    " 'target_category_shop_lag_3',\n",
    " 'target_category_shop_lag_4',\n",
    " 'target_category_shop_lag_5',\n",
    " 'target_category_shop_lag_6',\n",
    " 'item_price_lag_1',\n",
    " 'item_price_lag_2',\n",
    " 'item_price_lag_3',\n",
    " 'item_price_lag_4',\n",
    " 'item_price_lag_5',\n",
    " 'item_price_lag_6']"
   ]
  },
  {
   "cell_type": "code",
   "execution_count": 11,
   "metadata": {},
   "outputs": [],
   "source": []
  },
  {
   "cell_type": "code",
   "execution_count": null,
   "metadata": {},
   "outputs": [],
   "source": []
  },
  {
   "cell_type": "code",
   "execution_count": 34,
   "metadata": {},
   "outputs": [
    {
     "name": "stderr",
     "output_type": "stream",
     "text": [
      "/home/sih13/anaconda3/envs/keras-gpu/lib/python3.7/site-packages/pandas/core/frame.py:4117: SettingWithCopyWarning: \n",
      "A value is trying to be set on a copy of a slice from a DataFrame\n",
      "\n",
      "See the caveats in the documentation: http://pandas.pydata.org/pandas-docs/stable/user_guide/indexing.html#returning-a-view-versus-a-copy\n",
      "  errors=errors,\n",
      "/home/sih13/anaconda3/envs/keras-gpu/lib/python3.7/site-packages/xgboost/core.py:587: FutureWarning: Series.base is deprecated and will be removed in a future version\n",
      "  if getattr(data, 'base', None) is not None and \\\n",
      "/home/sih13/anaconda3/envs/keras-gpu/lib/python3.7/site-packages/xgboost/core.py:588: FutureWarning: Series.base is deprecated and will be removed in a future version\n",
      "  data.base is not None and isinstance(data, np.ndarray) \\\n"
     ]
    },
    {
     "name": "stdout",
     "output_type": "stream",
     "text": [
      "[13:29:52] WARNING: /opt/conda/conda-bld/xgboost_1560800456086/work/src/objective/regression_obj.cu:152: reg:linear is now deprecated in favor of reg:squarederror.\n",
      "[0]\tvalidation_0-rmse:1.1867\tvalidation_1-rmse:1.12125\n",
      "Multiple eval metrics have been passed: 'validation_1-rmse' will be used for early stopping.\n",
      "\n",
      "Will train until validation_1-rmse hasn't improved in 10 rounds.\n",
      "[1]\tvalidation_0-rmse:1.14123\tvalidation_1-rmse:1.0877\n",
      "[2]\tvalidation_0-rmse:1.10268\tvalidation_1-rmse:1.06008\n",
      "[3]\tvalidation_0-rmse:1.06875\tvalidation_1-rmse:1.03443\n",
      "[4]\tvalidation_0-rmse:1.04077\tvalidation_1-rmse:1.01508\n",
      "[5]\tvalidation_0-rmse:1.01732\tvalidation_1-rmse:0.999514\n",
      "[6]\tvalidation_0-rmse:0.9976\tvalidation_1-rmse:0.985972\n",
      "[7]\tvalidation_0-rmse:0.980397\tvalidation_1-rmse:0.973514\n",
      "[8]\tvalidation_0-rmse:0.966258\tvalidation_1-rmse:0.964578\n",
      "[9]\tvalidation_0-rmse:0.954439\tvalidation_1-rmse:0.957027\n",
      "[10]\tvalidation_0-rmse:0.944345\tvalidation_1-rmse:0.95098\n",
      "[11]\tvalidation_0-rmse:0.935355\tvalidation_1-rmse:0.944504\n",
      "[12]\tvalidation_0-rmse:0.928343\tvalidation_1-rmse:0.940177\n",
      "[13]\tvalidation_0-rmse:0.921916\tvalidation_1-rmse:0.936712\n",
      "[14]\tvalidation_0-rmse:0.91605\tvalidation_1-rmse:0.932876\n",
      "[15]\tvalidation_0-rmse:0.910707\tvalidation_1-rmse:0.928617\n",
      "[16]\tvalidation_0-rmse:0.906593\tvalidation_1-rmse:0.926292\n",
      "[17]\tvalidation_0-rmse:0.902965\tvalidation_1-rmse:0.923795\n",
      "[18]\tvalidation_0-rmse:0.899607\tvalidation_1-rmse:0.922776\n",
      "[19]\tvalidation_0-rmse:0.896792\tvalidation_1-rmse:0.921519\n",
      "[20]\tvalidation_0-rmse:0.893517\tvalidation_1-rmse:0.919895\n",
      "[21]\tvalidation_0-rmse:0.891062\tvalidation_1-rmse:0.918268\n",
      "[22]\tvalidation_0-rmse:0.889072\tvalidation_1-rmse:0.917491\n",
      "[23]\tvalidation_0-rmse:0.887131\tvalidation_1-rmse:0.915551\n",
      "[24]\tvalidation_0-rmse:0.885114\tvalidation_1-rmse:0.914827\n",
      "[25]\tvalidation_0-rmse:0.883438\tvalidation_1-rmse:0.914008\n",
      "[26]\tvalidation_0-rmse:0.881901\tvalidation_1-rmse:0.91329\n",
      "[27]\tvalidation_0-rmse:0.880742\tvalidation_1-rmse:0.912872\n",
      "[28]\tvalidation_0-rmse:0.879098\tvalidation_1-rmse:0.911948\n",
      "[29]\tvalidation_0-rmse:0.877762\tvalidation_1-rmse:0.911546\n",
      "[30]\tvalidation_0-rmse:0.876077\tvalidation_1-rmse:0.910684\n",
      "[31]\tvalidation_0-rmse:0.874894\tvalidation_1-rmse:0.909614\n",
      "[32]\tvalidation_0-rmse:0.873859\tvalidation_1-rmse:0.909061\n",
      "[33]\tvalidation_0-rmse:0.872612\tvalidation_1-rmse:0.908707\n",
      "[34]\tvalidation_0-rmse:0.87137\tvalidation_1-rmse:0.907851\n",
      "[35]\tvalidation_0-rmse:0.870116\tvalidation_1-rmse:0.907686\n",
      "[36]\tvalidation_0-rmse:0.869125\tvalidation_1-rmse:0.907361\n",
      "[37]\tvalidation_0-rmse:0.868369\tvalidation_1-rmse:0.90733\n",
      "[38]\tvalidation_0-rmse:0.867588\tvalidation_1-rmse:0.907103\n",
      "[39]\tvalidation_0-rmse:0.86709\tvalidation_1-rmse:0.907052\n",
      "[40]\tvalidation_0-rmse:0.866533\tvalidation_1-rmse:0.907203\n",
      "[41]\tvalidation_0-rmse:0.865719\tvalidation_1-rmse:0.907007\n",
      "[42]\tvalidation_0-rmse:0.865214\tvalidation_1-rmse:0.90656\n",
      "[43]\tvalidation_0-rmse:0.86431\tvalidation_1-rmse:0.90612\n",
      "[44]\tvalidation_0-rmse:0.863964\tvalidation_1-rmse:0.90592\n",
      "[45]\tvalidation_0-rmse:0.863412\tvalidation_1-rmse:0.905788\n",
      "[46]\tvalidation_0-rmse:0.863002\tvalidation_1-rmse:0.905605\n",
      "[47]\tvalidation_0-rmse:0.862702\tvalidation_1-rmse:0.905531\n",
      "[48]\tvalidation_0-rmse:0.862378\tvalidation_1-rmse:0.905484\n",
      "[49]\tvalidation_0-rmse:0.861872\tvalidation_1-rmse:0.905439\n",
      "[50]\tvalidation_0-rmse:0.861466\tvalidation_1-rmse:0.905424\n",
      "[51]\tvalidation_0-rmse:0.86114\tvalidation_1-rmse:0.905314\n",
      "[52]\tvalidation_0-rmse:0.860742\tvalidation_1-rmse:0.905241\n",
      "[53]\tvalidation_0-rmse:0.860211\tvalidation_1-rmse:0.905494\n",
      "[54]\tvalidation_0-rmse:0.859739\tvalidation_1-rmse:0.905167\n",
      "[55]\tvalidation_0-rmse:0.859128\tvalidation_1-rmse:0.9055\n",
      "[56]\tvalidation_0-rmse:0.858485\tvalidation_1-rmse:0.905401\n",
      "[57]\tvalidation_0-rmse:0.858199\tvalidation_1-rmse:0.90523\n",
      "[58]\tvalidation_0-rmse:0.857866\tvalidation_1-rmse:0.905208\n",
      "[59]\tvalidation_0-rmse:0.857569\tvalidation_1-rmse:0.905041\n",
      "[60]\tvalidation_0-rmse:0.857268\tvalidation_1-rmse:0.904957\n",
      "[61]\tvalidation_0-rmse:0.856754\tvalidation_1-rmse:0.904796\n",
      "[62]\tvalidation_0-rmse:0.856537\tvalidation_1-rmse:0.904557\n",
      "[63]\tvalidation_0-rmse:0.856299\tvalidation_1-rmse:0.904508\n",
      "[64]\tvalidation_0-rmse:0.855943\tvalidation_1-rmse:0.90444\n",
      "[65]\tvalidation_0-rmse:0.855573\tvalidation_1-rmse:0.904269\n",
      "[66]\tvalidation_0-rmse:0.855316\tvalidation_1-rmse:0.904141\n",
      "[67]\tvalidation_0-rmse:0.85482\tvalidation_1-rmse:0.904184\n",
      "[68]\tvalidation_0-rmse:0.854575\tvalidation_1-rmse:0.904045\n",
      "[69]\tvalidation_0-rmse:0.854331\tvalidation_1-rmse:0.903969\n",
      "[70]\tvalidation_0-rmse:0.853846\tvalidation_1-rmse:0.903944\n",
      "[71]\tvalidation_0-rmse:0.853613\tvalidation_1-rmse:0.903893\n",
      "[72]\tvalidation_0-rmse:0.853264\tvalidation_1-rmse:0.903918\n",
      "[73]\tvalidation_0-rmse:0.852278\tvalidation_1-rmse:0.903765\n",
      "[74]\tvalidation_0-rmse:0.851876\tvalidation_1-rmse:0.903563\n",
      "[75]\tvalidation_0-rmse:0.851491\tvalidation_1-rmse:0.903295\n",
      "[76]\tvalidation_0-rmse:0.851228\tvalidation_1-rmse:0.903232\n",
      "[77]\tvalidation_0-rmse:0.850982\tvalidation_1-rmse:0.903195\n",
      "[78]\tvalidation_0-rmse:0.850734\tvalidation_1-rmse:0.902998\n",
      "[79]\tvalidation_0-rmse:0.85042\tvalidation_1-rmse:0.903086\n",
      "[80]\tvalidation_0-rmse:0.850251\tvalidation_1-rmse:0.903031\n",
      "[81]\tvalidation_0-rmse:0.849871\tvalidation_1-rmse:0.902841\n",
      "[82]\tvalidation_0-rmse:0.849557\tvalidation_1-rmse:0.902803\n",
      "[83]\tvalidation_0-rmse:0.849265\tvalidation_1-rmse:0.902524\n",
      "[84]\tvalidation_0-rmse:0.849042\tvalidation_1-rmse:0.902283\n",
      "[85]\tvalidation_0-rmse:0.848806\tvalidation_1-rmse:0.902483\n",
      "[86]\tvalidation_0-rmse:0.848521\tvalidation_1-rmse:0.902751\n",
      "[87]\tvalidation_0-rmse:0.847852\tvalidation_1-rmse:0.902526\n",
      "[88]\tvalidation_0-rmse:0.847659\tvalidation_1-rmse:0.902408\n",
      "[89]\tvalidation_0-rmse:0.847078\tvalidation_1-rmse:0.903057\n",
      "[90]\tvalidation_0-rmse:0.846769\tvalidation_1-rmse:0.903054\n",
      "[91]\tvalidation_0-rmse:0.846327\tvalidation_1-rmse:0.903112\n",
      "[92]\tvalidation_0-rmse:0.846143\tvalidation_1-rmse:0.903328\n",
      "[93]\tvalidation_0-rmse:0.845923\tvalidation_1-rmse:0.903182\n",
      "[94]\tvalidation_0-rmse:0.845719\tvalidation_1-rmse:0.903203\n",
      "Stopping. Best iteration:\n",
      "[84]\tvalidation_0-rmse:0.849042\tvalidation_1-rmse:0.902283\n",
      "\n"
     ]
    },
    {
     "data": {
      "text/plain": [
       "XGBRegressor(base_score=0.5, booster='gbtree', colsample_bylevel=1,\n",
       "             colsample_bynode=1, colsample_bytree=1, eta=0.3, gamma=0,\n",
       "             importance_type='gain', learning_rate=0.1, max_delta_step=0,\n",
       "             max_depth=10, min_child_weight=500, missing=None, n_estimators=100,\n",
       "             n_jobs=1, nthread=None, objective='reg:linear', random_state=0,\n",
       "             reg_alpha=0, reg_lambda=1, scale_pos_weight=1, seed=None,\n",
       "             silent=None, subsample=0.6, tree_method='gpu_hist', verbosity=1)"
      ]
     },
     "execution_count": 34,
     "metadata": {},
     "output_type": "execute_result"
    }
   ],
   "source": [
    "### train the model with 6 ... 32, validate on 33, enable gpu\n",
    "\"\"\"\n",
    "\n",
    "best paras from gridsearchcv, codes are at the end of the notebook\n",
    "{'max_depth': 10, 'min_child_weight': 500, 'subsample': 0.6, 'tree_method': 'gpu_hist'} \n",
    "with score -0.8415075370796499\n",
    "\"\"\"\n",
    "\n",
    "\n",
    "baseline_features = ['shop_id', 'item_id', 'item_category_id', 'date_block_num'] +  added_features + ['target']\n",
    "\n",
    "\n",
    "train_time_range_lo = (train_test_together['date_block_num'] >= 6)\n",
    "train_time_range_hi =  (train_test_together['date_block_num'] <= 32)\n",
    "\n",
    "\n",
    "final_trainset = train_test_together[train_time_range_lo & train_time_range_hi]\n",
    "\n",
    "train_x = final_trainset[baseline_features]\n",
    "train_y = final_trainset[\"target\"]\n",
    "train_x.drop(\"target\", axis=1, inplace=True)\n",
    "\n",
    "\n",
    "val_time = (train_test_together['date_block_num'] == 33)\n",
    "\n",
    "final_trainset = train_test_together[val_time]\n",
    "\n",
    "\n",
    "val_x = final_trainset[baseline_features]\n",
    "val_y = final_trainset[\"target\"]\n",
    "val_x.drop(\"target\", axis=1, inplace=True)\n",
    "\n",
    "\n",
    "\n",
    "#model = xgb.XGBRegressor(max_depth = 8, min_child_weight=300, subsample = 0.8, eta = 0.3, seed = 43, nthread = 16, tree_method=\"gpu_hist\")\n",
    "model = xgb.XGBRegressor(max_depth = 10, min_child_weight=500, subsample = 0.6, eta = 0.3, tree_method=\"gpu_hist\")\n",
    "\n",
    "\n",
    "#model.fit(train_x, train_y)\n",
    "model.fit(\n",
    "    train_x, train_y, early_stopping_rounds = 10,\n",
    "    eval_metric=\"rmse\", \n",
    "    eval_set=[(train_x, train_y), (val_x, val_y)]\n",
    "\n",
    "    )\n"
   ]
  },
  {
   "cell_type": "code",
   "execution_count": 35,
   "metadata": {},
   "outputs": [],
   "source": [
    "with open(r\"./xgboost_gpu_best_para.m\", \"wb\") as output_file:\n",
    "    #cPickle.dump(d, output_file)\n",
    "\n",
    "    pickle.dump(model, output_file)"
   ]
  },
  {
   "cell_type": "code",
   "execution_count": 36,
   "metadata": {},
   "outputs": [],
   "source": [
    "#### predict 34, get 10/10 from coursera\n",
    "\n",
    "test_time =  (train_test_together['date_block_num'] == 34)\n",
    "\n",
    "testset = train_test_together[test_time]\n",
    "\n",
    "\n",
    "test_x = testset[baseline_features]\n",
    "#train_x = cv_trainset[baseline_features]\n",
    "test_x.drop(\"target\", axis=1, inplace=True)\n",
    "\n",
    "\n",
    "preds = model.predict(test_x).clip(0, 20)\n",
    "\n",
    "df = pd.DataFrame(preds, columns = ['item_cnt_month'])\n",
    "df.index.name='ID'\n",
    "\n",
    "\n",
    "df.to_csv('xgboost_gpu_my_preds_with_best_para.csv')"
   ]
  },
  {
   "cell_type": "code",
   "execution_count": 25,
   "metadata": {},
   "outputs": [
    {
     "name": "stderr",
     "output_type": "stream",
     "text": [
      "/home/sih13/anaconda3/envs/keras-gpu/lib/python3.7/site-packages/xgboost/core.py:587: FutureWarning: Series.base is deprecated and will be removed in a future version\n",
      "  if getattr(data, 'base', None) is not None and \\\n"
     ]
    },
    {
     "name": "stdout",
     "output_type": "stream",
     "text": [
      "[10:40:17] WARNING: /opt/conda/conda-bld/xgboost_1560800456086/work/src/objective/regression_obj.cu:152: reg:linear is now deprecated in favor of reg:squarederror.\n"
     ]
    },
    {
     "name": "stderr",
     "output_type": "stream",
     "text": [
      "/home/sih13/anaconda3/envs/keras-gpu/lib/python3.7/site-packages/xgboost/core.py:587: FutureWarning: Series.base is deprecated and will be removed in a future version\n",
      "  if getattr(data, 'base', None) is not None and \\\n"
     ]
    },
    {
     "name": "stdout",
     "output_type": "stream",
     "text": [
      "[10:40:25] WARNING: /opt/conda/conda-bld/xgboost_1560800456086/work/src/objective/regression_obj.cu:152: reg:linear is now deprecated in favor of reg:squarederror.\n"
     ]
    },
    {
     "name": "stderr",
     "output_type": "stream",
     "text": [
      "/home/sih13/anaconda3/envs/keras-gpu/lib/python3.7/site-packages/xgboost/core.py:587: FutureWarning: Series.base is deprecated and will be removed in a future version\n",
      "  if getattr(data, 'base', None) is not None and \\\n"
     ]
    },
    {
     "name": "stdout",
     "output_type": "stream",
     "text": [
      "[10:40:32] WARNING: /opt/conda/conda-bld/xgboost_1560800456086/work/src/objective/regression_obj.cu:152: reg:linear is now deprecated in favor of reg:squarederror.\n"
     ]
    },
    {
     "name": "stderr",
     "output_type": "stream",
     "text": [
      "/home/sih13/anaconda3/envs/keras-gpu/lib/python3.7/site-packages/xgboost/core.py:587: FutureWarning: Series.base is deprecated and will be removed in a future version\n",
      "  if getattr(data, 'base', None) is not None and \\\n"
     ]
    },
    {
     "name": "stdout",
     "output_type": "stream",
     "text": [
      "[10:40:40] WARNING: /opt/conda/conda-bld/xgboost_1560800456086/work/src/objective/regression_obj.cu:152: reg:linear is now deprecated in favor of reg:squarederror.\n"
     ]
    },
    {
     "name": "stderr",
     "output_type": "stream",
     "text": [
      "/home/sih13/anaconda3/envs/keras-gpu/lib/python3.7/site-packages/xgboost/core.py:587: FutureWarning: Series.base is deprecated and will be removed in a future version\n",
      "  if getattr(data, 'base', None) is not None and \\\n"
     ]
    },
    {
     "name": "stdout",
     "output_type": "stream",
     "text": [
      "[10:40:48] WARNING: /opt/conda/conda-bld/xgboost_1560800456086/work/src/objective/regression_obj.cu:152: reg:linear is now deprecated in favor of reg:squarederror.\n"
     ]
    },
    {
     "name": "stderr",
     "output_type": "stream",
     "text": [
      "/home/sih13/anaconda3/envs/keras-gpu/lib/python3.7/site-packages/xgboost/core.py:587: FutureWarning: Series.base is deprecated and will be removed in a future version\n",
      "  if getattr(data, 'base', None) is not None and \\\n"
     ]
    },
    {
     "name": "stdout",
     "output_type": "stream",
     "text": [
      "[10:40:56] WARNING: /opt/conda/conda-bld/xgboost_1560800456086/work/src/objective/regression_obj.cu:152: reg:linear is now deprecated in favor of reg:squarederror.\n"
     ]
    },
    {
     "name": "stderr",
     "output_type": "stream",
     "text": [
      "/home/sih13/anaconda3/envs/keras-gpu/lib/python3.7/site-packages/xgboost/core.py:587: FutureWarning: Series.base is deprecated and will be removed in a future version\n",
      "  if getattr(data, 'base', None) is not None and \\\n"
     ]
    },
    {
     "name": "stdout",
     "output_type": "stream",
     "text": [
      "[10:41:04] WARNING: /opt/conda/conda-bld/xgboost_1560800456086/work/src/objective/regression_obj.cu:152: reg:linear is now deprecated in favor of reg:squarederror.\n"
     ]
    },
    {
     "name": "stderr",
     "output_type": "stream",
     "text": [
      "/home/sih13/anaconda3/envs/keras-gpu/lib/python3.7/site-packages/xgboost/core.py:587: FutureWarning: Series.base is deprecated and will be removed in a future version\n",
      "  if getattr(data, 'base', None) is not None and \\\n"
     ]
    },
    {
     "name": "stdout",
     "output_type": "stream",
     "text": [
      "[10:41:13] WARNING: /opt/conda/conda-bld/xgboost_1560800456086/work/src/objective/regression_obj.cu:152: reg:linear is now deprecated in favor of reg:squarederror.\n"
     ]
    },
    {
     "name": "stderr",
     "output_type": "stream",
     "text": [
      "/home/sih13/anaconda3/envs/keras-gpu/lib/python3.7/site-packages/xgboost/core.py:587: FutureWarning: Series.base is deprecated and will be removed in a future version\n",
      "  if getattr(data, 'base', None) is not None and \\\n"
     ]
    },
    {
     "name": "stdout",
     "output_type": "stream",
     "text": [
      "[10:41:21] WARNING: /opt/conda/conda-bld/xgboost_1560800456086/work/src/objective/regression_obj.cu:152: reg:linear is now deprecated in favor of reg:squarederror.\n"
     ]
    },
    {
     "name": "stderr",
     "output_type": "stream",
     "text": [
      "/home/sih13/anaconda3/envs/keras-gpu/lib/python3.7/site-packages/xgboost/core.py:587: FutureWarning: Series.base is deprecated and will be removed in a future version\n",
      "  if getattr(data, 'base', None) is not None and \\\n"
     ]
    },
    {
     "name": "stdout",
     "output_type": "stream",
     "text": [
      "[10:41:28] WARNING: /opt/conda/conda-bld/xgboost_1560800456086/work/src/objective/regression_obj.cu:152: reg:linear is now deprecated in favor of reg:squarederror.\n"
     ]
    },
    {
     "name": "stderr",
     "output_type": "stream",
     "text": [
      "/home/sih13/anaconda3/envs/keras-gpu/lib/python3.7/site-packages/xgboost/core.py:587: FutureWarning: Series.base is deprecated and will be removed in a future version\n",
      "  if getattr(data, 'base', None) is not None and \\\n"
     ]
    },
    {
     "name": "stdout",
     "output_type": "stream",
     "text": [
      "[10:41:35] WARNING: /opt/conda/conda-bld/xgboost_1560800456086/work/src/objective/regression_obj.cu:152: reg:linear is now deprecated in favor of reg:squarederror.\n"
     ]
    },
    {
     "name": "stderr",
     "output_type": "stream",
     "text": [
      "/home/sih13/anaconda3/envs/keras-gpu/lib/python3.7/site-packages/xgboost/core.py:587: FutureWarning: Series.base is deprecated and will be removed in a future version\n",
      "  if getattr(data, 'base', None) is not None and \\\n"
     ]
    },
    {
     "name": "stdout",
     "output_type": "stream",
     "text": [
      "[10:41:42] WARNING: /opt/conda/conda-bld/xgboost_1560800456086/work/src/objective/regression_obj.cu:152: reg:linear is now deprecated in favor of reg:squarederror.\n"
     ]
    },
    {
     "name": "stderr",
     "output_type": "stream",
     "text": [
      "/home/sih13/anaconda3/envs/keras-gpu/lib/python3.7/site-packages/xgboost/core.py:587: FutureWarning: Series.base is deprecated and will be removed in a future version\n",
      "  if getattr(data, 'base', None) is not None and \\\n"
     ]
    },
    {
     "name": "stdout",
     "output_type": "stream",
     "text": [
      "[10:41:50] WARNING: /opt/conda/conda-bld/xgboost_1560800456086/work/src/objective/regression_obj.cu:152: reg:linear is now deprecated in favor of reg:squarederror.\n"
     ]
    },
    {
     "name": "stderr",
     "output_type": "stream",
     "text": [
      "/home/sih13/anaconda3/envs/keras-gpu/lib/python3.7/site-packages/xgboost/core.py:587: FutureWarning: Series.base is deprecated and will be removed in a future version\n",
      "  if getattr(data, 'base', None) is not None and \\\n"
     ]
    },
    {
     "name": "stdout",
     "output_type": "stream",
     "text": [
      "[10:41:57] WARNING: /opt/conda/conda-bld/xgboost_1560800456086/work/src/objective/regression_obj.cu:152: reg:linear is now deprecated in favor of reg:squarederror.\n"
     ]
    },
    {
     "name": "stderr",
     "output_type": "stream",
     "text": [
      "/home/sih13/anaconda3/envs/keras-gpu/lib/python3.7/site-packages/xgboost/core.py:587: FutureWarning: Series.base is deprecated and will be removed in a future version\n",
      "  if getattr(data, 'base', None) is not None and \\\n"
     ]
    },
    {
     "name": "stdout",
     "output_type": "stream",
     "text": [
      "[10:42:05] WARNING: /opt/conda/conda-bld/xgboost_1560800456086/work/src/objective/regression_obj.cu:152: reg:linear is now deprecated in favor of reg:squarederror.\n"
     ]
    },
    {
     "name": "stderr",
     "output_type": "stream",
     "text": [
      "/home/sih13/anaconda3/envs/keras-gpu/lib/python3.7/site-packages/xgboost/core.py:587: FutureWarning: Series.base is deprecated and will be removed in a future version\n",
      "  if getattr(data, 'base', None) is not None and \\\n"
     ]
    },
    {
     "name": "stdout",
     "output_type": "stream",
     "text": [
      "[10:42:13] WARNING: /opt/conda/conda-bld/xgboost_1560800456086/work/src/objective/regression_obj.cu:152: reg:linear is now deprecated in favor of reg:squarederror.\n"
     ]
    },
    {
     "name": "stderr",
     "output_type": "stream",
     "text": [
      "/home/sih13/anaconda3/envs/keras-gpu/lib/python3.7/site-packages/xgboost/core.py:587: FutureWarning: Series.base is deprecated and will be removed in a future version\n",
      "  if getattr(data, 'base', None) is not None and \\\n"
     ]
    },
    {
     "name": "stdout",
     "output_type": "stream",
     "text": [
      "[10:42:20] WARNING: /opt/conda/conda-bld/xgboost_1560800456086/work/src/objective/regression_obj.cu:152: reg:linear is now deprecated in favor of reg:squarederror.\n"
     ]
    },
    {
     "name": "stderr",
     "output_type": "stream",
     "text": [
      "/home/sih13/anaconda3/envs/keras-gpu/lib/python3.7/site-packages/xgboost/core.py:587: FutureWarning: Series.base is deprecated and will be removed in a future version\n",
      "  if getattr(data, 'base', None) is not None and \\\n"
     ]
    },
    {
     "name": "stdout",
     "output_type": "stream",
     "text": [
      "[10:42:27] WARNING: /opt/conda/conda-bld/xgboost_1560800456086/work/src/objective/regression_obj.cu:152: reg:linear is now deprecated in favor of reg:squarederror.\n"
     ]
    },
    {
     "name": "stderr",
     "output_type": "stream",
     "text": [
      "/home/sih13/anaconda3/envs/keras-gpu/lib/python3.7/site-packages/xgboost/core.py:587: FutureWarning: Series.base is deprecated and will be removed in a future version\n",
      "  if getattr(data, 'base', None) is not None and \\\n"
     ]
    },
    {
     "name": "stdout",
     "output_type": "stream",
     "text": [
      "[10:42:35] WARNING: /opt/conda/conda-bld/xgboost_1560800456086/work/src/objective/regression_obj.cu:152: reg:linear is now deprecated in favor of reg:squarederror.\n"
     ]
    },
    {
     "name": "stderr",
     "output_type": "stream",
     "text": [
      "/home/sih13/anaconda3/envs/keras-gpu/lib/python3.7/site-packages/xgboost/core.py:587: FutureWarning: Series.base is deprecated and will be removed in a future version\n",
      "  if getattr(data, 'base', None) is not None and \\\n"
     ]
    },
    {
     "name": "stdout",
     "output_type": "stream",
     "text": [
      "[10:42:42] WARNING: /opt/conda/conda-bld/xgboost_1560800456086/work/src/objective/regression_obj.cu:152: reg:linear is now deprecated in favor of reg:squarederror.\n"
     ]
    },
    {
     "name": "stderr",
     "output_type": "stream",
     "text": [
      "/home/sih13/anaconda3/envs/keras-gpu/lib/python3.7/site-packages/xgboost/core.py:587: FutureWarning: Series.base is deprecated and will be removed in a future version\n",
      "  if getattr(data, 'base', None) is not None and \\\n"
     ]
    },
    {
     "name": "stdout",
     "output_type": "stream",
     "text": [
      "[10:42:50] WARNING: /opt/conda/conda-bld/xgboost_1560800456086/work/src/objective/regression_obj.cu:152: reg:linear is now deprecated in favor of reg:squarederror.\n"
     ]
    },
    {
     "name": "stderr",
     "output_type": "stream",
     "text": [
      "/home/sih13/anaconda3/envs/keras-gpu/lib/python3.7/site-packages/xgboost/core.py:587: FutureWarning: Series.base is deprecated and will be removed in a future version\n",
      "  if getattr(data, 'base', None) is not None and \\\n"
     ]
    },
    {
     "name": "stdout",
     "output_type": "stream",
     "text": [
      "[10:42:58] WARNING: /opt/conda/conda-bld/xgboost_1560800456086/work/src/objective/regression_obj.cu:152: reg:linear is now deprecated in favor of reg:squarederror.\n"
     ]
    },
    {
     "name": "stderr",
     "output_type": "stream",
     "text": [
      "/home/sih13/anaconda3/envs/keras-gpu/lib/python3.7/site-packages/xgboost/core.py:587: FutureWarning: Series.base is deprecated and will be removed in a future version\n",
      "  if getattr(data, 'base', None) is not None and \\\n"
     ]
    },
    {
     "name": "stdout",
     "output_type": "stream",
     "text": [
      "[10:43:05] WARNING: /opt/conda/conda-bld/xgboost_1560800456086/work/src/objective/regression_obj.cu:152: reg:linear is now deprecated in favor of reg:squarederror.\n"
     ]
    },
    {
     "name": "stderr",
     "output_type": "stream",
     "text": [
      "/home/sih13/anaconda3/envs/keras-gpu/lib/python3.7/site-packages/xgboost/core.py:587: FutureWarning: Series.base is deprecated and will be removed in a future version\n",
      "  if getattr(data, 'base', None) is not None and \\\n"
     ]
    },
    {
     "name": "stdout",
     "output_type": "stream",
     "text": [
      "[10:43:12] WARNING: /opt/conda/conda-bld/xgboost_1560800456086/work/src/objective/regression_obj.cu:152: reg:linear is now deprecated in favor of reg:squarederror.\n"
     ]
    },
    {
     "name": "stderr",
     "output_type": "stream",
     "text": [
      "/home/sih13/anaconda3/envs/keras-gpu/lib/python3.7/site-packages/xgboost/core.py:587: FutureWarning: Series.base is deprecated and will be removed in a future version\n",
      "  if getattr(data, 'base', None) is not None and \\\n"
     ]
    },
    {
     "name": "stdout",
     "output_type": "stream",
     "text": [
      "[10:43:20] WARNING: /opt/conda/conda-bld/xgboost_1560800456086/work/src/objective/regression_obj.cu:152: reg:linear is now deprecated in favor of reg:squarederror.\n"
     ]
    },
    {
     "name": "stderr",
     "output_type": "stream",
     "text": [
      "/home/sih13/anaconda3/envs/keras-gpu/lib/python3.7/site-packages/xgboost/core.py:587: FutureWarning: Series.base is deprecated and will be removed in a future version\n",
      "  if getattr(data, 'base', None) is not None and \\\n"
     ]
    },
    {
     "name": "stdout",
     "output_type": "stream",
     "text": [
      "[10:43:27] WARNING: /opt/conda/conda-bld/xgboost_1560800456086/work/src/objective/regression_obj.cu:152: reg:linear is now deprecated in favor of reg:squarederror.\n"
     ]
    },
    {
     "name": "stderr",
     "output_type": "stream",
     "text": [
      "/home/sih13/anaconda3/envs/keras-gpu/lib/python3.7/site-packages/xgboost/core.py:587: FutureWarning: Series.base is deprecated and will be removed in a future version\n",
      "  if getattr(data, 'base', None) is not None and \\\n"
     ]
    },
    {
     "name": "stdout",
     "output_type": "stream",
     "text": [
      "[10:43:35] WARNING: /opt/conda/conda-bld/xgboost_1560800456086/work/src/objective/regression_obj.cu:152: reg:linear is now deprecated in favor of reg:squarederror.\n"
     ]
    },
    {
     "name": "stderr",
     "output_type": "stream",
     "text": [
      "/home/sih13/anaconda3/envs/keras-gpu/lib/python3.7/site-packages/xgboost/core.py:587: FutureWarning: Series.base is deprecated and will be removed in a future version\n",
      "  if getattr(data, 'base', None) is not None and \\\n"
     ]
    },
    {
     "name": "stdout",
     "output_type": "stream",
     "text": [
      "[10:43:42] WARNING: /opt/conda/conda-bld/xgboost_1560800456086/work/src/objective/regression_obj.cu:152: reg:linear is now deprecated in favor of reg:squarederror.\n"
     ]
    },
    {
     "name": "stderr",
     "output_type": "stream",
     "text": [
      "/home/sih13/anaconda3/envs/keras-gpu/lib/python3.7/site-packages/xgboost/core.py:587: FutureWarning: Series.base is deprecated and will be removed in a future version\n",
      "  if getattr(data, 'base', None) is not None and \\\n"
     ]
    },
    {
     "name": "stdout",
     "output_type": "stream",
     "text": [
      "[10:43:49] WARNING: /opt/conda/conda-bld/xgboost_1560800456086/work/src/objective/regression_obj.cu:152: reg:linear is now deprecated in favor of reg:squarederror.\n"
     ]
    },
    {
     "name": "stderr",
     "output_type": "stream",
     "text": [
      "/home/sih13/anaconda3/envs/keras-gpu/lib/python3.7/site-packages/xgboost/core.py:587: FutureWarning: Series.base is deprecated and will be removed in a future version\n",
      "  if getattr(data, 'base', None) is not None and \\\n"
     ]
    },
    {
     "name": "stdout",
     "output_type": "stream",
     "text": [
      "[10:43:57] WARNING: /opt/conda/conda-bld/xgboost_1560800456086/work/src/objective/regression_obj.cu:152: reg:linear is now deprecated in favor of reg:squarederror.\n"
     ]
    },
    {
     "name": "stderr",
     "output_type": "stream",
     "text": [
      "/home/sih13/anaconda3/envs/keras-gpu/lib/python3.7/site-packages/xgboost/core.py:587: FutureWarning: Series.base is deprecated and will be removed in a future version\n",
      "  if getattr(data, 'base', None) is not None and \\\n"
     ]
    },
    {
     "name": "stdout",
     "output_type": "stream",
     "text": [
      "[10:44:04] WARNING: /opt/conda/conda-bld/xgboost_1560800456086/work/src/objective/regression_obj.cu:152: reg:linear is now deprecated in favor of reg:squarederror.\n"
     ]
    },
    {
     "name": "stderr",
     "output_type": "stream",
     "text": [
      "/home/sih13/anaconda3/envs/keras-gpu/lib/python3.7/site-packages/xgboost/core.py:587: FutureWarning: Series.base is deprecated and will be removed in a future version\n",
      "  if getattr(data, 'base', None) is not None and \\\n"
     ]
    },
    {
     "name": "stdout",
     "output_type": "stream",
     "text": [
      "[10:44:12] WARNING: /opt/conda/conda-bld/xgboost_1560800456086/work/src/objective/regression_obj.cu:152: reg:linear is now deprecated in favor of reg:squarederror.\n"
     ]
    },
    {
     "name": "stderr",
     "output_type": "stream",
     "text": [
      "/home/sih13/anaconda3/envs/keras-gpu/lib/python3.7/site-packages/xgboost/core.py:587: FutureWarning: Series.base is deprecated and will be removed in a future version\n",
      "  if getattr(data, 'base', None) is not None and \\\n"
     ]
    },
    {
     "name": "stdout",
     "output_type": "stream",
     "text": [
      "[10:44:21] WARNING: /opt/conda/conda-bld/xgboost_1560800456086/work/src/objective/regression_obj.cu:152: reg:linear is now deprecated in favor of reg:squarederror.\n"
     ]
    },
    {
     "name": "stderr",
     "output_type": "stream",
     "text": [
      "/home/sih13/anaconda3/envs/keras-gpu/lib/python3.7/site-packages/xgboost/core.py:587: FutureWarning: Series.base is deprecated and will be removed in a future version\n",
      "  if getattr(data, 'base', None) is not None and \\\n"
     ]
    },
    {
     "name": "stdout",
     "output_type": "stream",
     "text": [
      "[10:44:30] WARNING: /opt/conda/conda-bld/xgboost_1560800456086/work/src/objective/regression_obj.cu:152: reg:linear is now deprecated in favor of reg:squarederror.\n"
     ]
    },
    {
     "name": "stderr",
     "output_type": "stream",
     "text": [
      "/home/sih13/anaconda3/envs/keras-gpu/lib/python3.7/site-packages/xgboost/core.py:587: FutureWarning: Series.base is deprecated and will be removed in a future version\n",
      "  if getattr(data, 'base', None) is not None and \\\n"
     ]
    },
    {
     "name": "stdout",
     "output_type": "stream",
     "text": [
      "[10:44:39] WARNING: /opt/conda/conda-bld/xgboost_1560800456086/work/src/objective/regression_obj.cu:152: reg:linear is now deprecated in favor of reg:squarederror.\n"
     ]
    },
    {
     "name": "stderr",
     "output_type": "stream",
     "text": [
      "/home/sih13/anaconda3/envs/keras-gpu/lib/python3.7/site-packages/xgboost/core.py:587: FutureWarning: Series.base is deprecated and will be removed in a future version\n",
      "  if getattr(data, 'base', None) is not None and \\\n"
     ]
    },
    {
     "name": "stdout",
     "output_type": "stream",
     "text": [
      "[10:44:48] WARNING: /opt/conda/conda-bld/xgboost_1560800456086/work/src/objective/regression_obj.cu:152: reg:linear is now deprecated in favor of reg:squarederror.\n"
     ]
    },
    {
     "name": "stderr",
     "output_type": "stream",
     "text": [
      "/home/sih13/anaconda3/envs/keras-gpu/lib/python3.7/site-packages/xgboost/core.py:587: FutureWarning: Series.base is deprecated and will be removed in a future version\n",
      "  if getattr(data, 'base', None) is not None and \\\n"
     ]
    },
    {
     "name": "stdout",
     "output_type": "stream",
     "text": [
      "[10:44:56] WARNING: /opt/conda/conda-bld/xgboost_1560800456086/work/src/objective/regression_obj.cu:152: reg:linear is now deprecated in favor of reg:squarederror.\n"
     ]
    },
    {
     "name": "stderr",
     "output_type": "stream",
     "text": [
      "/home/sih13/anaconda3/envs/keras-gpu/lib/python3.7/site-packages/xgboost/core.py:587: FutureWarning: Series.base is deprecated and will be removed in a future version\n",
      "  if getattr(data, 'base', None) is not None and \\\n"
     ]
    },
    {
     "name": "stdout",
     "output_type": "stream",
     "text": [
      "[10:45:04] WARNING: /opt/conda/conda-bld/xgboost_1560800456086/work/src/objective/regression_obj.cu:152: reg:linear is now deprecated in favor of reg:squarederror.\n"
     ]
    },
    {
     "name": "stderr",
     "output_type": "stream",
     "text": [
      "/home/sih13/anaconda3/envs/keras-gpu/lib/python3.7/site-packages/xgboost/core.py:587: FutureWarning: Series.base is deprecated and will be removed in a future version\n",
      "  if getattr(data, 'base', None) is not None and \\\n"
     ]
    },
    {
     "name": "stdout",
     "output_type": "stream",
     "text": [
      "[10:45:14] WARNING: /opt/conda/conda-bld/xgboost_1560800456086/work/src/objective/regression_obj.cu:152: reg:linear is now deprecated in favor of reg:squarederror.\n"
     ]
    },
    {
     "name": "stderr",
     "output_type": "stream",
     "text": [
      "/home/sih13/anaconda3/envs/keras-gpu/lib/python3.7/site-packages/xgboost/core.py:587: FutureWarning: Series.base is deprecated and will be removed in a future version\n",
      "  if getattr(data, 'base', None) is not None and \\\n"
     ]
    },
    {
     "name": "stdout",
     "output_type": "stream",
     "text": [
      "[10:45:23] WARNING: /opt/conda/conda-bld/xgboost_1560800456086/work/src/objective/regression_obj.cu:152: reg:linear is now deprecated in favor of reg:squarederror.\n"
     ]
    },
    {
     "name": "stderr",
     "output_type": "stream",
     "text": [
      "/home/sih13/anaconda3/envs/keras-gpu/lib/python3.7/site-packages/xgboost/core.py:587: FutureWarning: Series.base is deprecated and will be removed in a future version\n",
      "  if getattr(data, 'base', None) is not None and \\\n"
     ]
    },
    {
     "name": "stdout",
     "output_type": "stream",
     "text": [
      "[10:45:32] WARNING: /opt/conda/conda-bld/xgboost_1560800456086/work/src/objective/regression_obj.cu:152: reg:linear is now deprecated in favor of reg:squarederror.\n"
     ]
    },
    {
     "name": "stderr",
     "output_type": "stream",
     "text": [
      "/home/sih13/anaconda3/envs/keras-gpu/lib/python3.7/site-packages/xgboost/core.py:587: FutureWarning: Series.base is deprecated and will be removed in a future version\n",
      "  if getattr(data, 'base', None) is not None and \\\n"
     ]
    },
    {
     "name": "stdout",
     "output_type": "stream",
     "text": [
      "[10:45:41] WARNING: /opt/conda/conda-bld/xgboost_1560800456086/work/src/objective/regression_obj.cu:152: reg:linear is now deprecated in favor of reg:squarederror.\n"
     ]
    },
    {
     "name": "stderr",
     "output_type": "stream",
     "text": [
      "/home/sih13/anaconda3/envs/keras-gpu/lib/python3.7/site-packages/xgboost/core.py:587: FutureWarning: Series.base is deprecated and will be removed in a future version\n",
      "  if getattr(data, 'base', None) is not None and \\\n"
     ]
    },
    {
     "name": "stdout",
     "output_type": "stream",
     "text": [
      "[10:45:50] WARNING: /opt/conda/conda-bld/xgboost_1560800456086/work/src/objective/regression_obj.cu:152: reg:linear is now deprecated in favor of reg:squarederror.\n"
     ]
    },
    {
     "name": "stderr",
     "output_type": "stream",
     "text": [
      "/home/sih13/anaconda3/envs/keras-gpu/lib/python3.7/site-packages/xgboost/core.py:587: FutureWarning: Series.base is deprecated and will be removed in a future version\n",
      "  if getattr(data, 'base', None) is not None and \\\n"
     ]
    },
    {
     "name": "stdout",
     "output_type": "stream",
     "text": [
      "[10:45:59] WARNING: /opt/conda/conda-bld/xgboost_1560800456086/work/src/objective/regression_obj.cu:152: reg:linear is now deprecated in favor of reg:squarederror.\n"
     ]
    },
    {
     "name": "stderr",
     "output_type": "stream",
     "text": [
      "/home/sih13/anaconda3/envs/keras-gpu/lib/python3.7/site-packages/xgboost/core.py:587: FutureWarning: Series.base is deprecated and will be removed in a future version\n",
      "  if getattr(data, 'base', None) is not None and \\\n"
     ]
    },
    {
     "name": "stdout",
     "output_type": "stream",
     "text": [
      "[10:46:08] WARNING: /opt/conda/conda-bld/xgboost_1560800456086/work/src/objective/regression_obj.cu:152: reg:linear is now deprecated in favor of reg:squarederror.\n"
     ]
    },
    {
     "name": "stderr",
     "output_type": "stream",
     "text": [
      "/home/sih13/anaconda3/envs/keras-gpu/lib/python3.7/site-packages/xgboost/core.py:587: FutureWarning: Series.base is deprecated and will be removed in a future version\n",
      "  if getattr(data, 'base', None) is not None and \\\n"
     ]
    },
    {
     "name": "stdout",
     "output_type": "stream",
     "text": [
      "[10:46:16] WARNING: /opt/conda/conda-bld/xgboost_1560800456086/work/src/objective/regression_obj.cu:152: reg:linear is now deprecated in favor of reg:squarederror.\n"
     ]
    },
    {
     "name": "stderr",
     "output_type": "stream",
     "text": [
      "/home/sih13/anaconda3/envs/keras-gpu/lib/python3.7/site-packages/xgboost/core.py:587: FutureWarning: Series.base is deprecated and will be removed in a future version\n",
      "  if getattr(data, 'base', None) is not None and \\\n"
     ]
    },
    {
     "name": "stdout",
     "output_type": "stream",
     "text": [
      "[10:46:25] WARNING: /opt/conda/conda-bld/xgboost_1560800456086/work/src/objective/regression_obj.cu:152: reg:linear is now deprecated in favor of reg:squarederror.\n"
     ]
    },
    {
     "name": "stderr",
     "output_type": "stream",
     "text": [
      "/home/sih13/anaconda3/envs/keras-gpu/lib/python3.7/site-packages/xgboost/core.py:587: FutureWarning: Series.base is deprecated and will be removed in a future version\n",
      "  if getattr(data, 'base', None) is not None and \\\n"
     ]
    },
    {
     "name": "stdout",
     "output_type": "stream",
     "text": [
      "[10:46:33] WARNING: /opt/conda/conda-bld/xgboost_1560800456086/work/src/objective/regression_obj.cu:152: reg:linear is now deprecated in favor of reg:squarederror.\n"
     ]
    },
    {
     "name": "stderr",
     "output_type": "stream",
     "text": [
      "/home/sih13/anaconda3/envs/keras-gpu/lib/python3.7/site-packages/xgboost/core.py:587: FutureWarning: Series.base is deprecated and will be removed in a future version\n",
      "  if getattr(data, 'base', None) is not None and \\\n"
     ]
    },
    {
     "name": "stdout",
     "output_type": "stream",
     "text": [
      "[10:46:41] WARNING: /opt/conda/conda-bld/xgboost_1560800456086/work/src/objective/regression_obj.cu:152: reg:linear is now deprecated in favor of reg:squarederror.\n"
     ]
    },
    {
     "name": "stderr",
     "output_type": "stream",
     "text": [
      "/home/sih13/anaconda3/envs/keras-gpu/lib/python3.7/site-packages/xgboost/core.py:587: FutureWarning: Series.base is deprecated and will be removed in a future version\n",
      "  if getattr(data, 'base', None) is not None and \\\n"
     ]
    },
    {
     "name": "stdout",
     "output_type": "stream",
     "text": [
      "[10:46:50] WARNING: /opt/conda/conda-bld/xgboost_1560800456086/work/src/objective/regression_obj.cu:152: reg:linear is now deprecated in favor of reg:squarederror.\n"
     ]
    },
    {
     "name": "stderr",
     "output_type": "stream",
     "text": [
      "/home/sih13/anaconda3/envs/keras-gpu/lib/python3.7/site-packages/xgboost/core.py:587: FutureWarning: Series.base is deprecated and will be removed in a future version\n",
      "  if getattr(data, 'base', None) is not None and \\\n"
     ]
    },
    {
     "name": "stdout",
     "output_type": "stream",
     "text": [
      "[10:46:58] WARNING: /opt/conda/conda-bld/xgboost_1560800456086/work/src/objective/regression_obj.cu:152: reg:linear is now deprecated in favor of reg:squarederror.\n"
     ]
    },
    {
     "name": "stderr",
     "output_type": "stream",
     "text": [
      "/home/sih13/anaconda3/envs/keras-gpu/lib/python3.7/site-packages/xgboost/core.py:587: FutureWarning: Series.base is deprecated and will be removed in a future version\n",
      "  if getattr(data, 'base', None) is not None and \\\n"
     ]
    },
    {
     "name": "stdout",
     "output_type": "stream",
     "text": [
      "[10:47:06] WARNING: /opt/conda/conda-bld/xgboost_1560800456086/work/src/objective/regression_obj.cu:152: reg:linear is now deprecated in favor of reg:squarederror.\n"
     ]
    },
    {
     "name": "stderr",
     "output_type": "stream",
     "text": [
      "/home/sih13/anaconda3/envs/keras-gpu/lib/python3.7/site-packages/xgboost/core.py:587: FutureWarning: Series.base is deprecated and will be removed in a future version\n",
      "  if getattr(data, 'base', None) is not None and \\\n"
     ]
    },
    {
     "name": "stdout",
     "output_type": "stream",
     "text": [
      "[10:47:14] WARNING: /opt/conda/conda-bld/xgboost_1560800456086/work/src/objective/regression_obj.cu:152: reg:linear is now deprecated in favor of reg:squarederror.\n"
     ]
    },
    {
     "name": "stderr",
     "output_type": "stream",
     "text": [
      "/home/sih13/anaconda3/envs/keras-gpu/lib/python3.7/site-packages/xgboost/core.py:587: FutureWarning: Series.base is deprecated and will be removed in a future version\n",
      "  if getattr(data, 'base', None) is not None and \\\n"
     ]
    },
    {
     "name": "stdout",
     "output_type": "stream",
     "text": [
      "[10:47:22] WARNING: /opt/conda/conda-bld/xgboost_1560800456086/work/src/objective/regression_obj.cu:152: reg:linear is now deprecated in favor of reg:squarederror.\n"
     ]
    },
    {
     "name": "stderr",
     "output_type": "stream",
     "text": [
      "/home/sih13/anaconda3/envs/keras-gpu/lib/python3.7/site-packages/xgboost/core.py:587: FutureWarning: Series.base is deprecated and will be removed in a future version\n",
      "  if getattr(data, 'base', None) is not None and \\\n"
     ]
    },
    {
     "name": "stdout",
     "output_type": "stream",
     "text": [
      "[10:47:30] WARNING: /opt/conda/conda-bld/xgboost_1560800456086/work/src/objective/regression_obj.cu:152: reg:linear is now deprecated in favor of reg:squarederror.\n"
     ]
    },
    {
     "name": "stderr",
     "output_type": "stream",
     "text": [
      "/home/sih13/anaconda3/envs/keras-gpu/lib/python3.7/site-packages/xgboost/core.py:587: FutureWarning: Series.base is deprecated and will be removed in a future version\n",
      "  if getattr(data, 'base', None) is not None and \\\n"
     ]
    },
    {
     "name": "stdout",
     "output_type": "stream",
     "text": [
      "[10:47:38] WARNING: /opt/conda/conda-bld/xgboost_1560800456086/work/src/objective/regression_obj.cu:152: reg:linear is now deprecated in favor of reg:squarederror.\n"
     ]
    },
    {
     "name": "stderr",
     "output_type": "stream",
     "text": [
      "/home/sih13/anaconda3/envs/keras-gpu/lib/python3.7/site-packages/xgboost/core.py:587: FutureWarning: Series.base is deprecated and will be removed in a future version\n",
      "  if getattr(data, 'base', None) is not None and \\\n"
     ]
    },
    {
     "name": "stdout",
     "output_type": "stream",
     "text": [
      "[10:47:47] WARNING: /opt/conda/conda-bld/xgboost_1560800456086/work/src/objective/regression_obj.cu:152: reg:linear is now deprecated in favor of reg:squarederror.\n"
     ]
    },
    {
     "name": "stderr",
     "output_type": "stream",
     "text": [
      "/home/sih13/anaconda3/envs/keras-gpu/lib/python3.7/site-packages/xgboost/core.py:587: FutureWarning: Series.base is deprecated and will be removed in a future version\n",
      "  if getattr(data, 'base', None) is not None and \\\n"
     ]
    },
    {
     "name": "stdout",
     "output_type": "stream",
     "text": [
      "[10:47:54] WARNING: /opt/conda/conda-bld/xgboost_1560800456086/work/src/objective/regression_obj.cu:152: reg:linear is now deprecated in favor of reg:squarederror.\n"
     ]
    },
    {
     "name": "stderr",
     "output_type": "stream",
     "text": [
      "/home/sih13/anaconda3/envs/keras-gpu/lib/python3.7/site-packages/xgboost/core.py:587: FutureWarning: Series.base is deprecated and will be removed in a future version\n",
      "  if getattr(data, 'base', None) is not None and \\\n"
     ]
    },
    {
     "name": "stdout",
     "output_type": "stream",
     "text": [
      "[10:48:03] WARNING: /opt/conda/conda-bld/xgboost_1560800456086/work/src/objective/regression_obj.cu:152: reg:linear is now deprecated in favor of reg:squarederror.\n"
     ]
    },
    {
     "name": "stderr",
     "output_type": "stream",
     "text": [
      "/home/sih13/anaconda3/envs/keras-gpu/lib/python3.7/site-packages/xgboost/core.py:587: FutureWarning: Series.base is deprecated and will be removed in a future version\n",
      "  if getattr(data, 'base', None) is not None and \\\n"
     ]
    },
    {
     "name": "stdout",
     "output_type": "stream",
     "text": [
      "[10:48:11] WARNING: /opt/conda/conda-bld/xgboost_1560800456086/work/src/objective/regression_obj.cu:152: reg:linear is now deprecated in favor of reg:squarederror.\n"
     ]
    },
    {
     "name": "stderr",
     "output_type": "stream",
     "text": [
      "/home/sih13/anaconda3/envs/keras-gpu/lib/python3.7/site-packages/xgboost/core.py:587: FutureWarning: Series.base is deprecated and will be removed in a future version\n",
      "  if getattr(data, 'base', None) is not None and \\\n"
     ]
    },
    {
     "name": "stdout",
     "output_type": "stream",
     "text": [
      "[10:48:19] WARNING: /opt/conda/conda-bld/xgboost_1560800456086/work/src/objective/regression_obj.cu:152: reg:linear is now deprecated in favor of reg:squarederror.\n"
     ]
    },
    {
     "name": "stderr",
     "output_type": "stream",
     "text": [
      "/home/sih13/anaconda3/envs/keras-gpu/lib/python3.7/site-packages/xgboost/core.py:587: FutureWarning: Series.base is deprecated and will be removed in a future version\n",
      "  if getattr(data, 'base', None) is not None and \\\n"
     ]
    },
    {
     "name": "stdout",
     "output_type": "stream",
     "text": [
      "[10:48:29] WARNING: /opt/conda/conda-bld/xgboost_1560800456086/work/src/objective/regression_obj.cu:152: reg:linear is now deprecated in favor of reg:squarederror.\n"
     ]
    },
    {
     "name": "stderr",
     "output_type": "stream",
     "text": [
      "/home/sih13/anaconda3/envs/keras-gpu/lib/python3.7/site-packages/xgboost/core.py:587: FutureWarning: Series.base is deprecated and will be removed in a future version\n",
      "  if getattr(data, 'base', None) is not None and \\\n"
     ]
    },
    {
     "name": "stdout",
     "output_type": "stream",
     "text": [
      "[10:48:38] WARNING: /opt/conda/conda-bld/xgboost_1560800456086/work/src/objective/regression_obj.cu:152: reg:linear is now deprecated in favor of reg:squarederror.\n"
     ]
    },
    {
     "name": "stderr",
     "output_type": "stream",
     "text": [
      "/home/sih13/anaconda3/envs/keras-gpu/lib/python3.7/site-packages/xgboost/core.py:587: FutureWarning: Series.base is deprecated and will be removed in a future version\n",
      "  if getattr(data, 'base', None) is not None and \\\n"
     ]
    },
    {
     "name": "stdout",
     "output_type": "stream",
     "text": [
      "[10:48:48] WARNING: /opt/conda/conda-bld/xgboost_1560800456086/work/src/objective/regression_obj.cu:152: reg:linear is now deprecated in favor of reg:squarederror.\n"
     ]
    },
    {
     "name": "stderr",
     "output_type": "stream",
     "text": [
      "/home/sih13/anaconda3/envs/keras-gpu/lib/python3.7/site-packages/xgboost/core.py:587: FutureWarning: Series.base is deprecated and will be removed in a future version\n",
      "  if getattr(data, 'base', None) is not None and \\\n"
     ]
    },
    {
     "name": "stdout",
     "output_type": "stream",
     "text": [
      "[10:48:58] WARNING: /opt/conda/conda-bld/xgboost_1560800456086/work/src/objective/regression_obj.cu:152: reg:linear is now deprecated in favor of reg:squarederror.\n"
     ]
    },
    {
     "name": "stderr",
     "output_type": "stream",
     "text": [
      "/home/sih13/anaconda3/envs/keras-gpu/lib/python3.7/site-packages/xgboost/core.py:587: FutureWarning: Series.base is deprecated and will be removed in a future version\n",
      "  if getattr(data, 'base', None) is not None and \\\n"
     ]
    },
    {
     "name": "stdout",
     "output_type": "stream",
     "text": [
      "[10:49:08] WARNING: /opt/conda/conda-bld/xgboost_1560800456086/work/src/objective/regression_obj.cu:152: reg:linear is now deprecated in favor of reg:squarederror.\n"
     ]
    },
    {
     "name": "stderr",
     "output_type": "stream",
     "text": [
      "/home/sih13/anaconda3/envs/keras-gpu/lib/python3.7/site-packages/xgboost/core.py:587: FutureWarning: Series.base is deprecated and will be removed in a future version\n",
      "  if getattr(data, 'base', None) is not None and \\\n"
     ]
    },
    {
     "name": "stdout",
     "output_type": "stream",
     "text": [
      "[10:49:18] WARNING: /opt/conda/conda-bld/xgboost_1560800456086/work/src/objective/regression_obj.cu:152: reg:linear is now deprecated in favor of reg:squarederror.\n"
     ]
    },
    {
     "name": "stderr",
     "output_type": "stream",
     "text": [
      "/home/sih13/anaconda3/envs/keras-gpu/lib/python3.7/site-packages/xgboost/core.py:587: FutureWarning: Series.base is deprecated and will be removed in a future version\n",
      "  if getattr(data, 'base', None) is not None and \\\n"
     ]
    },
    {
     "name": "stdout",
     "output_type": "stream",
     "text": [
      "[10:49:28] WARNING: /opt/conda/conda-bld/xgboost_1560800456086/work/src/objective/regression_obj.cu:152: reg:linear is now deprecated in favor of reg:squarederror.\n"
     ]
    },
    {
     "name": "stderr",
     "output_type": "stream",
     "text": [
      "/home/sih13/anaconda3/envs/keras-gpu/lib/python3.7/site-packages/xgboost/core.py:587: FutureWarning: Series.base is deprecated and will be removed in a future version\n",
      "  if getattr(data, 'base', None) is not None and \\\n"
     ]
    },
    {
     "name": "stdout",
     "output_type": "stream",
     "text": [
      "[10:49:38] WARNING: /opt/conda/conda-bld/xgboost_1560800456086/work/src/objective/regression_obj.cu:152: reg:linear is now deprecated in favor of reg:squarederror.\n"
     ]
    },
    {
     "name": "stderr",
     "output_type": "stream",
     "text": [
      "/home/sih13/anaconda3/envs/keras-gpu/lib/python3.7/site-packages/xgboost/core.py:587: FutureWarning: Series.base is deprecated and will be removed in a future version\n",
      "  if getattr(data, 'base', None) is not None and \\\n"
     ]
    },
    {
     "name": "stdout",
     "output_type": "stream",
     "text": [
      "[10:49:48] WARNING: /opt/conda/conda-bld/xgboost_1560800456086/work/src/objective/regression_obj.cu:152: reg:linear is now deprecated in favor of reg:squarederror.\n"
     ]
    },
    {
     "name": "stderr",
     "output_type": "stream",
     "text": [
      "/home/sih13/anaconda3/envs/keras-gpu/lib/python3.7/site-packages/xgboost/core.py:587: FutureWarning: Series.base is deprecated and will be removed in a future version\n",
      "  if getattr(data, 'base', None) is not None and \\\n"
     ]
    },
    {
     "name": "stdout",
     "output_type": "stream",
     "text": [
      "[10:49:58] WARNING: /opt/conda/conda-bld/xgboost_1560800456086/work/src/objective/regression_obj.cu:152: reg:linear is now deprecated in favor of reg:squarederror.\n"
     ]
    },
    {
     "name": "stderr",
     "output_type": "stream",
     "text": [
      "/home/sih13/anaconda3/envs/keras-gpu/lib/python3.7/site-packages/xgboost/core.py:587: FutureWarning: Series.base is deprecated and will be removed in a future version\n",
      "  if getattr(data, 'base', None) is not None and \\\n"
     ]
    },
    {
     "name": "stdout",
     "output_type": "stream",
     "text": [
      "[10:50:07] WARNING: /opt/conda/conda-bld/xgboost_1560800456086/work/src/objective/regression_obj.cu:152: reg:linear is now deprecated in favor of reg:squarederror.\n"
     ]
    },
    {
     "name": "stderr",
     "output_type": "stream",
     "text": [
      "/home/sih13/anaconda3/envs/keras-gpu/lib/python3.7/site-packages/xgboost/core.py:587: FutureWarning: Series.base is deprecated and will be removed in a future version\n",
      "  if getattr(data, 'base', None) is not None and \\\n"
     ]
    },
    {
     "name": "stdout",
     "output_type": "stream",
     "text": [
      "[10:50:16] WARNING: /opt/conda/conda-bld/xgboost_1560800456086/work/src/objective/regression_obj.cu:152: reg:linear is now deprecated in favor of reg:squarederror.\n"
     ]
    },
    {
     "name": "stderr",
     "output_type": "stream",
     "text": [
      "/home/sih13/anaconda3/envs/keras-gpu/lib/python3.7/site-packages/xgboost/core.py:587: FutureWarning: Series.base is deprecated and will be removed in a future version\n",
      "  if getattr(data, 'base', None) is not None and \\\n"
     ]
    },
    {
     "name": "stdout",
     "output_type": "stream",
     "text": [
      "[10:50:25] WARNING: /opt/conda/conda-bld/xgboost_1560800456086/work/src/objective/regression_obj.cu:152: reg:linear is now deprecated in favor of reg:squarederror.\n"
     ]
    },
    {
     "name": "stderr",
     "output_type": "stream",
     "text": [
      "/home/sih13/anaconda3/envs/keras-gpu/lib/python3.7/site-packages/xgboost/core.py:587: FutureWarning: Series.base is deprecated and will be removed in a future version\n",
      "  if getattr(data, 'base', None) is not None and \\\n"
     ]
    },
    {
     "name": "stdout",
     "output_type": "stream",
     "text": [
      "[10:50:34] WARNING: /opt/conda/conda-bld/xgboost_1560800456086/work/src/objective/regression_obj.cu:152: reg:linear is now deprecated in favor of reg:squarederror.\n"
     ]
    },
    {
     "name": "stderr",
     "output_type": "stream",
     "text": [
      "/home/sih13/anaconda3/envs/keras-gpu/lib/python3.7/site-packages/xgboost/core.py:587: FutureWarning: Series.base is deprecated and will be removed in a future version\n",
      "  if getattr(data, 'base', None) is not None and \\\n"
     ]
    },
    {
     "name": "stdout",
     "output_type": "stream",
     "text": [
      "[10:50:44] WARNING: /opt/conda/conda-bld/xgboost_1560800456086/work/src/objective/regression_obj.cu:152: reg:linear is now deprecated in favor of reg:squarederror.\n"
     ]
    },
    {
     "name": "stderr",
     "output_type": "stream",
     "text": [
      "/home/sih13/anaconda3/envs/keras-gpu/lib/python3.7/site-packages/xgboost/core.py:587: FutureWarning: Series.base is deprecated and will be removed in a future version\n",
      "  if getattr(data, 'base', None) is not None and \\\n"
     ]
    },
    {
     "name": "stdout",
     "output_type": "stream",
     "text": [
      "[10:50:53] WARNING: /opt/conda/conda-bld/xgboost_1560800456086/work/src/objective/regression_obj.cu:152: reg:linear is now deprecated in favor of reg:squarederror.\n"
     ]
    },
    {
     "name": "stderr",
     "output_type": "stream",
     "text": [
      "/home/sih13/anaconda3/envs/keras-gpu/lib/python3.7/site-packages/xgboost/core.py:587: FutureWarning: Series.base is deprecated and will be removed in a future version\n",
      "  if getattr(data, 'base', None) is not None and \\\n"
     ]
    },
    {
     "name": "stdout",
     "output_type": "stream",
     "text": [
      "[10:51:03] WARNING: /opt/conda/conda-bld/xgboost_1560800456086/work/src/objective/regression_obj.cu:152: reg:linear is now deprecated in favor of reg:squarederror.\n"
     ]
    },
    {
     "name": "stderr",
     "output_type": "stream",
     "text": [
      "/home/sih13/anaconda3/envs/keras-gpu/lib/python3.7/site-packages/xgboost/core.py:587: FutureWarning: Series.base is deprecated and will be removed in a future version\n",
      "  if getattr(data, 'base', None) is not None and \\\n"
     ]
    },
    {
     "name": "stdout",
     "output_type": "stream",
     "text": [
      "[10:51:12] WARNING: /opt/conda/conda-bld/xgboost_1560800456086/work/src/objective/regression_obj.cu:152: reg:linear is now deprecated in favor of reg:squarederror.\n"
     ]
    },
    {
     "name": "stderr",
     "output_type": "stream",
     "text": [
      "/home/sih13/anaconda3/envs/keras-gpu/lib/python3.7/site-packages/xgboost/core.py:587: FutureWarning: Series.base is deprecated and will be removed in a future version\n",
      "  if getattr(data, 'base', None) is not None and \\\n"
     ]
    },
    {
     "name": "stdout",
     "output_type": "stream",
     "text": [
      "[10:51:21] WARNING: /opt/conda/conda-bld/xgboost_1560800456086/work/src/objective/regression_obj.cu:152: reg:linear is now deprecated in favor of reg:squarederror.\n"
     ]
    },
    {
     "name": "stderr",
     "output_type": "stream",
     "text": [
      "/home/sih13/anaconda3/envs/keras-gpu/lib/python3.7/site-packages/xgboost/core.py:587: FutureWarning: Series.base is deprecated and will be removed in a future version\n",
      "  if getattr(data, 'base', None) is not None and \\\n"
     ]
    },
    {
     "name": "stdout",
     "output_type": "stream",
     "text": [
      "[10:51:31] WARNING: /opt/conda/conda-bld/xgboost_1560800456086/work/src/objective/regression_obj.cu:152: reg:linear is now deprecated in favor of reg:squarederror.\n"
     ]
    },
    {
     "name": "stderr",
     "output_type": "stream",
     "text": [
      "/home/sih13/anaconda3/envs/keras-gpu/lib/python3.7/site-packages/xgboost/core.py:587: FutureWarning: Series.base is deprecated and will be removed in a future version\n",
      "  if getattr(data, 'base', None) is not None and \\\n"
     ]
    },
    {
     "name": "stdout",
     "output_type": "stream",
     "text": [
      "[10:51:40] WARNING: /opt/conda/conda-bld/xgboost_1560800456086/work/src/objective/regression_obj.cu:152: reg:linear is now deprecated in favor of reg:squarederror.\n"
     ]
    },
    {
     "name": "stderr",
     "output_type": "stream",
     "text": [
      "/home/sih13/anaconda3/envs/keras-gpu/lib/python3.7/site-packages/xgboost/core.py:587: FutureWarning: Series.base is deprecated and will be removed in a future version\n",
      "  if getattr(data, 'base', None) is not None and \\\n"
     ]
    },
    {
     "name": "stdout",
     "output_type": "stream",
     "text": [
      "[10:51:49] WARNING: /opt/conda/conda-bld/xgboost_1560800456086/work/src/objective/regression_obj.cu:152: reg:linear is now deprecated in favor of reg:squarederror.\n"
     ]
    },
    {
     "name": "stderr",
     "output_type": "stream",
     "text": [
      "/home/sih13/anaconda3/envs/keras-gpu/lib/python3.7/site-packages/xgboost/core.py:587: FutureWarning: Series.base is deprecated and will be removed in a future version\n",
      "  if getattr(data, 'base', None) is not None and \\\n"
     ]
    },
    {
     "name": "stdout",
     "output_type": "stream",
     "text": [
      "[10:51:58] WARNING: /opt/conda/conda-bld/xgboost_1560800456086/work/src/objective/regression_obj.cu:152: reg:linear is now deprecated in favor of reg:squarederror.\n"
     ]
    },
    {
     "name": "stderr",
     "output_type": "stream",
     "text": [
      "/home/sih13/anaconda3/envs/keras-gpu/lib/python3.7/site-packages/xgboost/core.py:587: FutureWarning: Series.base is deprecated and will be removed in a future version\n",
      "  if getattr(data, 'base', None) is not None and \\\n"
     ]
    },
    {
     "name": "stdout",
     "output_type": "stream",
     "text": [
      "[10:52:07] WARNING: /opt/conda/conda-bld/xgboost_1560800456086/work/src/objective/regression_obj.cu:152: reg:linear is now deprecated in favor of reg:squarederror.\n"
     ]
    },
    {
     "name": "stderr",
     "output_type": "stream",
     "text": [
      "/home/sih13/anaconda3/envs/keras-gpu/lib/python3.7/site-packages/xgboost/core.py:587: FutureWarning: Series.base is deprecated and will be removed in a future version\n",
      "  if getattr(data, 'base', None) is not None and \\\n"
     ]
    },
    {
     "name": "stdout",
     "output_type": "stream",
     "text": [
      "[10:52:16] WARNING: /opt/conda/conda-bld/xgboost_1560800456086/work/src/objective/regression_obj.cu:152: reg:linear is now deprecated in favor of reg:squarederror.\n"
     ]
    },
    {
     "name": "stderr",
     "output_type": "stream",
     "text": [
      "/home/sih13/anaconda3/envs/keras-gpu/lib/python3.7/site-packages/xgboost/core.py:587: FutureWarning: Series.base is deprecated and will be removed in a future version\n",
      "  if getattr(data, 'base', None) is not None and \\\n"
     ]
    },
    {
     "name": "stdout",
     "output_type": "stream",
     "text": [
      "[10:52:25] WARNING: /opt/conda/conda-bld/xgboost_1560800456086/work/src/objective/regression_obj.cu:152: reg:linear is now deprecated in favor of reg:squarederror.\n"
     ]
    },
    {
     "name": "stderr",
     "output_type": "stream",
     "text": [
      "/home/sih13/anaconda3/envs/keras-gpu/lib/python3.7/site-packages/xgboost/core.py:587: FutureWarning: Series.base is deprecated and will be removed in a future version\n",
      "  if getattr(data, 'base', None) is not None and \\\n"
     ]
    },
    {
     "name": "stdout",
     "output_type": "stream",
     "text": [
      "[10:52:34] WARNING: /opt/conda/conda-bld/xgboost_1560800456086/work/src/objective/regression_obj.cu:152: reg:linear is now deprecated in favor of reg:squarederror.\n"
     ]
    },
    {
     "name": "stderr",
     "output_type": "stream",
     "text": [
      "/home/sih13/anaconda3/envs/keras-gpu/lib/python3.7/site-packages/xgboost/core.py:587: FutureWarning: Series.base is deprecated and will be removed in a future version\n",
      "  if getattr(data, 'base', None) is not None and \\\n"
     ]
    },
    {
     "name": "stdout",
     "output_type": "stream",
     "text": [
      "[10:52:44] WARNING: /opt/conda/conda-bld/xgboost_1560800456086/work/src/objective/regression_obj.cu:152: reg:linear is now deprecated in favor of reg:squarederror.\n"
     ]
    },
    {
     "name": "stderr",
     "output_type": "stream",
     "text": [
      "/home/sih13/anaconda3/envs/keras-gpu/lib/python3.7/site-packages/xgboost/core.py:587: FutureWarning: Series.base is deprecated and will be removed in a future version\n",
      "  if getattr(data, 'base', None) is not None and \\\n"
     ]
    },
    {
     "name": "stdout",
     "output_type": "stream",
     "text": [
      "[10:52:53] WARNING: /opt/conda/conda-bld/xgboost_1560800456086/work/src/objective/regression_obj.cu:152: reg:linear is now deprecated in favor of reg:squarederror.\n"
     ]
    },
    {
     "name": "stderr",
     "output_type": "stream",
     "text": [
      "/home/sih13/anaconda3/envs/keras-gpu/lib/python3.7/site-packages/sklearn/model_selection/_search.py:814: DeprecationWarning: The default of the `iid` parameter will change from True to False in version 0.22 and will be removed in 0.24. This will change numeric results when test-set sizes are unequal.\n",
      "  DeprecationWarning)\n",
      "/home/sih13/anaconda3/envs/keras-gpu/lib/python3.7/site-packages/xgboost/core.py:587: FutureWarning: Series.base is deprecated and will be removed in a future version\n",
      "  if getattr(data, 'base', None) is not None and \\\n",
      "/home/sih13/anaconda3/envs/keras-gpu/lib/python3.7/site-packages/xgboost/core.py:588: FutureWarning: Series.base is deprecated and will be removed in a future version\n",
      "  data.base is not None and isinstance(data, np.ndarray) \\\n"
     ]
    },
    {
     "name": "stdout",
     "output_type": "stream",
     "text": [
      "[10:53:02] WARNING: /opt/conda/conda-bld/xgboost_1560800456086/work/src/objective/regression_obj.cu:152: reg:linear is now deprecated in favor of reg:squarederror.\n",
      "{'max_depth': 10, 'min_child_weight': 500, 'subsample': 0.6, 'tree_method': 'gpu_hist'} with score -0.8415075370796499\n"
     ]
    }
   ],
   "source": [
    "### GridSearchCV, run separately, use only subset of the data to cv, get the best paras for xgboost,\n",
    "\n",
    "baseline_features = ['shop_id', 'item_id', 'item_category_id', 'date_block_num'] +  added_features + ['target']\n",
    "\n",
    "\n",
    "train_time_range_lo = (train_test_together['date_block_num'] >= 20)\n",
    "train_time_range_hi =  (train_test_together['date_block_num'] <= 33)\n",
    "\n",
    "final_trainset = train_test_together[train_time_range_lo & train_time_range_hi]\n",
    "\n",
    "\n",
    "group_kfold = GroupKFold(n_splits=5)\n",
    "\n",
    "groups = final_trainset['date_block_num']\n",
    "\n",
    "X = final_trainset[baseline_features].copy()\n",
    "y = final_trainset[\"target\"].copy()\n",
    "X.drop(\"target\", axis=1, inplace=True)\n",
    "\n",
    "_grid_cv =[]\n",
    "\n",
    "for train_index, test_index in group_kfold.split(X, y, groups):\n",
    "    _grid_cv.append((train_index, test_index))\n",
    "\n",
    "    \n",
    "xgb_parameters = {'subsample': [0.6, 0.8], \"max_depth\": [6, 8, 10], \"min_child_weight\": [100, 300, 500], \"tree_method\": [\"gpu_hist\"]}\n",
    "\n",
    "model = xgb.XGBRegressor()\n",
    "\n",
    "rmse_score = make_scorer(rmse, greater_is_better = False)\n",
    "\n",
    "\n",
    "gs = GridSearchCV(model, xgb_parameters, scoring='neg_mean_squared_error', cv = _grid_cv)\n",
    "gs.fit(train_x, train_y)\n",
    "\n",
    "print(gs.best_params_, \"with score\", gs.best_score_)\n"
   ]
  },
  {
   "cell_type": "markdown",
   "metadata": {},
   "source": []
  },
  {
   "cell_type": "markdown",
   "metadata": {},
   "source": [
    "catboost, a failed attempt, only 1.070510 in public LB"
   ]
  },
  {
   "cell_type": "code",
   "execution_count": 5,
   "metadata": {},
   "outputs": [
    {
     "name": "stderr",
     "output_type": "stream",
     "text": [
      "/home/sih13/anaconda3/envs/keras-gpu/lib/python3.7/site-packages/pandas/core/frame.py:4117: SettingWithCopyWarning: \n",
      "A value is trying to be set on a copy of a slice from a DataFrame\n",
      "\n",
      "See the caveats in the documentation: http://pandas.pydata.org/pandas-docs/stable/user_guide/indexing.html#returning-a-view-versus-a-copy\n",
      "  errors=errors,\n",
      "Warning: less than 75% gpu memory available for training. Free: 4761.6875 Total: 8119.5625\n"
     ]
    },
    {
     "name": "stdout",
     "output_type": "stream",
     "text": [
      "0:\tlearn: 1.0648196\ttest: 1.0712486\tbest: 1.0712486 (0)\ttotal: 1.88s\tremaining: 31m 13s\n",
      "1:\tlearn: 0.9743031\ttest: 1.0412185\tbest: 1.0412185 (1)\ttotal: 3.61s\tremaining: 30m 3s\n",
      "2:\tlearn: 0.9100514\ttest: 1.0308648\tbest: 1.0308648 (2)\ttotal: 5.39s\tremaining: 29m 50s\n",
      "3:\tlearn: 0.8649944\ttest: 1.0357954\tbest: 1.0308648 (2)\ttotal: 7.22s\tremaining: 29m 57s\n",
      "4:\tlearn: 0.8386426\ttest: 1.0408307\tbest: 1.0308648 (2)\ttotal: 9.05s\tremaining: 30m 1s\n",
      "5:\tlearn: 0.8222604\ttest: 1.0392334\tbest: 1.0308648 (2)\ttotal: 11.2s\tremaining: 30m 56s\n",
      "6:\tlearn: 0.8113003\ttest: 1.0392960\tbest: 1.0308648 (2)\ttotal: 12.7s\tremaining: 30m 7s\n",
      "7:\tlearn: 0.8004221\ttest: 1.0372094\tbest: 1.0308648 (2)\ttotal: 14.5s\tremaining: 29m 56s\n",
      "8:\tlearn: 0.7925702\ttest: 1.0331744\tbest: 1.0308648 (2)\ttotal: 16.1s\tremaining: 29m 30s\n",
      "9:\tlearn: 0.7874512\ttest: 1.0299050\tbest: 1.0299050 (9)\ttotal: 18.2s\tremaining: 29m 58s\n",
      "10:\tlearn: 0.7827014\ttest: 1.0301690\tbest: 1.0299050 (9)\ttotal: 19.9s\tremaining: 29m 47s\n",
      "11:\tlearn: 0.7793931\ttest: 1.0285802\tbest: 1.0285802 (11)\ttotal: 21.8s\tremaining: 29m 57s\n",
      "12:\tlearn: 0.7745834\ttest: 1.0290458\tbest: 1.0285802 (11)\ttotal: 23.9s\tremaining: 30m 17s\n",
      "13:\tlearn: 0.7711664\ttest: 1.0262486\tbest: 1.0262486 (13)\ttotal: 25.8s\tremaining: 30m 14s\n",
      "14:\tlearn: 0.7689225\ttest: 1.0245099\tbest: 1.0245099 (14)\ttotal: 27.1s\tremaining: 29m 37s\n",
      "15:\tlearn: 0.7661665\ttest: 1.0236131\tbest: 1.0236131 (15)\ttotal: 28.7s\tremaining: 29m 26s\n",
      "16:\tlearn: 0.7640810\ttest: 1.0201993\tbest: 1.0201993 (16)\ttotal: 30s\tremaining: 28m 57s\n",
      "17:\tlearn: 0.7594972\ttest: 1.0211207\tbest: 1.0201993 (16)\ttotal: 31.6s\tremaining: 28m 46s\n",
      "18:\tlearn: 0.7582845\ttest: 1.0199285\tbest: 1.0199285 (18)\ttotal: 33.2s\tremaining: 28m 31s\n",
      "19:\tlearn: 0.7563986\ttest: 1.0217374\tbest: 1.0199285 (18)\ttotal: 34.8s\tremaining: 28m 26s\n",
      "20:\tlearn: 0.7543826\ttest: 1.0199741\tbest: 1.0199285 (18)\ttotal: 36.8s\tremaining: 28m 33s\n",
      "21:\tlearn: 0.7532134\ttest: 1.0184974\tbest: 1.0184974 (21)\ttotal: 38.6s\tremaining: 28m 35s\n",
      "22:\tlearn: 0.7519408\ttest: 1.0171038\tbest: 1.0171038 (22)\ttotal: 39.6s\tremaining: 28m 1s\n",
      "23:\tlearn: 0.7503026\ttest: 1.0163983\tbest: 1.0163983 (23)\ttotal: 41.9s\tremaining: 28m 24s\n",
      "24:\tlearn: 0.7484984\ttest: 1.0149202\tbest: 1.0149202 (24)\ttotal: 43.8s\tremaining: 28m 27s\n",
      "25:\tlearn: 0.7476534\ttest: 1.0141147\tbest: 1.0141147 (25)\ttotal: 45s\tremaining: 28m 6s\n",
      "26:\tlearn: 0.7458403\ttest: 1.0128437\tbest: 1.0128437 (26)\ttotal: 46.6s\tremaining: 27m 59s\n",
      "27:\tlearn: 0.7448335\ttest: 1.0092737\tbest: 1.0092737 (27)\ttotal: 48.5s\tremaining: 28m 5s\n",
      "28:\tlearn: 0.7413298\ttest: 1.0075090\tbest: 1.0075090 (28)\ttotal: 50.2s\tremaining: 28m\n",
      "29:\tlearn: 0.7405406\ttest: 1.0076026\tbest: 1.0075090 (28)\ttotal: 52.1s\tremaining: 28m 3s\n",
      "30:\tlearn: 0.7390732\ttest: 1.0074831\tbest: 1.0074831 (30)\ttotal: 53.3s\tremaining: 27m 47s\n",
      "31:\tlearn: 0.7376628\ttest: 1.0080608\tbest: 1.0074831 (30)\ttotal: 55.3s\tremaining: 27m 53s\n",
      "32:\tlearn: 0.7355669\ttest: 1.0077723\tbest: 1.0074831 (30)\ttotal: 56.9s\tremaining: 27m 46s\n",
      "33:\tlearn: 0.7349104\ttest: 1.0074454\tbest: 1.0074454 (33)\ttotal: 58.3s\tremaining: 27m 35s\n",
      "34:\tlearn: 0.7341680\ttest: 1.0068908\tbest: 1.0068908 (34)\ttotal: 1m\tremaining: 27m 38s\n",
      "35:\tlearn: 0.7331983\ttest: 1.0048492\tbest: 1.0048492 (35)\ttotal: 1m 1s\tremaining: 27m 31s\n",
      "36:\tlearn: 0.7321165\ttest: 1.0036906\tbest: 1.0036906 (36)\ttotal: 1m 3s\tremaining: 27m 31s\n",
      "37:\tlearn: 0.7313480\ttest: 1.0021480\tbest: 1.0021480 (37)\ttotal: 1m 4s\tremaining: 27m 24s\n",
      "38:\tlearn: 0.7297220\ttest: 1.0012385\tbest: 1.0012385 (38)\ttotal: 1m 7s\tremaining: 27m 33s\n",
      "39:\tlearn: 0.7267673\ttest: 0.9972817\tbest: 0.9972817 (39)\ttotal: 1m 8s\tremaining: 27m 34s\n",
      "40:\tlearn: 0.7260707\ttest: 0.9969898\tbest: 0.9969898 (40)\ttotal: 1m 10s\tremaining: 27m 30s\n",
      "41:\tlearn: 0.7254314\ttest: 0.9956184\tbest: 0.9956184 (41)\ttotal: 1m 11s\tremaining: 27m 12s\n",
      "42:\tlearn: 0.7243963\ttest: 0.9932877\tbest: 0.9932877 (42)\ttotal: 1m 13s\tremaining: 27m 8s\n",
      "43:\tlearn: 0.7176492\ttest: 0.9931997\tbest: 0.9931997 (43)\ttotal: 1m 14s\tremaining: 27m 7s\n",
      "44:\tlearn: 0.7162150\ttest: 0.9924951\tbest: 0.9924951 (44)\ttotal: 1m 16s\tremaining: 26m 55s\n",
      "45:\tlearn: 0.7151169\ttest: 0.9927572\tbest: 0.9924951 (44)\ttotal: 1m 17s\tremaining: 26m 42s\n",
      "46:\tlearn: 0.7143573\ttest: 0.9923534\tbest: 0.9923534 (46)\ttotal: 1m 18s\tremaining: 26m 39s\n",
      "47:\tlearn: 0.7137755\ttest: 0.9919547\tbest: 0.9919547 (47)\ttotal: 1m 20s\tremaining: 26m 38s\n",
      "48:\tlearn: 0.7126677\ttest: 0.9916411\tbest: 0.9916411 (48)\ttotal: 1m 22s\tremaining: 26m 37s\n",
      "49:\tlearn: 0.7119327\ttest: 0.9910570\tbest: 0.9910570 (49)\ttotal: 1m 23s\tremaining: 26m 24s\n",
      "50:\tlearn: 0.7112299\ttest: 0.9910214\tbest: 0.9910214 (50)\ttotal: 1m 24s\tremaining: 26m 14s\n",
      "51:\tlearn: 0.7092776\ttest: 0.9911016\tbest: 0.9910214 (50)\ttotal: 1m 26s\tremaining: 26m 12s\n",
      "52:\tlearn: 0.7083544\ttest: 0.9919014\tbest: 0.9910214 (50)\ttotal: 1m 27s\tremaining: 26m 10s\n",
      "53:\tlearn: 0.7079696\ttest: 0.9905955\tbest: 0.9905955 (53)\ttotal: 1m 29s\tremaining: 26m 3s\n",
      "54:\tlearn: 0.7048844\ttest: 0.9899221\tbest: 0.9899221 (54)\ttotal: 1m 31s\tremaining: 26m 7s\n",
      "55:\tlearn: 0.7039472\ttest: 0.9880729\tbest: 0.9880729 (55)\ttotal: 1m 32s\tremaining: 25m 54s\n",
      "56:\tlearn: 0.7031401\ttest: 0.9880174\tbest: 0.9880174 (56)\ttotal: 1m 34s\tremaining: 25m 57s\n",
      "57:\tlearn: 0.7023732\ttest: 0.9873940\tbest: 0.9873940 (57)\ttotal: 1m 35s\tremaining: 25m 52s\n",
      "58:\tlearn: 0.7018382\ttest: 0.9874692\tbest: 0.9873940 (57)\ttotal: 1m 37s\tremaining: 25m 48s\n",
      "59:\tlearn: 0.7002194\ttest: 0.9876763\tbest: 0.9873940 (57)\ttotal: 1m 38s\tremaining: 25m 46s\n",
      "60:\tlearn: 0.6979766\ttest: 0.9887293\tbest: 0.9873940 (57)\ttotal: 1m 40s\tremaining: 25m 42s\n",
      "61:\tlearn: 0.6972670\ttest: 0.9891492\tbest: 0.9873940 (57)\ttotal: 1m 41s\tremaining: 25m 39s\n",
      "62:\tlearn: 0.6966033\ttest: 0.9891314\tbest: 0.9873940 (57)\ttotal: 1m 43s\tremaining: 25m 38s\n",
      "63:\tlearn: 0.6951227\ttest: 0.9892241\tbest: 0.9873940 (57)\ttotal: 1m 45s\tremaining: 25m 42s\n",
      "64:\tlearn: 0.6946168\ttest: 0.9891527\tbest: 0.9873940 (57)\ttotal: 1m 46s\tremaining: 25m 33s\n",
      "65:\tlearn: 0.6939732\ttest: 0.9891215\tbest: 0.9873940 (57)\ttotal: 1m 48s\tremaining: 25m 28s\n",
      "66:\tlearn: 0.6934613\ttest: 0.9890306\tbest: 0.9873940 (57)\ttotal: 1m 50s\tremaining: 25m 37s\n",
      "67:\tlearn: 0.6930846\ttest: 0.9891685\tbest: 0.9873940 (57)\ttotal: 1m 51s\tremaining: 25m 28s\n",
      "bestTest = 0.9873939811\n",
      "bestIteration = 57\n",
      "Shrink model to first 58 iterations.\n"
     ]
    },
    {
     "data": {
      "text/plain": [
       "<catboost.core.CatBoostRegressor at 0x7feb4caa7a90>"
      ]
     },
     "execution_count": 5,
     "metadata": {},
     "output_type": "execute_result"
    }
   ],
   "source": [
    "### train the model with 6 ... 32, validate on 33, enable gpu\n",
    "\n",
    "\n",
    "\n",
    "baseline_features = ['shop_id', 'item_id', 'item_category_id', 'date_block_num'] +  added_features + ['target']\n",
    "\n",
    "\n",
    "train_time_range_lo = (train_test_together['date_block_num'] >= 6)\n",
    "train_time_range_hi =  (train_test_together['date_block_num'] <= 32)\n",
    "\n",
    "\n",
    "final_trainset = train_test_together[train_time_range_lo & train_time_range_hi]\n",
    "\n",
    "train_x = final_trainset[baseline_features]\n",
    "train_y = final_trainset[\"target\"]\n",
    "train_x.drop(\"target\", axis=1, inplace=True)\n",
    "\n",
    "\n",
    "val_time = (train_test_together['date_block_num'] == 33)\n",
    "\n",
    "final_trainset = train_test_together[val_time]\n",
    "\n",
    "\n",
    "val_x = final_trainset[baseline_features]\n",
    "val_y = final_trainset[\"target\"]\n",
    "val_x.drop(\"target\", axis=1, inplace=True)\n",
    "\n",
    "\n",
    "\n",
    "#model = xgb.XGBRegressor(max_depth = 8, min_child_weight=300, subsample = 0.8, eta = 0.3, seed = 43, nthread = 16, tree_method=\"gpu_hist\")\n",
    "model = CatBoostRegressor(bootstrap_type=\"Bernoulli\", max_depth = 8, subsample = 0.8, eta = 0.3, eval_metric = 'RMSE', task_type=\"GPU\",)\n",
    "\n",
    "\n",
    "#model.fit(train_x, train_y)\n",
    "model.fit(\n",
    "    train_x, train_y, early_stopping_rounds = 10,\n",
    "    #eval_metric=\"rmse\", \n",
    "    #eval_set=[(train_x, train_y), (val_x, val_y)],\n",
    "    eval_set=(val_x, val_y),\n",
    "    use_best_model = True,\n",
    "    cat_features = ['shop_id', 'item_id', 'item_category_id']\n",
    "\n",
    "    )\n"
   ]
  },
  {
   "cell_type": "code",
   "execution_count": 6,
   "metadata": {},
   "outputs": [
    {
     "name": "stderr",
     "output_type": "stream",
     "text": [
      "/home/sih13/anaconda3/envs/keras-gpu/lib/python3.7/site-packages/pandas/core/frame.py:4117: SettingWithCopyWarning: \n",
      "A value is trying to be set on a copy of a slice from a DataFrame\n",
      "\n",
      "See the caveats in the documentation: http://pandas.pydata.org/pandas-docs/stable/user_guide/indexing.html#returning-a-view-versus-a-copy\n",
      "  errors=errors,\n"
     ]
    }
   ],
   "source": [
    "test_time =  (train_test_together['date_block_num'] == 34)\n",
    "\n",
    "testset = train_test_together[test_time]\n",
    "\n",
    "\n",
    "test_x = testset[baseline_features]\n",
    "#train_x = cv_trainset[baseline_features]\n",
    "test_x.drop(\"target\", axis=1, inplace=True)\n",
    "\n",
    "\n",
    "preds = model.predict(test_x).clip(0, 20)\n",
    "\n",
    "df = pd.DataFrame(preds, columns = ['item_cnt_month'])\n",
    "df.index.name='ID'\n",
    "\n",
    "\n",
    "df.to_csv('catboost_gpu_my_preds.csv')"
   ]
  },
  {
   "cell_type": "code",
   "execution_count": null,
   "metadata": {},
   "outputs": [],
   "source": []
  },
  {
   "cell_type": "markdown",
   "metadata": {},
   "source": [
    "Stacking, didn't work, only 1.191728"
   ]
  },
  {
   "cell_type": "code",
   "execution_count": 4,
   "metadata": {},
   "outputs": [
    {
     "name": "stderr",
     "output_type": "stream",
     "text": [
      "/home/sih13/anaconda3/envs/keras-gpu/lib/python3.7/site-packages/pandas/core/frame.py:4117: SettingWithCopyWarning: \n",
      "A value is trying to be set on a copy of a slice from a DataFrame\n",
      "\n",
      "See the caveats in the documentation: http://pandas.pydata.org/pandas-docs/stable/user_guide/indexing.html#returning-a-view-versus-a-copy\n",
      "  errors=errors,\n"
     ]
    }
   ],
   "source": [
    "### construct train_1\n",
    "\n",
    "baseline_features = ['shop_id', 'item_id', 'item_category_id', 'date_block_num'] +  added_features + ['target']\n",
    "\n",
    "\n",
    "train_time_range_lo = (train_test_together['date_block_num'] >= 6)\n",
    "train_time_range_hi =  (train_test_together['date_block_num'] <= 31)\n",
    "\n",
    "\n",
    "final_trainset = train_test_together[train_time_range_lo & train_time_range_hi]\n",
    "\n",
    "train_x = final_trainset[baseline_features]\n",
    "train_y = final_trainset[\"target\"]\n",
    "train_x.drop(\"target\", axis=1, inplace=True)\n",
    "\n",
    "\n",
    "val_time = (train_test_together['date_block_num'] == 32)\n",
    "\n",
    "final_trainset = train_test_together[val_time]\n",
    "\n",
    "\n",
    "val_x = final_trainset[baseline_features]\n",
    "val_y = final_trainset[\"target\"]\n",
    "val_x.drop(\"target\", axis=1, inplace=True)\n",
    "\n",
    "\n",
    "\n",
    "\n",
    "test_time = (train_test_together['date_block_num'] == 33)\n",
    "\n",
    "final_trainset = train_test_together[test_time]\n",
    "\n",
    "\n",
    "test_x = final_trainset[baseline_features]\n",
    "test_y = final_trainset[\"target\"]\n",
    "test_x.drop(\"target\", axis=1, inplace=True)"
   ]
  },
  {
   "cell_type": "code",
   "execution_count": 5,
   "metadata": {},
   "outputs": [
    {
     "name": "stderr",
     "output_type": "stream",
     "text": [
      "/home/sih13/anaconda3/envs/keras-gpu/lib/python3.7/site-packages/xgboost/core.py:587: FutureWarning: Series.base is deprecated and will be removed in a future version\n",
      "  if getattr(data, 'base', None) is not None and \\\n",
      "/home/sih13/anaconda3/envs/keras-gpu/lib/python3.7/site-packages/xgboost/core.py:588: FutureWarning: Series.base is deprecated and will be removed in a future version\n",
      "  data.base is not None and isinstance(data, np.ndarray) \\\n"
     ]
    },
    {
     "name": "stdout",
     "output_type": "stream",
     "text": [
      "[12:40:13] WARNING: /opt/conda/conda-bld/xgboost_1560800456086/work/src/objective/regression_obj.cu:152: reg:linear is now deprecated in favor of reg:squarederror.\n",
      "[0]\tvalidation_0-rmse:1.18812\tvalidation_1-rmse:1.13406\n",
      "Multiple eval metrics have been passed: 'validation_1-rmse' will be used for early stopping.\n",
      "\n",
      "Will train until validation_1-rmse hasn't improved in 10 rounds.\n",
      "[1]\tvalidation_0-rmse:1.14237\tvalidation_1-rmse:1.09739\n",
      "[2]\tvalidation_0-rmse:1.10358\tvalidation_1-rmse:1.0657\n",
      "[3]\tvalidation_0-rmse:1.06967\tvalidation_1-rmse:1.03722\n",
      "[4]\tvalidation_0-rmse:1.04112\tvalidation_1-rmse:1.0138\n",
      "[5]\tvalidation_0-rmse:1.0175\tvalidation_1-rmse:0.994013\n",
      "[6]\tvalidation_0-rmse:0.997803\tvalidation_1-rmse:0.978144\n",
      "[7]\tvalidation_0-rmse:0.980733\tvalidation_1-rmse:0.964325\n",
      "[8]\tvalidation_0-rmse:0.966012\tvalidation_1-rmse:0.951743\n",
      "[9]\tvalidation_0-rmse:0.953709\tvalidation_1-rmse:0.941424\n",
      "[10]\tvalidation_0-rmse:0.943907\tvalidation_1-rmse:0.933691\n",
      "[11]\tvalidation_0-rmse:0.935348\tvalidation_1-rmse:0.927341\n",
      "[12]\tvalidation_0-rmse:0.928008\tvalidation_1-rmse:0.9228\n",
      "[13]\tvalidation_0-rmse:0.921829\tvalidation_1-rmse:0.917826\n",
      "[14]\tvalidation_0-rmse:0.916084\tvalidation_1-rmse:0.913933\n",
      "[15]\tvalidation_0-rmse:0.910559\tvalidation_1-rmse:0.909866\n",
      "[16]\tvalidation_0-rmse:0.90661\tvalidation_1-rmse:0.907623\n",
      "[17]\tvalidation_0-rmse:0.902279\tvalidation_1-rmse:0.90413\n",
      "[18]\tvalidation_0-rmse:0.898416\tvalidation_1-rmse:0.901828\n",
      "[19]\tvalidation_0-rmse:0.895427\tvalidation_1-rmse:0.899365\n",
      "[20]\tvalidation_0-rmse:0.892624\tvalidation_1-rmse:0.897835\n",
      "[21]\tvalidation_0-rmse:0.890266\tvalidation_1-rmse:0.89636\n",
      "[22]\tvalidation_0-rmse:0.887825\tvalidation_1-rmse:0.895113\n",
      "[23]\tvalidation_0-rmse:0.886011\tvalidation_1-rmse:0.893843\n",
      "[24]\tvalidation_0-rmse:0.884198\tvalidation_1-rmse:0.893278\n",
      "[25]\tvalidation_0-rmse:0.882512\tvalidation_1-rmse:0.892139\n",
      "[26]\tvalidation_0-rmse:0.880634\tvalidation_1-rmse:0.891561\n",
      "[27]\tvalidation_0-rmse:0.879392\tvalidation_1-rmse:0.891421\n",
      "[28]\tvalidation_0-rmse:0.878193\tvalidation_1-rmse:0.890939\n",
      "[29]\tvalidation_0-rmse:0.876753\tvalidation_1-rmse:0.890071\n",
      "[30]\tvalidation_0-rmse:0.875624\tvalidation_1-rmse:0.889683\n",
      "[31]\tvalidation_0-rmse:0.87431\tvalidation_1-rmse:0.889666\n",
      "[32]\tvalidation_0-rmse:0.873297\tvalidation_1-rmse:0.889396\n",
      "[33]\tvalidation_0-rmse:0.872074\tvalidation_1-rmse:0.889193\n",
      "[34]\tvalidation_0-rmse:0.871204\tvalidation_1-rmse:0.888307\n",
      "[35]\tvalidation_0-rmse:0.870537\tvalidation_1-rmse:0.888159\n",
      "[36]\tvalidation_0-rmse:0.869618\tvalidation_1-rmse:0.887722\n",
      "[37]\tvalidation_0-rmse:0.868942\tvalidation_1-rmse:0.887614\n",
      "[38]\tvalidation_0-rmse:0.868066\tvalidation_1-rmse:0.887491\n",
      "[39]\tvalidation_0-rmse:0.867469\tvalidation_1-rmse:0.887659\n",
      "[40]\tvalidation_0-rmse:0.866794\tvalidation_1-rmse:0.887332\n",
      "[41]\tvalidation_0-rmse:0.866147\tvalidation_1-rmse:0.887393\n",
      "[42]\tvalidation_0-rmse:0.865771\tvalidation_1-rmse:0.887464\n",
      "[43]\tvalidation_0-rmse:0.86507\tvalidation_1-rmse:0.887244\n",
      "[44]\tvalidation_0-rmse:0.864471\tvalidation_1-rmse:0.887266\n",
      "[45]\tvalidation_0-rmse:0.863866\tvalidation_1-rmse:0.887119\n",
      "[46]\tvalidation_0-rmse:0.862858\tvalidation_1-rmse:0.88709\n",
      "[47]\tvalidation_0-rmse:0.862441\tvalidation_1-rmse:0.88706\n",
      "[48]\tvalidation_0-rmse:0.86208\tvalidation_1-rmse:0.887088\n",
      "[49]\tvalidation_0-rmse:0.861604\tvalidation_1-rmse:0.887021\n",
      "[50]\tvalidation_0-rmse:0.860756\tvalidation_1-rmse:0.887123\n",
      "[51]\tvalidation_0-rmse:0.86043\tvalidation_1-rmse:0.887085\n",
      "[52]\tvalidation_0-rmse:0.859987\tvalidation_1-rmse:0.88693\n",
      "[53]\tvalidation_0-rmse:0.859477\tvalidation_1-rmse:0.886877\n",
      "[54]\tvalidation_0-rmse:0.859154\tvalidation_1-rmse:0.886877\n",
      "[55]\tvalidation_0-rmse:0.858556\tvalidation_1-rmse:0.887241\n",
      "[56]\tvalidation_0-rmse:0.858115\tvalidation_1-rmse:0.886934\n",
      "[57]\tvalidation_0-rmse:0.857894\tvalidation_1-rmse:0.886786\n",
      "[58]\tvalidation_0-rmse:0.857706\tvalidation_1-rmse:0.88681\n",
      "[59]\tvalidation_0-rmse:0.857519\tvalidation_1-rmse:0.886857\n",
      "[60]\tvalidation_0-rmse:0.857217\tvalidation_1-rmse:0.886757\n",
      "[61]\tvalidation_0-rmse:0.856816\tvalidation_1-rmse:0.88701\n",
      "[62]\tvalidation_0-rmse:0.856586\tvalidation_1-rmse:0.886908\n",
      "[63]\tvalidation_0-rmse:0.856307\tvalidation_1-rmse:0.886813\n",
      "[64]\tvalidation_0-rmse:0.855959\tvalidation_1-rmse:0.88686\n",
      "[65]\tvalidation_0-rmse:0.855693\tvalidation_1-rmse:0.88674\n",
      "[66]\tvalidation_0-rmse:0.855142\tvalidation_1-rmse:0.887066\n",
      "[67]\tvalidation_0-rmse:0.854629\tvalidation_1-rmse:0.887017\n",
      "[68]\tvalidation_0-rmse:0.854436\tvalidation_1-rmse:0.886926\n",
      "[69]\tvalidation_0-rmse:0.854138\tvalidation_1-rmse:0.886897\n",
      "[70]\tvalidation_0-rmse:0.853815\tvalidation_1-rmse:0.886729\n",
      "[71]\tvalidation_0-rmse:0.853478\tvalidation_1-rmse:0.886268\n",
      "[72]\tvalidation_0-rmse:0.852644\tvalidation_1-rmse:0.885909\n",
      "[73]\tvalidation_0-rmse:0.852354\tvalidation_1-rmse:0.885935\n",
      "[74]\tvalidation_0-rmse:0.852025\tvalidation_1-rmse:0.886294\n",
      "[75]\tvalidation_0-rmse:0.8517\tvalidation_1-rmse:0.88619\n",
      "[76]\tvalidation_0-rmse:0.85057\tvalidation_1-rmse:0.885919\n",
      "[77]\tvalidation_0-rmse:0.850297\tvalidation_1-rmse:0.886076\n",
      "[78]\tvalidation_0-rmse:0.849648\tvalidation_1-rmse:0.886119\n",
      "[79]\tvalidation_0-rmse:0.849276\tvalidation_1-rmse:0.885973\n",
      "[80]\tvalidation_0-rmse:0.849111\tvalidation_1-rmse:0.886007\n",
      "[81]\tvalidation_0-rmse:0.848891\tvalidation_1-rmse:0.885977\n",
      "[82]\tvalidation_0-rmse:0.848569\tvalidation_1-rmse:0.886139\n",
      "Stopping. Best iteration:\n",
      "[72]\tvalidation_0-rmse:0.852644\tvalidation_1-rmse:0.885909\n",
      "\n"
     ]
    }
   ],
   "source": [
    "\"\"\"\n",
    "\n",
    "best paras from gridsearchcv, codes are at the end of the notebook\n",
    "{'max_depth': 10, 'min_child_weight': 500, 'subsample': 0.6, 'tree_method': 'gpu_hist'} \n",
    "with score -0.8415075370796499\n",
    "\"\"\"\n",
    "\n",
    "\n",
    "#model = xgb.XGBRegressor(max_depth = 8, min_child_weight=300, subsample = 0.8, eta = 0.3, seed = 43, nthread = 16, tree_method=\"gpu_hist\")\n",
    "model_xgb = xgb.XGBRegressor(max_depth = 10, min_child_weight=500, subsample = 0.6, eta = 0.3, tree_method=\"gpu_hist\")\n",
    "\n",
    "\n",
    "#model.fit(train_x, train_y)\n",
    "model_xgb.fit(\n",
    "    train_x, train_y, early_stopping_rounds = 10,\n",
    "    eval_metric=\"rmse\", \n",
    "    eval_set=[(train_x, train_y), (val_x, val_y)]\n",
    "\n",
    "    )\n",
    "\n",
    "with open(r\"./xgboost_for_stacking.m\", \"wb\") as output_file:\n",
    "    #cPickle.dump(d, output_file)\n",
    "\n",
    "    pickle.dump(model_xgb, output_file)\n",
    "    \n",
    "#### predict 34\n",
    "\n",
    "\n",
    "preds = model_xgb.predict(test_x).clip(0, 20)\n",
    "\n",
    "df_xgb = pd.DataFrame(preds, columns = ['item_cnt_month'])\n",
    "df_xgb.index.name='ID'\n",
    "\n",
    "\n",
    "df_xgb.to_csv('xgboost_for_stacking.csv')"
   ]
  },
  {
   "cell_type": "code",
   "execution_count": 6,
   "metadata": {},
   "outputs": [],
   "source": []
  },
  {
   "cell_type": "code",
   "execution_count": 7,
   "metadata": {},
   "outputs": [],
   "source": []
  },
  {
   "cell_type": "code",
   "execution_count": 6,
   "metadata": {},
   "outputs": [],
   "source": [
    "### linear regression\n",
    "\n",
    "model_lr = LinearRegression()\n",
    "\n",
    "\n",
    "#model.fit(train_x, train_y)\n",
    "model_lr.fit(train_x.values, train_y)\n",
    "\n",
    "\n",
    "#### predict 34\n",
    "with open(r\"./lr_for_stacking.m\", \"wb\") as output_file:\n",
    "    #cPickle.dump(d, output_file)\n",
    "\n",
    "    pickle.dump(model_lr, output_file)\n",
    "\n",
    "\n",
    "\n",
    "preds = model_lr.predict(test_x).clip(0, 20)\n",
    "\n",
    "df_lr = pd.DataFrame(preds, columns = ['item_cnt_month'])\n",
    "df_lr.index.name='ID'\n",
    "\n",
    "\n",
    "df_lr.to_csv('lr_for_stacking.csv')"
   ]
  },
  {
   "cell_type": "code",
   "execution_count": 9,
   "metadata": {},
   "outputs": [],
   "source": []
  },
  {
   "cell_type": "code",
   "execution_count": 10,
   "metadata": {},
   "outputs": [],
   "source": []
  },
  {
   "cell_type": "code",
   "execution_count": 7,
   "metadata": {},
   "outputs": [],
   "source": [
    "df_xgb.rename(columns = {\"item_cnt_month\": \"xgb\"}, inplace = True)\n",
    "df_lr.rename(columns = {\"item_cnt_month\": \"lr\"}, inplace = True)\n",
    "df_level_2 = df_lr.join(df_xgb)"
   ]
  },
  {
   "cell_type": "code",
   "execution_count": 19,
   "metadata": {},
   "outputs": [],
   "source": []
  },
  {
   "cell_type": "code",
   "execution_count": 8,
   "metadata": {},
   "outputs": [
    {
     "name": "stderr",
     "output_type": "stream",
     "text": [
      "/home/sih13/anaconda3/envs/keras-gpu/lib/python3.7/site-packages/sklearn/linear_model/logistic.py:432: FutureWarning: Default solver will be changed to 'lbfgs' in 0.22. Specify a solver to silence this warning.\n",
      "  FutureWarning)\n",
      "/home/sih13/anaconda3/envs/keras-gpu/lib/python3.7/site-packages/sklearn/linear_model/logistic.py:469: FutureWarning: Default multi_class will be changed to 'auto' in 0.22. Specify the multi_class option to silence this warning.\n",
      "  \"this warning.\", FutureWarning)\n"
     ]
    }
   ],
   "source": [
    "stacker = LogisticRegression().fit(df_level_2, test_y)"
   ]
  },
  {
   "cell_type": "code",
   "execution_count": 9,
   "metadata": {},
   "outputs": [
    {
     "name": "stderr",
     "output_type": "stream",
     "text": [
      "/home/sih13/anaconda3/envs/keras-gpu/lib/python3.7/site-packages/pandas/core/frame.py:4117: SettingWithCopyWarning: \n",
      "A value is trying to be set on a copy of a slice from a DataFrame\n",
      "\n",
      "See the caveats in the documentation: http://pandas.pydata.org/pandas-docs/stable/user_guide/indexing.html#returning-a-view-versus-a-copy\n",
      "  errors=errors,\n"
     ]
    }
   ],
   "source": [
    "test_time = (train_test_together['date_block_num'] == 34)\n",
    "\n",
    "final_trainset = train_test_together[test_time]\n",
    "\n",
    "\n",
    "test_x = final_trainset[baseline_features]\n",
    "test_y = final_trainset[\"target\"]\n",
    "test_x.drop(\"target\", axis=1, inplace=True)\n",
    "\n",
    "\n",
    "\n",
    "preds = model_xgb.predict(test_x).clip(0, 20)\n",
    "\n",
    "df_xgb = pd.DataFrame(preds, columns = ['item_cnt_month'])\n",
    "df_xgb.index.name='ID'\n",
    "\n",
    "\n",
    "preds = model_lr.predict(test_x).clip(0, 20)\n",
    "\n",
    "df_lr = pd.DataFrame(preds, columns = ['item_cnt_month'])\n",
    "df_lr.index.name='ID'\n",
    "\n",
    "df_xgb.rename(columns = {\"item_cnt_month\": \"xgb\"}, inplace = True)\n",
    "df_lr.rename(columns = {\"item_cnt_month\": \"lr\"}, inplace = True)\n",
    "\n",
    "df_level_2 = df_lr.join(df_xgb)\n",
    "#df_xgb.to_csv('xgboost_for_stacking.csv')\n",
    "\n",
    "\n",
    "preds = stacker.predict(df_level_2).clip(0, 20)\n",
    "\n",
    "df_stacker = pd.DataFrame(preds, columns = ['item_cnt_month'])\n",
    "df_stacker.index.name='ID'\n",
    "\n",
    "\n",
    "df_stacker.to_csv('stacking_out.csv')\n"
   ]
  },
  {
   "cell_type": "code",
   "execution_count": null,
   "metadata": {},
   "outputs": [],
   "source": []
  }
 ],
 "metadata": {
  "kernelspec": {
   "display_name": "Python 3",
   "language": "python",
   "name": "python3"
  },
  "language_info": {
   "codemirror_mode": {
    "name": "ipython",
    "version": 3
   },
   "file_extension": ".py",
   "mimetype": "text/x-python",
   "name": "python",
   "nbconvert_exporter": "python",
   "pygments_lexer": "ipython3",
   "version": "3.7.5"
  }
 },
 "nbformat": 4,
 "nbformat_minor": 2
}
